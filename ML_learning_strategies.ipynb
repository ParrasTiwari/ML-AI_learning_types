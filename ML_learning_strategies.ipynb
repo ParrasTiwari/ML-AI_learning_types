{
  "cells": [
    {
      "cell_type": "markdown",
      "metadata": {
        "id": "rmm9iDYVzXMI"
      },
      "source": [
        "## Part 1\n",
        "### Dataset management"
      ]
    },
    {
      "cell_type": "code",
      "execution_count": null,
      "metadata": {
        "colab": {
          "base_uri": "https://localhost:8080/",
          "height": 206
        },
        "id": "s71R6KbExCr8",
        "outputId": "17ef16a1-268b-4aaf-9cb9-3a9c1a3630dd"
      },
      "outputs": [
        {
          "output_type": "execute_result",
          "data": {
            "text/plain": [
              "    patient_id                                            disease  \\\n",
              "0  NCT03188185                              28:35:chronic_disease   \n",
              "1  NCT03188185                              46:49:chronic_disease   \n",
              "2  NCT03188185  50:62:chronic_disease,64:75:chronic_disease,80...   \n",
              "3  NCT03188185  14:49:treatment,61:73:upper_bound,96:99:treatm...   \n",
              "4  NCT03188185  10:25:treatment,31:38:treatment,40:49:treatmen...   \n",
              "\n",
              "                                         description  \n",
              "0                 Has a significant risk for suicide  \n",
              "1  Has any current primary diagnosis other than M...  \n",
              "2  Has any other significant medical condition (e...  \n",
              "3  Has received electroconvulsive therapy treatme...  \n",
              "4  Has used opioid agonists (eg, codeine, oxycodo...  "
            ],
            "text/html": [
              "\n",
              "  <div id=\"df-e23c7d57-bdb8-46ef-97d8-737bae815cb1\" class=\"colab-df-container\">\n",
              "    <div>\n",
              "<style scoped>\n",
              "    .dataframe tbody tr th:only-of-type {\n",
              "        vertical-align: middle;\n",
              "    }\n",
              "\n",
              "    .dataframe tbody tr th {\n",
              "        vertical-align: top;\n",
              "    }\n",
              "\n",
              "    .dataframe thead th {\n",
              "        text-align: right;\n",
              "    }\n",
              "</style>\n",
              "<table border=\"1\" class=\"dataframe\">\n",
              "  <thead>\n",
              "    <tr style=\"text-align: right;\">\n",
              "      <th></th>\n",
              "      <th>patient_id</th>\n",
              "      <th>disease</th>\n",
              "      <th>description</th>\n",
              "    </tr>\n",
              "  </thead>\n",
              "  <tbody>\n",
              "    <tr>\n",
              "      <th>0</th>\n",
              "      <td>NCT03188185</td>\n",
              "      <td>28:35:chronic_disease</td>\n",
              "      <td>Has a significant risk for suicide</td>\n",
              "    </tr>\n",
              "    <tr>\n",
              "      <th>1</th>\n",
              "      <td>NCT03188185</td>\n",
              "      <td>46:49:chronic_disease</td>\n",
              "      <td>Has any current primary diagnosis other than M...</td>\n",
              "    </tr>\n",
              "    <tr>\n",
              "      <th>2</th>\n",
              "      <td>NCT03188185</td>\n",
              "      <td>50:62:chronic_disease,64:75:chronic_disease,80...</td>\n",
              "      <td>Has any other significant medical condition (e...</td>\n",
              "    </tr>\n",
              "    <tr>\n",
              "      <th>3</th>\n",
              "      <td>NCT03188185</td>\n",
              "      <td>14:49:treatment,61:73:upper_bound,96:99:treatm...</td>\n",
              "      <td>Has received electroconvulsive therapy treatme...</td>\n",
              "    </tr>\n",
              "    <tr>\n",
              "      <th>4</th>\n",
              "      <td>NCT03188185</td>\n",
              "      <td>10:25:treatment,31:38:treatment,40:49:treatmen...</td>\n",
              "      <td>Has used opioid agonists (eg, codeine, oxycodo...</td>\n",
              "    </tr>\n",
              "  </tbody>\n",
              "</table>\n",
              "</div>\n",
              "    <div class=\"colab-df-buttons\">\n",
              "\n",
              "  <div class=\"colab-df-container\">\n",
              "    <button class=\"colab-df-convert\" onclick=\"convertToInteractive('df-e23c7d57-bdb8-46ef-97d8-737bae815cb1')\"\n",
              "            title=\"Convert this dataframe to an interactive table.\"\n",
              "            style=\"display:none;\">\n",
              "\n",
              "  <svg xmlns=\"http://www.w3.org/2000/svg\" height=\"24px\" viewBox=\"0 -960 960 960\">\n",
              "    <path d=\"M120-120v-720h720v720H120Zm60-500h600v-160H180v160Zm220 220h160v-160H400v160Zm0 220h160v-160H400v160ZM180-400h160v-160H180v160Zm440 0h160v-160H620v160ZM180-180h160v-160H180v160Zm440 0h160v-160H620v160Z\"/>\n",
              "  </svg>\n",
              "    </button>\n",
              "\n",
              "  <style>\n",
              "    .colab-df-container {\n",
              "      display:flex;\n",
              "      gap: 12px;\n",
              "    }\n",
              "\n",
              "    .colab-df-convert {\n",
              "      background-color: #E8F0FE;\n",
              "      border: none;\n",
              "      border-radius: 50%;\n",
              "      cursor: pointer;\n",
              "      display: none;\n",
              "      fill: #1967D2;\n",
              "      height: 32px;\n",
              "      padding: 0 0 0 0;\n",
              "      width: 32px;\n",
              "    }\n",
              "\n",
              "    .colab-df-convert:hover {\n",
              "      background-color: #E2EBFA;\n",
              "      box-shadow: 0px 1px 2px rgba(60, 64, 67, 0.3), 0px 1px 3px 1px rgba(60, 64, 67, 0.15);\n",
              "      fill: #174EA6;\n",
              "    }\n",
              "\n",
              "    .colab-df-buttons div {\n",
              "      margin-bottom: 4px;\n",
              "    }\n",
              "\n",
              "    [theme=dark] .colab-df-convert {\n",
              "      background-color: #3B4455;\n",
              "      fill: #D2E3FC;\n",
              "    }\n",
              "\n",
              "    [theme=dark] .colab-df-convert:hover {\n",
              "      background-color: #434B5C;\n",
              "      box-shadow: 0px 1px 3px 1px rgba(0, 0, 0, 0.15);\n",
              "      filter: drop-shadow(0px 1px 2px rgba(0, 0, 0, 0.3));\n",
              "      fill: #FFFFFF;\n",
              "    }\n",
              "  </style>\n",
              "\n",
              "    <script>\n",
              "      const buttonEl =\n",
              "        document.querySelector('#df-e23c7d57-bdb8-46ef-97d8-737bae815cb1 button.colab-df-convert');\n",
              "      buttonEl.style.display =\n",
              "        google.colab.kernel.accessAllowed ? 'block' : 'none';\n",
              "\n",
              "      async function convertToInteractive(key) {\n",
              "        const element = document.querySelector('#df-e23c7d57-bdb8-46ef-97d8-737bae815cb1');\n",
              "        const dataTable =\n",
              "          await google.colab.kernel.invokeFunction('convertToInteractive',\n",
              "                                                    [key], {});\n",
              "        if (!dataTable) return;\n",
              "\n",
              "        const docLinkHtml = 'Like what you see? Visit the ' +\n",
              "          '<a target=\"_blank\" href=https://colab.research.google.com/notebooks/data_table.ipynb>data table notebook</a>'\n",
              "          + ' to learn more about interactive tables.';\n",
              "        element.innerHTML = '';\n",
              "        dataTable['output_type'] = 'display_data';\n",
              "        await google.colab.output.renderOutput(dataTable, element);\n",
              "        const docLink = document.createElement('div');\n",
              "        docLink.innerHTML = docLinkHtml;\n",
              "        element.appendChild(docLink);\n",
              "      }\n",
              "    </script>\n",
              "  </div>\n",
              "\n",
              "\n",
              "<div id=\"df-7e76f8b3-0aea-4338-8526-2a91e500bcee\">\n",
              "  <button class=\"colab-df-quickchart\" onclick=\"quickchart('df-7e76f8b3-0aea-4338-8526-2a91e500bcee')\"\n",
              "            title=\"Suggest charts.\"\n",
              "            style=\"display:none;\">\n",
              "\n",
              "<svg xmlns=\"http://www.w3.org/2000/svg\" height=\"24px\"viewBox=\"0 0 24 24\"\n",
              "     width=\"24px\">\n",
              "    <g>\n",
              "        <path d=\"M19 3H5c-1.1 0-2 .9-2 2v14c0 1.1.9 2 2 2h14c1.1 0 2-.9 2-2V5c0-1.1-.9-2-2-2zM9 17H7v-7h2v7zm4 0h-2V7h2v10zm4 0h-2v-4h2v4z\"/>\n",
              "    </g>\n",
              "</svg>\n",
              "  </button>\n",
              "\n",
              "<style>\n",
              "  .colab-df-quickchart {\n",
              "      --bg-color: #E8F0FE;\n",
              "      --fill-color: #1967D2;\n",
              "      --hover-bg-color: #E2EBFA;\n",
              "      --hover-fill-color: #174EA6;\n",
              "      --disabled-fill-color: #AAA;\n",
              "      --disabled-bg-color: #DDD;\n",
              "  }\n",
              "\n",
              "  [theme=dark] .colab-df-quickchart {\n",
              "      --bg-color: #3B4455;\n",
              "      --fill-color: #D2E3FC;\n",
              "      --hover-bg-color: #434B5C;\n",
              "      --hover-fill-color: #FFFFFF;\n",
              "      --disabled-bg-color: #3B4455;\n",
              "      --disabled-fill-color: #666;\n",
              "  }\n",
              "\n",
              "  .colab-df-quickchart {\n",
              "    background-color: var(--bg-color);\n",
              "    border: none;\n",
              "    border-radius: 50%;\n",
              "    cursor: pointer;\n",
              "    display: none;\n",
              "    fill: var(--fill-color);\n",
              "    height: 32px;\n",
              "    padding: 0;\n",
              "    width: 32px;\n",
              "  }\n",
              "\n",
              "  .colab-df-quickchart:hover {\n",
              "    background-color: var(--hover-bg-color);\n",
              "    box-shadow: 0 1px 2px rgba(60, 64, 67, 0.3), 0 1px 3px 1px rgba(60, 64, 67, 0.15);\n",
              "    fill: var(--button-hover-fill-color);\n",
              "  }\n",
              "\n",
              "  .colab-df-quickchart-complete:disabled,\n",
              "  .colab-df-quickchart-complete:disabled:hover {\n",
              "    background-color: var(--disabled-bg-color);\n",
              "    fill: var(--disabled-fill-color);\n",
              "    box-shadow: none;\n",
              "  }\n",
              "\n",
              "  .colab-df-spinner {\n",
              "    border: 2px solid var(--fill-color);\n",
              "    border-color: transparent;\n",
              "    border-bottom-color: var(--fill-color);\n",
              "    animation:\n",
              "      spin 1s steps(1) infinite;\n",
              "  }\n",
              "\n",
              "  @keyframes spin {\n",
              "    0% {\n",
              "      border-color: transparent;\n",
              "      border-bottom-color: var(--fill-color);\n",
              "      border-left-color: var(--fill-color);\n",
              "    }\n",
              "    20% {\n",
              "      border-color: transparent;\n",
              "      border-left-color: var(--fill-color);\n",
              "      border-top-color: var(--fill-color);\n",
              "    }\n",
              "    30% {\n",
              "      border-color: transparent;\n",
              "      border-left-color: var(--fill-color);\n",
              "      border-top-color: var(--fill-color);\n",
              "      border-right-color: var(--fill-color);\n",
              "    }\n",
              "    40% {\n",
              "      border-color: transparent;\n",
              "      border-right-color: var(--fill-color);\n",
              "      border-top-color: var(--fill-color);\n",
              "    }\n",
              "    60% {\n",
              "      border-color: transparent;\n",
              "      border-right-color: var(--fill-color);\n",
              "    }\n",
              "    80% {\n",
              "      border-color: transparent;\n",
              "      border-right-color: var(--fill-color);\n",
              "      border-bottom-color: var(--fill-color);\n",
              "    }\n",
              "    90% {\n",
              "      border-color: transparent;\n",
              "      border-bottom-color: var(--fill-color);\n",
              "    }\n",
              "  }\n",
              "</style>\n",
              "\n",
              "  <script>\n",
              "    async function quickchart(key) {\n",
              "      const quickchartButtonEl =\n",
              "        document.querySelector('#' + key + ' button');\n",
              "      quickchartButtonEl.disabled = true;  // To prevent multiple clicks.\n",
              "      quickchartButtonEl.classList.add('colab-df-spinner');\n",
              "      try {\n",
              "        const charts = await google.colab.kernel.invokeFunction(\n",
              "            'suggestCharts', [key], {});\n",
              "      } catch (error) {\n",
              "        console.error('Error during call to suggestCharts:', error);\n",
              "      }\n",
              "      quickchartButtonEl.classList.remove('colab-df-spinner');\n",
              "      quickchartButtonEl.classList.add('colab-df-quickchart-complete');\n",
              "    }\n",
              "    (() => {\n",
              "      let quickchartButtonEl =\n",
              "        document.querySelector('#df-7e76f8b3-0aea-4338-8526-2a91e500bcee button');\n",
              "      quickchartButtonEl.style.display =\n",
              "        google.colab.kernel.accessAllowed ? 'block' : 'none';\n",
              "    })();\n",
              "  </script>\n",
              "</div>\n",
              "    </div>\n",
              "  </div>\n"
            ]
          },
          "metadata": {},
          "execution_count": 5
        }
      ],
      "source": [
        "medical_ner = pd.read_csv('Clinical-Trial-Parser/data/ner/medical_ner.tsv', delimiter='\\t',header=None,\n",
        "                          names=['patient_id','disease','description'])\n",
        "medical_ner.head()"
      ]
    },
    {
      "cell_type": "markdown",
      "metadata": {
        "id": "cQqk4WH2zcg5"
      },
      "source": [
        "#### (a) Simplify the task: Create a simpler task with four entity types"
      ]
    },
    {
      "cell_type": "code",
      "execution_count": null,
      "metadata": {
        "id": "QI1hHqBVzLI-"
      },
      "outputs": [],
      "source": [
        "treatment=[]\n",
        "chronic=[]\n",
        "cancer=[]\n",
        "allergy=[]\n",
        "\n",
        "for i in range(0,len(medical_ner)):\n",
        "  diss = medical_ner.iloc[i]['disease'].split(':')\n",
        "  flag_treat = flag_chronic = flag_cancer = flag_allergy = 0\n",
        "  for dis in diss:\n",
        "    if 'treatment' in dis.split(','):\n",
        "      flag_treat = 1\n",
        "    if 'chronic_disease' in dis.split(','):\n",
        "      flag_chronic = 1\n",
        "    if 'cancer' in dis.split(','):\n",
        "      flag_cancer = 1\n",
        "    if 'allergy_name' in dis.split(','):\n",
        "      flag_allergy = 1\n",
        "  if(flag_treat):\n",
        "    treatment.append(i)\n",
        "  if(flag_chronic):\n",
        "    chronic.append(i)\n",
        "  if(flag_cancer):\n",
        "    cancer.append(i)\n",
        "  if(flag_allergy):\n",
        "    allergy.append(i)\n"
      ]
    },
    {
      "cell_type": "code",
      "execution_count": null,
      "metadata": {
        "id": "-Ri3qPY0-GCF"
      },
      "outputs": [],
      "source": [
        "disease_set = set()\n",
        "disease_set = disease_set.union(set(treatment),set(chronic),set(cancer),set(allergy))\n",
        "all = set(i for i in range(0,len(medical_ner)))\n",
        "oth = all-disease_set\n",
        "\n",
        "other = list(oth)"
      ]
    },
    {
      "cell_type": "markdown",
      "metadata": {
        "id": "2xp1STHrwVw6"
      },
      "source": [
        "#### (b) saving files in json format"
      ]
    },
    {
      "cell_type": "code",
      "execution_count": null,
      "metadata": {
        "id": "RziZ72gO2BOO"
      },
      "outputs": [],
      "source": [
        "import warnings\n",
        "warnings.filterwarnings(\"ignore\")"
      ]
    },
    {
      "cell_type": "code",
      "execution_count": null,
      "metadata": {
        "id": "56bcNDp72XJ_"
      },
      "outputs": [],
      "source": [
        "treatment_df = pd.DataFrame(columns=['patient_id','disease','description'])\n",
        "chronic_df = pd.DataFrame(columns=['patient_id','disease','description'])\n",
        "cancer_df = pd.DataFrame(columns=['patient_id','disease','description'])\n",
        "allergy_df = pd.DataFrame(columns=['patient_id','disease','description'])\n",
        "other_df = pd.DataFrame(columns=['patient_id','disease','description'])\n",
        "\n",
        "for i in treatment:\n",
        "  treatment_df = treatment_df.append(medical_ner.iloc[i],ignore_index=True)\n",
        "for i in chronic:\n",
        "  chronic_df = chronic_df.append(medical_ner.iloc[i],ignore_index=True)\n",
        "for i in cancer:\n",
        "  cancer_df = cancer_df.append(medical_ner.iloc[i],ignore_index=True)\n",
        "for i in allergy:\n",
        "  allergy_df = allergy_df.append(medical_ner.iloc[i],ignore_index=True)\n",
        "for i in other:\n",
        "  other_df = other_df.append(medical_ner.iloc[i],ignore_index=True)"
      ]
    },
    {
      "cell_type": "code",
      "source": [],
      "metadata": {
        "id": "ObTa6j0R8ZI5"
      },
      "execution_count": null,
      "outputs": []
    },
    {
      "cell_type": "code",
      "execution_count": null,
      "metadata": {
        "id": "hS9SDeGu381p"
      },
      "outputs": [],
      "source": [
        "treatment_df.to_json('treatment_file.json')\n",
        "chronic_df.to_json('chroni_disease_file.json')\n",
        "cancer_df.to_json('cancer_file.json')\n",
        "allergy_df.to_json('allergy_file.to_json')\n",
        "other_df.to_json('remaining_file.to_json')"
      ]
    },
    {
      "cell_type": "code",
      "execution_count": null,
      "metadata": {
        "id": "Vumv4nfPv8bb",
        "colab": {
          "base_uri": "https://localhost:8080/"
        },
        "outputId": "b85c3a79-2d07-43b9-d56e-f44f96e02fcc"
      },
      "outputs": [
        {
          "output_type": "stream",
          "name": "stdout",
          "text": [
            "Cloning into 'Clinical-Trial-Parser'...\n",
            "remote: Enumerating objects: 292, done.\u001b[K\n",
            "remote: Counting objects: 100% (49/49), done.\u001b[K\n",
            "remote: Compressing objects: 100% (25/25), done.\u001b[K\n",
            "remote: Total 292 (delta 26), reused 24 (delta 24), pack-reused 243\u001b[K\n",
            "Receiving objects: 100% (292/292), 74.63 MiB | 21.17 MiB/s, done.\n",
            "Resolving deltas: 100% (76/76), done.\n"
          ]
        }
      ],
      "source": [
        "!git clone https://github.com/facebookresearch/Clinical-Trial-Parser"
      ]
    },
    {
      "cell_type": "code",
      "execution_count": null,
      "metadata": {
        "id": "esNZmgVfwYo3"
      },
      "outputs": [],
      "source": [
        "import pandas as pd"
      ]
    },
    {
      "cell_type": "markdown",
      "metadata": {
        "id": "3XnKUvqG377R"
      },
      "source": [
        "## Task"
      ]
    },
    {
      "cell_type": "code",
      "execution_count": null,
      "metadata": {
        "id": "L5saiyRR7H7a",
        "colab": {
          "base_uri": "https://localhost:8080/"
        },
        "outputId": "e4aee9dd-b26b-4884-8230-f0acf68e9598"
      },
      "outputs": [
        {
          "output_type": "stream",
          "name": "stdout",
          "text": [
            "Mounted at /content/drive\n"
          ]
        }
      ],
      "source": [
        "from google.colab import drive\n",
        "drive.mount('/content/drive')"
      ]
    },
    {
      "cell_type": "code",
      "execution_count": null,
      "metadata": {
        "id": "HsfAU1qEAREv",
        "colab": {
          "base_uri": "https://localhost:8080/"
        },
        "outputId": "04d0cc24-cc48-4be1-f2ec-df60deb9bc31"
      },
      "outputs": [
        {
          "output_type": "stream",
          "name": "stdout",
          "text": [
            "/content/drive/My Drive/miimansa\n"
          ]
        }
      ],
      "source": [
        "%cd drive/My\\ Drive"
      ]
    },
    {
      "cell_type": "code",
      "execution_count": null,
      "metadata": {
        "id": "fTksAdc5rndW"
      },
      "outputs": [],
      "source": [
        "import pandas as pd\n",
        "from sklearn.metrics import classification_report\n",
        "from sklearn.metrics import matthews_corrcoef\n",
        "import warnings\n",
        "warnings.filterwarnings(\"ignore\")"
      ]
    },
    {
      "cell_type": "markdown",
      "metadata": {
        "id": "CTYpwFyMtSex"
      },
      "source": [
        "### Dataset prepration"
      ]
    },
    {
      "cell_type": "code",
      "execution_count": null,
      "metadata": {
        "id": "BenyvfGdBAPY"
      },
      "outputs": [],
      "source": [
        "T1 = pd.read_csv('G1.csv')\n",
        "T2 = pd.read_csv('G2.csv')\n",
        "T3 = pd.read_csv('G3.csv')\n",
        "#T1.head()"
      ]
    },
    {
      "cell_type": "code",
      "execution_count": null,
      "metadata": {
        "id": "J85cUtCVBt1O"
      },
      "outputs": [],
      "source": [
        "T1.drop(['Unnamed: 0'],axis=1, inplace=True)\n",
        "T2.drop(['Unnamed: 0'],axis=1, inplace=True)\n",
        "T3.drop(['Unnamed: 0'],axis=1, inplace=True)"
      ]
    },
    {
      "cell_type": "markdown",
      "metadata": {
        "id": "6N4KveCztYU9"
      },
      "source": [
        "#### T1-G1"
      ]
    },
    {
      "cell_type": "code",
      "execution_count": null,
      "metadata": {
        "id": "46FoCrsFCRhE"
      },
      "outputs": [],
      "source": [
        "treatment=[]\n",
        "chronic=[]\n",
        "cancer=[]\n",
        "allergy=[]\n",
        "\n",
        "for i in range(0,len(T1)):\n",
        "  diss = T1.iloc[i]['tags'].split(':')\n",
        "  flag_treat = flag_chronic = flag_cancer = flag_allergy = 0\n",
        "  for dis in diss:\n",
        "    if 'treatment' in dis.split(','):\n",
        "      flag_treat = 1\n",
        "    if 'chronic_disease' in dis.split(','):\n",
        "      flag_chronic = 1\n",
        "    if 'cancer' in dis.split(','):\n",
        "      flag_cancer = 1\n",
        "    if 'allergy_name' in dis.split(','):\n",
        "      flag_allergy = 1\n",
        "  if(flag_treat):\n",
        "    treatment.append(i)\n",
        "  if(flag_chronic):\n",
        "    chronic.append(i)\n",
        "  if(flag_cancer):\n",
        "    cancer.append(i)\n",
        "  if(flag_allergy):\n",
        "    allergy.append(i)"
      ]
    },
    {
      "cell_type": "code",
      "execution_count": null,
      "metadata": {
        "colab": {
          "base_uri": "https://localhost:8080/"
        },
        "id": "AqUonvEVEt93",
        "outputId": "db15d941-7b9b-49e6-ebb1-62bbccf4ff2f"
      },
      "outputs": [
        {
          "output_type": "stream",
          "name": "stdout",
          "text": [
            "Treatment and Chronic  491\n",
            "Treatment and Cancer 343\n",
            "Treatment and Allergy 12\n",
            "Chronic and Cancer 106\n",
            "Chronic and Allergy 8\n",
            "Cancer and Allergy 3\n",
            "Treatment, Chronic and Cancer 46\n"
          ]
        }
      ],
      "source": [
        "set_treat = set(treatment)\n",
        "set_chr = set(chronic)\n",
        "set_can = set(cancer)\n",
        "set_allr = set(allergy)\n",
        "\n",
        "print('Treatment and Chronic ',len(set_treat.intersection(set_chr)))\n",
        "print('Treatment and Cancer', len(set_treat.intersection(set_can)))\n",
        "print('Treatment and Allergy', len(set_treat.intersection(set_allr)))\n",
        "print('Chronic and Cancer', len(set_chr.intersection(set_can)))\n",
        "print('Chronic and Allergy', len(set_chr.intersection(set_allr)))\n",
        "print('Cancer and Allergy', len(set_can.intersection(set_allr)))\n",
        "print('Treatment, Chronic and Cancer',len(set_can.intersection(set_treat.intersection(set_chr))))"
      ]
    },
    {
      "cell_type": "code",
      "execution_count": null,
      "metadata": {
        "id": "9qef_DNbdtCo"
      },
      "outputs": [],
      "source": [
        "label = [0]*len(T1)\n",
        "T1['label'] = label\n",
        "#0--> treatment || 1-->chronic || 2-->Cancer || 3-->Allergy\n",
        "for i in set_chr:\n",
        "  T1.at[i, 'label'] = 1\n",
        "for i in set_can:\n",
        "  T1.at[i, 'label'] = 2\n",
        "for i in set_allr:\n",
        "  T1.at[i, 'label'] = 3\n",
        "#T1.head()"
      ]
    },
    {
      "cell_type": "markdown",
      "metadata": {
        "id": "LV06PYm7tric"
      },
      "source": [
        "#### T2-G2"
      ]
    },
    {
      "cell_type": "code",
      "execution_count": null,
      "metadata": {
        "id": "KMhIT55sttnG"
      },
      "outputs": [],
      "source": [
        "treatment=[]\n",
        "chronic=[]\n",
        "cancer=[]\n",
        "allergy=[]\n",
        "\n",
        "for i in range(0,len(T2)):\n",
        "  diss = T2.iloc[i]['tags'].split(':')\n",
        "  flag_treat = flag_chronic = flag_cancer = flag_allergy = 0\n",
        "  for dis in diss:\n",
        "    if 'treatment' in dis.split(','):\n",
        "      flag_treat = 1\n",
        "    if 'chronic_disease' in dis.split(','):\n",
        "      flag_chronic = 1\n",
        "    if 'cancer' in dis.split(','):\n",
        "      flag_cancer = 1\n",
        "    if 'allergy_name' in dis.split(','):\n",
        "      flag_allergy = 1\n",
        "  if(flag_treat):\n",
        "    treatment.append(i)\n",
        "  if(flag_chronic):\n",
        "    chronic.append(i)\n",
        "  if(flag_cancer):\n",
        "    cancer.append(i)\n",
        "  if(flag_allergy):\n",
        "    allergy.append(i)"
      ]
    },
    {
      "cell_type": "code",
      "execution_count": null,
      "metadata": {
        "colab": {
          "base_uri": "https://localhost:8080/"
        },
        "id": "A24tTNRBtwnJ",
        "outputId": "153864dd-399b-438a-af43-230b2671ede2"
      },
      "outputs": [
        {
          "output_type": "stream",
          "name": "stdout",
          "text": [
            "Treatment and Chronic  482\n",
            "Treatment and Cancer 344\n",
            "Treatment and Allergy 10\n",
            "Chronic and Cancer 104\n",
            "Chronic and Allergy 11\n",
            "Cancer and Allergy 1\n",
            "Treatment, Chronic and Cancer 45\n"
          ]
        }
      ],
      "source": [
        "set_treat = set(treatment)\n",
        "set_chr = set(chronic)\n",
        "set_can = set(cancer)\n",
        "set_allr = set(allergy)\n",
        "\n",
        "print('Treatment and Chronic ',len(set_treat.intersection(set_chr)))\n",
        "print('Treatment and Cancer', len(set_treat.intersection(set_can)))\n",
        "print('Treatment and Allergy', len(set_treat.intersection(set_allr)))\n",
        "print('Chronic and Cancer', len(set_chr.intersection(set_can)))\n",
        "print('Chronic and Allergy', len(set_chr.intersection(set_allr)))\n",
        "print('Cancer and Allergy', len(set_can.intersection(set_allr)))\n",
        "print('Treatment, Chronic and Cancer',len(set_can.intersection(set_treat.intersection(set_chr))))"
      ]
    },
    {
      "cell_type": "code",
      "execution_count": null,
      "metadata": {
        "id": "OIJT276-t2C1"
      },
      "outputs": [],
      "source": [
        "label = [0]*len(T2)\n",
        "T2['label'] = label\n",
        "#0--> treatment || 1-->chronic || 2-->Cancer || 3-->Allergy\n",
        "for i in set_chr:\n",
        "  T2.at[i, 'label'] = 1\n",
        "for i in set_can:\n",
        "  T2.at[i, 'label'] = 2\n",
        "for i in set_allr:\n",
        "  T2.at[i, 'label'] = 3\n",
        "#T1.head()"
      ]
    },
    {
      "cell_type": "markdown",
      "metadata": {
        "id": "gJFWZGngt9wp"
      },
      "source": [
        "#### T3-G3"
      ]
    },
    {
      "cell_type": "code",
      "execution_count": null,
      "metadata": {
        "id": "BdTL7HoCt_4F"
      },
      "outputs": [],
      "source": [
        "treatment=[]\n",
        "chronic=[]\n",
        "cancer=[]\n",
        "allergy=[]\n",
        "\n",
        "for i in range(0,len(T3)):\n",
        "  diss = T3.iloc[i]['tags'].split(':')\n",
        "  flag_treat = flag_chronic = flag_cancer = flag_allergy = 0\n",
        "  for dis in diss:\n",
        "    if 'treatment' in dis.split(','):\n",
        "      flag_treat = 1\n",
        "    if 'chronic_disease' in dis.split(','):\n",
        "      flag_chronic = 1\n",
        "    if 'cancer' in dis.split(','):\n",
        "      flag_cancer = 1\n",
        "    if 'allergy_name' in dis.split(','):\n",
        "      flag_allergy = 1\n",
        "  if(flag_treat):\n",
        "    treatment.append(i)\n",
        "  if(flag_chronic):\n",
        "    chronic.append(i)\n",
        "  if(flag_cancer):\n",
        "    cancer.append(i)\n",
        "  if(flag_allergy):\n",
        "    allergy.append(i)"
      ]
    },
    {
      "cell_type": "code",
      "execution_count": null,
      "metadata": {
        "colab": {
          "base_uri": "https://localhost:8080/"
        },
        "id": "mqwno_yAuEh1",
        "outputId": "01b127f6-ea96-407e-ee0e-5781934c64ac"
      },
      "outputs": [
        {
          "output_type": "stream",
          "name": "stdout",
          "text": [
            "Treatment and Chronic  532\n",
            "Treatment and Cancer 318\n",
            "Treatment and Allergy 11\n",
            "Chronic and Cancer 94\n",
            "Chronic and Allergy 9\n",
            "Cancer and Allergy 1\n",
            "Treatment, Chronic and Cancer 45\n"
          ]
        }
      ],
      "source": [
        "set_treat = set(treatment)\n",
        "set_chr = set(chronic)\n",
        "set_can = set(cancer)\n",
        "set_allr = set(allergy)\n",
        "\n",
        "print('Treatment and Chronic ',len(set_treat.intersection(set_chr)))\n",
        "print('Treatment and Cancer', len(set_treat.intersection(set_can)))\n",
        "print('Treatment and Allergy', len(set_treat.intersection(set_allr)))\n",
        "print('Chronic and Cancer', len(set_chr.intersection(set_can)))\n",
        "print('Chronic and Allergy', len(set_chr.intersection(set_allr)))\n",
        "print('Cancer and Allergy', len(set_can.intersection(set_allr)))\n",
        "print('Treatment, Chronic and Cancer',len(set_can.intersection(set_treat.intersection(set_chr))))"
      ]
    },
    {
      "cell_type": "code",
      "execution_count": null,
      "metadata": {
        "id": "k67WKEKGuHkD"
      },
      "outputs": [],
      "source": [
        "label = [0]*len(T3)\n",
        "T3['label'] = label\n",
        "#0--> treatment || 1-->chronic || 2-->Cancer || 3-->Allergy\n",
        "for i in set_chr:\n",
        "  T3.at[i, 'label'] = 1\n",
        "for i in set_can:\n",
        "  T3.at[i, 'label'] = 2\n",
        "for i in set_allr:\n",
        "  T3.at[i, 'label'] = 3\n",
        "#T1.head()"
      ]
    },
    {
      "cell_type": "markdown",
      "source": [
        "### Text Processing"
      ],
      "metadata": {
        "id": "aEy5jlg8bBSE"
      }
    },
    {
      "cell_type": "code",
      "execution_count": null,
      "metadata": {
        "id": "OTWzvex0dHNg"
      },
      "outputs": [],
      "source": [
        "import re\n",
        "import pandas as pd\n",
        "import numpy as np\n",
        "import tensorflow as tf\n",
        "\n",
        "#from nltk.tokenize import TweetTokenizer #no great use, helpful for pre-processing\n",
        "from nltk.tokenize import WhitespaceTokenizer\n",
        "from nltk.tokenize import word_tokenize\n",
        "# Keras\n",
        "from tensorflow.keras.preprocessing.text import Tokenizer\n",
        "from tensorflow.keras.preprocessing.sequence import pad_sequences\n",
        "from tensorflow.keras.models import Sequential\n",
        "from tensorflow.keras.layers import Dense, Flatten, LSTM, Conv1D, MaxPooling1D, Dropout, Activation, Embedding, Conv2D\n",
        "#from tensorflow.keras.layers.embeddings import Embedding\n",
        "from keras.callbacks import EarlyStopping\n",
        "#from keras.utils.np_utils import to_categorical\n",
        "from sklearn.model_selection import train_test_split\n",
        "\n",
        "import nltk\n",
        "from numpy.ma.core import sqrt\n",
        "from sklearn.utils import shuffle"
      ]
    },
    {
      "cell_type": "code",
      "execution_count": null,
      "metadata": {
        "id": "OeLdbc_gc0qg"
      },
      "outputs": [],
      "source": [
        "#Splitting the files to train-test\n",
        "X_trainT1, X_testT1, y_trainT1, y_testT1 = train_test_split(T1['text'], T1['label'], test_size=0.2, random_state=42)\n",
        "X_trainT2, X_testT2, y_trainT2, y_testT2 = train_test_split(T2['text'], T2['label'], test_size=0.2, random_state=42)\n",
        "X_trainT3, X_testT3, y_trainT3, y_testT3 = train_test_split(T3['text'], T3['label'], test_size=0.2, random_state=42)"
      ]
    },
    {
      "cell_type": "code",
      "execution_count": null,
      "metadata": {
        "id": "55CvzhpNddgF"
      },
      "outputs": [],
      "source": [
        "# Converting text to arrays for T1\n",
        "tokenizer_w = WhitespaceTokenizer()\n",
        "tokenizerT1 = Tokenizer(oov_token='oov')\n",
        "\n",
        "tokenizerT1.fit_on_texts(T1['text'])\n",
        "\n",
        "word_indexT1 = tokenizerT1.word_index\n",
        "vocabulary_sizeT1 =len(word_indexT1)+1\n",
        "\n",
        "train_sequencesT1 = tokenizerT1.texts_to_sequences(X_trainT1)\n",
        "test_sequencesT1 = tokenizerT1.texts_to_sequences(X_testT1)\n",
        "vector_size=50\n",
        "#vector_size=200 # for embedding\n",
        "train_dataT1 = pad_sequences(train_sequencesT1, maxlen=vector_size, padding='post',truncating='pre')\n",
        "test_dataT1 = pad_sequences(test_sequencesT1, maxlen=vector_size, padding='post')"
      ]
    },
    {
      "cell_type": "code",
      "execution_count": null,
      "metadata": {
        "id": "defeGZJOY77t"
      },
      "outputs": [],
      "source": [
        "# Converting text to arrays for T2\n",
        "tokenizer_w = WhitespaceTokenizer()\n",
        "tokenizerT2 = Tokenizer(oov_token='oov')\n",
        "\n",
        "tokenizerT2.fit_on_texts(T2['text'])\n",
        "\n",
        "word_indexT2 = tokenizerT2.word_index\n",
        "vocabulary_sizeT2 = len(word_indexT2)+1\n",
        "\n",
        "train_sequencesT2 = tokenizerT2.texts_to_sequences(X_trainT2)\n",
        "test_sequencesT2 = tokenizerT2.texts_to_sequences(X_testT2)\n",
        "vector_size=50\n",
        "#vector_size=200 # for embedding\n",
        "train_dataT2 = pad_sequences(train_sequencesT2, maxlen=vector_size, padding='post',truncating='pre')\n",
        "test_dataT2 = pad_sequences(test_sequencesT2, maxlen=vector_size, padding='post')"
      ]
    },
    {
      "cell_type": "code",
      "execution_count": null,
      "metadata": {
        "id": "WWeTLLSVY8vn"
      },
      "outputs": [],
      "source": [
        "# Converting text to arrays for T3\n",
        "tokenizer_w = WhitespaceTokenizer()\n",
        "tokenizerT3 = Tokenizer(oov_token='oov')\n",
        "\n",
        "tokenizerT3.fit_on_texts(T3['text'])\n",
        "\n",
        "word_indexT3 = tokenizerT3.word_index\n",
        "vocabulary_sizeT3 = len(word_indexT3)+1\n",
        "\n",
        "train_sequencesT3 = tokenizerT3.texts_to_sequences(X_trainT3)\n",
        "test_sequencesT3 = tokenizerT3.texts_to_sequences(X_testT3)\n",
        "vector_size=50\n",
        "#vector_size=200 # for embedding\n",
        "train_dataT3 = pad_sequences(train_sequencesT3, maxlen=vector_size, padding='post',truncating='pre')\n",
        "test_dataT3 = pad_sequences(test_sequencesT3, maxlen=vector_size, padding='post')"
      ]
    },
    {
      "cell_type": "code",
      "execution_count": null,
      "metadata": {
        "colab": {
          "base_uri": "https://localhost:8080/",
          "height": 463
        },
        "id": "jDsc0s678r2Z",
        "outputId": "83a2f117-dc89-4220-a1a2-dc92c000c66f"
      },
      "outputs": [
        {
          "output_type": "execute_result",
          "data": {
            "text/plain": [
              "<Axes: >"
            ]
          },
          "metadata": {},
          "execution_count": 42
        },
        {
          "output_type": "display_data",
          "data": {
            "text/plain": [
              "<Figure size 500x500 with 1 Axes>"
            ],
            "image/png": "[encoded data removed]"
          },
          "metadata": {}
        }
      ],
      "source": [
        "seq_len = [len(i) for i in train_sequencesT3]\n",
        "\n",
        "pd.Series(seq_len).hist(bins=50,figsize=(5,5))"
      ]
    },
    {
      "cell_type": "markdown",
      "metadata": {
        "id": "_RLxox28bQMU"
      },
      "source": [
        "### Batch learning"
      ]
    },
    {
      "cell_type": "markdown",
      "metadata": {
        "id": "5X9hz5RDCsRS"
      },
      "source": [
        "##### LSTM"
      ]
    },
    {
      "cell_type": "code",
      "execution_count": null,
      "metadata": {
        "id": "uyCiurbDvhnD"
      },
      "outputs": [],
      "source": [
        "def create_model_lstm(vocabulary_size):\n",
        "  model_lstm = Sequential()\n",
        "  model_lstm.add(Embedding(vocabulary_size, input_length=vector_size,trainable=True,output_dim=256))\n",
        "  model_lstm.add(LSTM(32, return_sequences=True))\n",
        "  model_lstm.add(Flatten())\n",
        "  model_lstm.add(Dense(4, activation='sigmoid'))#num_class\n",
        "  return model_lstm"
      ]
    },
    {
      "cell_type": "markdown",
      "metadata": {
        "id": "bbbqouHEasWB"
      },
      "source": [
        "###### T1"
      ]
    },
    {
      "cell_type": "code",
      "execution_count": null,
      "metadata": {
        "colab": {
          "base_uri": "https://localhost:8080/"
        },
        "id": "U-cMnuxAZ9_9",
        "outputId": "19db4bcc-ae7c-43cd-d0b0-d0b0d3fe4517"
      },
      "outputs": [
        {
          "name": "stdout",
          "output_type": "stream",
          "text": [
            "Epoch 1/50\n",
            "3/3 [==============================] - 20s 6s/step - loss: 1.2974 - accuracy: 0.3734 - val_loss: 1.2278 - val_accuracy: 0.4109\n",
            "Epoch 2/50\n",
            "3/3 [==============================] - 18s 5s/step - loss: 1.1539 - accuracy: 0.4718 - val_loss: 1.1388 - val_accuracy: 0.4703\n",
            "Epoch 3/50\n",
            "3/3 [==============================] - 19s 6s/step - loss: 1.1125 - accuracy: 0.5271 - val_loss: 1.1100 - val_accuracy: 0.5008\n",
            "Epoch 4/50\n",
            "3/3 [==============================] - 18s 6s/step - loss: 1.0669 - accuracy: 0.5511 - val_loss: 1.0936 - val_accuracy: 0.5382\n",
            "Epoch 5/50\n",
            "3/3 [==============================] - 22s 6s/step - loss: 1.0202 - accuracy: 0.5864 - val_loss: 1.0048 - val_accuracy: 0.5840\n",
            "Epoch 6/50\n",
            "3/3 [==============================] - 18s 6s/step - loss: 0.9202 - accuracy: 0.6465 - val_loss: 0.8787 - val_accuracy: 0.6367\n",
            "Epoch 7/50\n",
            "3/3 [==============================] - 18s 6s/step - loss: 0.7534 - accuracy: 0.7005 - val_loss: 0.8158 - val_accuracy: 0.6757\n",
            "Epoch 8/50\n",
            "3/3 [==============================] - 18s 5s/step - loss: 0.6384 - accuracy: 0.7577 - val_loss: 0.7921 - val_accuracy: 0.7063\n",
            "Epoch 9/50\n",
            "3/3 [==============================] - 20s 6s/step - loss: 0.5394 - accuracy: 0.8276 - val_loss: 0.6799 - val_accuracy: 0.7589\n",
            "Epoch 10/50\n",
            "3/3 [==============================] - 18s 6s/step - loss: 0.4342 - accuracy: 0.8780 - val_loss: 0.6123 - val_accuracy: 0.7963\n",
            "Epoch 11/50\n",
            "3/3 [==============================] - 18s 6s/step - loss: 0.3338 - accuracy: 0.9033 - val_loss: 0.5451 - val_accuracy: 0.8217\n",
            "Epoch 12/50\n",
            "3/3 [==============================] - 18s 5s/step - loss: 0.2509 - accuracy: 0.9214 - val_loss: 0.5818 - val_accuracy: 0.8336\n",
            "Epoch 13/50\n",
            "3/3 [==============================] - 19s 6s/step - loss: 0.2018 - accuracy: 0.9356 - val_loss: 0.6021 - val_accuracy: 0.8404\n",
            "Epoch 14/50\n",
            "3/3 [==============================] - 18s 6s/step - loss: 0.1559 - accuracy: 0.9528 - val_loss: 0.5553 - val_accuracy: 0.8353\n",
            "Epoch 15/50\n",
            "3/3 [==============================] - 18s 6s/step - loss: 0.1187 - accuracy: 0.9666 - val_loss: 0.6283 - val_accuracy: 0.8506\n",
            "Epoch 16/50\n",
            "3/3 [==============================] - 19s 6s/step - loss: 0.0925 - accuracy: 0.9715 - val_loss: 0.6655 - val_accuracy: 0.8455\n",
            "Epoch 17/50\n",
            "3/3 [==============================] - 19s 6s/step - loss: 0.0690 - accuracy: 0.9826 - val_loss: 0.6668 - val_accuracy: 0.8387\n",
            "Epoch 18/50\n",
            "3/3 [==============================] - 17s 6s/step - loss: 0.0496 - accuracy: 0.9896 - val_loss: 0.7196 - val_accuracy: 0.8387\n",
            "Epoch 19/50\n",
            "3/3 [==============================] - 18s 6s/step - loss: 0.0410 - accuracy: 0.9909 - val_loss: 0.7376 - val_accuracy: 0.8438\n",
            "Epoch 20/50\n",
            "3/3 [==============================] - 17s 6s/step - loss: 0.0364 - accuracy: 0.9900 - val_loss: 0.8316 - val_accuracy: 0.8523\n",
            "Epoch 21/50\n",
            "3/3 [==============================] - ETA: 0s - loss: 0.0287 - accuracy: 0.9923Restoring model weights from the end of the best epoch: 11.\n",
            "3/3 [==============================] - 17s 6s/step - loss: 0.0287 - accuracy: 0.9923 - val_loss: 0.8431 - val_accuracy: 0.8489\n",
            "Epoch 21: early stopping\n",
            "46/46 [==============================] - 3s 55ms/step\n",
            "46/46 [==============================] - 4s 95ms/step - loss: 0.5502 - accuracy: 0.8458\n",
            "Test set\n",
            "  Loss: 0.550\n",
            "  Accuracy: 0.846\n",
            "              precision    recall  f1-score   support\n",
            "\n",
            "   treatment       0.87      0.85      0.86       538\n",
            "     chronic       0.90      0.90      0.90       640\n",
            "      cancer       0.70      0.84      0.76       256\n",
            "     allergy       0.00      0.00      0.00        38\n",
            "\n",
            "    accuracy                           0.85      1472\n",
            "   macro avg       0.62      0.65      0.63      1472\n",
            "weighted avg       0.83      0.85      0.84      1472\n",
            "\n",
            "Matthews Corelation Score (MCC) :  0.761835314226892\n"
          ]
        },
        {
          "name": "stderr",
          "output_type": "stream",
          "text": [
            "/usr/local/lib/python3.10/dist-packages/sklearn/metrics/_classification.py:1344: UndefinedMetricWarning: Precision and F-score are ill-defined and being set to 0.0 in labels with no predicted samples. Use `zero_division` parameter to control this behavior.\n",
            "  _warn_prf(average, modifier, msg_start, len(result))\n",
            "/usr/local/lib/python3.10/dist-packages/sklearn/metrics/_classification.py:1344: UndefinedMetricWarning: Precision and F-score are ill-defined and being set to 0.0 in labels with no predicted samples. Use `zero_division` parameter to control this behavior.\n",
            "  _warn_prf(average, modifier, msg_start, len(result))\n",
            "/usr/local/lib/python3.10/dist-packages/sklearn/metrics/_classification.py:1344: UndefinedMetricWarning: Precision and F-score are ill-defined and being set to 0.0 in labels with no predicted samples. Use `zero_division` parameter to control this behavior.\n",
            "  _warn_prf(average, modifier, msg_start, len(result))\n"
          ]
        }
      ],
      "source": [
        "#Training\n",
        "##Create LSTM sequence model for every training\n",
        "model_lstm = create_model_lstm(vocabulary_sizeT1)\n",
        "model_lstm.compile(loss='categorical_crossentropy', optimizer='adam', metrics=['accuracy'])\n",
        "early_stopping = EarlyStopping(monitor='val_loss', min_delta=0.0001, patience=10, verbose=1, restore_best_weights=True)\n",
        "callbacks_list = [early_stopping]\n",
        "history = model_lstm.fit(train_dataT1, tf.keras.utils.to_categorical(y_trainT1, num_classes=4, dtype='float32'), validation_split=0.1, epochs = 50, callbacks=callbacks_list, batch_size=2048)\n",
        "#Evaluation\n",
        "predict = model_lstm.predict(test_dataT1)\n",
        "accr = model_lstm.evaluate(test_dataT1, tf.keras.utils.to_categorical(y_testT1, num_classes=4, dtype='float32'))\n",
        "print('Test set\\n  Loss: {:0.3f}\\n  Accuracy: {:0.3f}'.format(accr[0],accr[1]))\n",
        "\n",
        "y_predT1=[]\n",
        "for j in range(0,len(predict)):\n",
        "  for i in range(0,len(predict[j])):\n",
        "    if predict[j][i] == max(predict[j]):\n",
        "      y_predT1.append(i)\n",
        "\n",
        "#printing the results\n",
        "print(classification_report(y_testT1, y_predT1, target_names=['treatment','chronic','cancer','allergy']))\n",
        "print('Matthews Corelation Score (MCC) : ',matthews_corrcoef(y_testT1, y_predT1))"
      ]
    },
    {
      "cell_type": "markdown",
      "metadata": {
        "id": "2GZyqaz7auZe"
      },
      "source": [
        "###### T2"
      ]
    },
    {
      "cell_type": "code",
      "execution_count": null,
      "metadata": {
        "colab": {
          "background_save": true,
          "base_uri": "https://localhost:8080/"
        },
        "id": "Sto_Rgr-av-r",
        "outputId": "e9594bd3-cee7-472c-f98b-d49ab2acf895"
      },
      "outputs": [
        {
          "name": "stdout",
          "output_type": "stream",
          "text": [
            "Epoch 1/50\n",
            "3/3 [==============================] - 18s 5s/step - loss: 1.3081 - accuracy: 0.3992 - val_loss: 1.2350 - val_accuracy: 0.4855\n",
            "Epoch 2/50\n",
            "3/3 [==============================] - 15s 4s/step - loss: 1.1630 - accuracy: 0.4797 - val_loss: 1.1518 - val_accuracy: 0.5280\n",
            "Epoch 3/50\n",
            "3/3 [==============================] - 15s 4s/step - loss: 1.1297 - accuracy: 0.5483 - val_loss: 1.1150 - val_accuracy: 0.5126\n",
            "Epoch 4/50\n",
            "3/3 [==============================] - 17s 5s/step - loss: 1.0928 - accuracy: 0.5201 - val_loss: 1.1014 - val_accuracy: 0.5319\n",
            "Epoch 5/50\n",
            "3/3 [==============================] - 16s 5s/step - loss: 1.0490 - accuracy: 0.5737 - val_loss: 1.0417 - val_accuracy: 0.5977\n",
            "Epoch 6/50\n",
            "3/3 [==============================] - 15s 5s/step - loss: 0.9852 - accuracy: 0.6467 - val_loss: 0.9561 - val_accuracy: 0.6364\n",
            "Epoch 7/50\n",
            "3/3 [==============================] - 15s 5s/step - loss: 0.8609 - accuracy: 0.6744 - val_loss: 0.8494 - val_accuracy: 0.6615\n",
            "Epoch 8/50\n",
            "3/3 [==============================] - 16s 4s/step - loss: 0.7093 - accuracy: 0.7149 - val_loss: 0.7701 - val_accuracy: 0.6944\n",
            "Epoch 9/50\n",
            "3/3 [==============================] - 16s 4s/step - loss: 0.5726 - accuracy: 0.7988 - val_loss: 0.6322 - val_accuracy: 0.7776\n",
            "Epoch 10/50\n",
            "3/3 [==============================] - 16s 5s/step - loss: 0.4513 - accuracy: 0.8644 - val_loss: 0.5893 - val_accuracy: 0.7834\n",
            "Epoch 11/50\n",
            "3/3 [==============================] - 16s 5s/step - loss: 0.3430 - accuracy: 0.8866 - val_loss: 0.5219 - val_accuracy: 0.8104\n",
            "Epoch 12/50\n",
            "3/3 [==============================] - 15s 5s/step - loss: 0.2555 - accuracy: 0.9135 - val_loss: 0.5280 - val_accuracy: 0.8221\n",
            "Epoch 13/50\n",
            "3/3 [==============================] - 15s 4s/step - loss: 0.2087 - accuracy: 0.9326 - val_loss: 0.5561 - val_accuracy: 0.8317\n",
            "Epoch 14/50\n",
            "3/3 [==============================] - 17s 5s/step - loss: 0.1530 - accuracy: 0.9522 - val_loss: 0.5775 - val_accuracy: 0.8337\n",
            "Epoch 15/50\n",
            "3/3 [==============================] - 17s 5s/step - loss: 0.1146 - accuracy: 0.9630 - val_loss: 0.5957 - val_accuracy: 0.8317\n",
            "Epoch 16/50\n",
            "3/3 [==============================] - 15s 5s/step - loss: 0.0848 - accuracy: 0.9755 - val_loss: 0.6314 - val_accuracy: 0.8298\n",
            "Epoch 17/50\n",
            "3/3 [==============================] - 15s 5s/step - loss: 0.0641 - accuracy: 0.9815 - val_loss: 0.7123 - val_accuracy: 0.8356\n",
            "Epoch 18/50\n",
            "3/3 [==============================] - 15s 5s/step - loss: 0.0463 - accuracy: 0.9869 - val_loss: 0.7250 - val_accuracy: 0.8375\n",
            "Epoch 19/50\n",
            "3/3 [==============================] - 15s 4s/step - loss: 0.0405 - accuracy: 0.9884 - val_loss: 0.7180 - val_accuracy: 0.8375\n",
            "Epoch 20/50\n",
            "3/3 [==============================] - 16s 4s/step - loss: 0.0317 - accuracy: 0.9927 - val_loss: 0.8460 - val_accuracy: 0.8356\n",
            "Epoch 21/50\n",
            "3/3 [==============================] - ETA: 0s - loss: 0.0246 - accuracy: 0.9923Restoring model weights from the end of the best epoch: 11.\n",
            "3/3 [==============================] - 17s 5s/step - loss: 0.0246 - accuracy: 0.9923 - val_loss: 0.8454 - val_accuracy: 0.8375\n",
            "Epoch 21: early stopping\n",
            "41/41 [==============================] - 3s 56ms/step\n",
            "41/41 [==============================] - 2s 58ms/step - loss: 0.5503 - accuracy: 0.8156\n",
            "Test set\n",
            "  Loss: 0.550\n",
            "  Accuracy: 0.816\n",
            "              precision    recall  f1-score   support\n",
            "\n",
            "   treatment       0.82      0.82      0.82       424\n",
            "     chronic       0.86      0.88      0.87       602\n",
            "      cancer       0.70      0.78      0.74       229\n",
            "     allergy       0.00      0.00      0.00        36\n",
            "\n",
            "    accuracy                           0.82      1291\n",
            "   macro avg       0.60      0.62      0.61      1291\n",
            "weighted avg       0.79      0.82      0.80      1291\n",
            "\n",
            "Matthews Corelation Score (MCC) :  0.7109266533177054\n"
          ]
        },
        {
          "name": "stderr",
          "output_type": "stream",
          "text": [
            "/usr/local/lib/python3.10/dist-packages/sklearn/metrics/_classification.py:1344: UndefinedMetricWarning: Precision and F-score are ill-defined and being set to 0.0 in labels with no predicted samples. Use `zero_division` parameter to control this behavior.\n",
            "  _warn_prf(average, modifier, msg_start, len(result))\n",
            "/usr/local/lib/python3.10/dist-packages/sklearn/metrics/_classification.py:1344: UndefinedMetricWarning: Precision and F-score are ill-defined and being set to 0.0 in labels with no predicted samples. Use `zero_division` parameter to control this behavior.\n",
            "  _warn_prf(average, modifier, msg_start, len(result))\n",
            "/usr/local/lib/python3.10/dist-packages/sklearn/metrics/_classification.py:1344: UndefinedMetricWarning: Precision and F-score are ill-defined and being set to 0.0 in labels with no predicted samples. Use `zero_division` parameter to control this behavior.\n",
            "  _warn_prf(average, modifier, msg_start, len(result))\n"
          ]
        }
      ],
      "source": [
        "#Training\n",
        "model_lstm = create_model_lstm(vocabulary_sizeT2)\n",
        "model_lstm.compile(loss='categorical_crossentropy', optimizer='adam', metrics=['accuracy'])\n",
        "early_stopping = EarlyStopping(monitor='val_loss', min_delta=0.0001, patience=10, verbose=1, restore_best_weights=True)\n",
        "callbacks_list = [early_stopping]\n",
        "\n",
        "history = model_lstm.fit(train_dataT2, tf.keras.utils.to_categorical(y_trainT2, num_classes=4, dtype='float32'), validation_split=0.1, epochs = 50, callbacks=callbacks_list, batch_size=2048)\n",
        "#Evaluation\n",
        "predict = model_lstm.predict(test_dataT2)\n",
        "accr = model_lstm.evaluate(test_dataT2, tf.keras.utils.to_categorical(y_testT2, num_classes=4, dtype='float32'))\n",
        "print('Test set\\n  Loss: {:0.3f}\\n  Accuracy: {:0.3f}'.format(accr[0],accr[1]))\n",
        "\n",
        "y_predT2=[]\n",
        "for j in range(0,len(predict)):\n",
        "  for i in range(0,len(predict[j])):\n",
        "    if predict[j][i] == max(predict[j]):\n",
        "      y_predT2.append(i)\n",
        "\n",
        "#printing the results\n",
        "print(classification_report(y_testT2, y_predT2, target_names=['treatment','chronic','cancer','allergy']))\n",
        "print('Matthews Corelation Score (MCC) : ',matthews_corrcoef(y_testT2, y_predT2))"
      ]
    },
    {
      "cell_type": "markdown",
      "metadata": {
        "id": "2Ssxlf5Tdy8i"
      },
      "source": [
        "###### T3"
      ]
    },
    {
      "cell_type": "code",
      "execution_count": null,
      "metadata": {
        "colab": {
          "background_save": true
        },
        "id": "NGuYW_sYBv0K",
        "outputId": "fba995ab-6d7e-4c4a-c1da-8d9197760fb5"
      },
      "outputs": [
        {
          "name": "stdout",
          "output_type": "stream",
          "text": [
            "Epoch 1/50\n",
            "3/3 [==============================] - 18s 5s/step - loss: 1.3108 - accuracy: 0.4205 - val_loss: 1.2454 - val_accuracy: 0.4692\n",
            "Epoch 2/50\n",
            "3/3 [==============================] - 17s 5s/step - loss: 1.1896 - accuracy: 0.4856 - val_loss: 1.1706 - val_accuracy: 0.4433\n",
            "Epoch 3/50\n",
            "3/3 [==============================] - 15s 5s/step - loss: 1.1530 - accuracy: 0.4774 - val_loss: 1.1300 - val_accuracy: 0.4732\n",
            "Epoch 4/50\n",
            "3/3 [==============================] - 15s 5s/step - loss: 1.1036 - accuracy: 0.5133 - val_loss: 1.1264 - val_accuracy: 0.5149\n",
            "Epoch 5/50\n",
            "3/3 [==============================] - 15s 4s/step - loss: 1.0795 - accuracy: 0.6027 - val_loss: 1.0614 - val_accuracy: 0.5825\n",
            "Epoch 6/50\n",
            "3/3 [==============================] - 15s 4s/step - loss: 0.9987 - accuracy: 0.6596 - val_loss: 0.9755 - val_accuracy: 0.6183\n",
            "Epoch 7/50\n",
            "3/3 [==============================] - 16s 4s/step - loss: 0.8696 - accuracy: 0.6784 - val_loss: 0.8515 - val_accuracy: 0.6362\n",
            "Epoch 8/50\n",
            "3/3 [==============================] - 16s 5s/step - loss: 0.7091 - accuracy: 0.7189 - val_loss: 0.7581 - val_accuracy: 0.7038\n",
            "Epoch 9/50\n",
            "3/3 [==============================] - 15s 5s/step - loss: 0.6005 - accuracy: 0.7722 - val_loss: 0.7141 - val_accuracy: 0.7594\n",
            "Epoch 10/50\n",
            "3/3 [==============================] - 15s 5s/step - loss: 0.5021 - accuracy: 0.8515 - val_loss: 0.6739 - val_accuracy: 0.7694\n",
            "Epoch 11/50\n",
            "3/3 [==============================] - 15s 5s/step - loss: 0.3727 - accuracy: 0.8862 - val_loss: 0.5957 - val_accuracy: 0.8012\n",
            "Epoch 12/50\n",
            "3/3 [==============================] - 15s 4s/step - loss: 0.2778 - accuracy: 0.9019 - val_loss: 0.7058 - val_accuracy: 0.8091\n",
            "Epoch 13/50\n",
            "3/3 [==============================] - 15s 4s/step - loss: 0.2155 - accuracy: 0.9382 - val_loss: 0.6780 - val_accuracy: 0.8032\n",
            "Epoch 14/50\n",
            "3/3 [==============================] - 16s 4s/step - loss: 0.1691 - accuracy: 0.9471 - val_loss: 0.5714 - val_accuracy: 0.8231\n",
            "Epoch 15/50\n",
            "3/3 [==============================] - 16s 5s/step - loss: 0.1287 - accuracy: 0.9622 - val_loss: 0.5735 - val_accuracy: 0.8390\n",
            "Epoch 16/50\n",
            "3/3 [==============================] - 16s 5s/step - loss: 0.0952 - accuracy: 0.9699 - val_loss: 0.6563 - val_accuracy: 0.8131\n",
            "Epoch 17/50\n",
            "3/3 [==============================] - 15s 5s/step - loss: 0.0697 - accuracy: 0.9801 - val_loss: 0.7331 - val_accuracy: 0.8270\n",
            "Epoch 18/50\n",
            "3/3 [==============================] - 15s 4s/step - loss: 0.0574 - accuracy: 0.9832 - val_loss: 0.8085 - val_accuracy: 0.8231\n",
            "Epoch 19/50\n",
            "3/3 [==============================] - 15s 4s/step - loss: 0.0480 - accuracy: 0.9856 - val_loss: 0.7935 - val_accuracy: 0.8390\n",
            "Epoch 20/50\n",
            "3/3 [==============================] - 15s 4s/step - loss: 0.0361 - accuracy: 0.9900 - val_loss: 0.8243 - val_accuracy: 0.8310\n",
            "Epoch 21/50\n",
            "3/3 [==============================] - 17s 5s/step - loss: 0.0241 - accuracy: 0.9934 - val_loss: 0.8723 - val_accuracy: 0.8270\n",
            "Epoch 22/50\n",
            "3/3 [==============================] - 15s 5s/step - loss: 0.0220 - accuracy: 0.9942 - val_loss: 0.9085 - val_accuracy: 0.8330\n",
            "Epoch 23/50\n",
            "3/3 [==============================] - 15s 5s/step - loss: 0.0182 - accuracy: 0.9949 - val_loss: 1.0088 - val_accuracy: 0.8310\n",
            "Epoch 24/50\n",
            "3/3 [==============================] - ETA: 0s - loss: 0.0105 - accuracy: 0.9980Restoring model weights from the end of the best epoch: 14.\n",
            "3/3 [==============================] - 15s 5s/step - loss: 0.0105 - accuracy: 0.9980 - val_loss: 1.0824 - val_accuracy: 0.8191\n",
            "Epoch 24: early stopping\n",
            "40/40 [==============================] - 3s 55ms/step\n",
            "40/40 [==============================] - 3s 73ms/step - loss: 0.5001 - accuracy: 0.8471\n",
            "Test set\n",
            "  Loss: 0.500\n",
            "  Accuracy: 0.847\n",
            "              precision    recall  f1-score   support\n",
            "\n",
            "   treatment       0.82      0.84      0.83       439\n",
            "     chronic       0.86      0.90      0.88       576\n",
            "      cancer       0.86      0.75      0.80       199\n",
            "     allergy       0.90      0.67      0.77        42\n",
            "\n",
            "    accuracy                           0.85      1256\n",
            "   macro avg       0.86      0.79      0.82      1256\n",
            "weighted avg       0.85      0.85      0.85      1256\n",
            "\n",
            "Matthews Corelation Score (MCC) :  0.7590288269033711\n"
          ]
        }
      ],
      "source": [
        "#Training\n",
        "model_lstm = create_model_lstm(vocabulary_sizeT3)\n",
        "model_lstm.compile(loss='categorical_crossentropy', optimizer='adam', metrics=['accuracy'])\n",
        "early_stopping = EarlyStopping(monitor='val_loss', min_delta=0.0001, patience=10, verbose=1, restore_best_weights=True)\n",
        "callbacks_list = [early_stopping]\n",
        "\n",
        "history = model_lstm.fit(train_dataT3, tf.keras.utils.to_categorical(y_trainT3, num_classes=4, dtype='float32'), validation_split=0.1, epochs = 50, callbacks=callbacks_list, batch_size=2048)\n",
        "#Evaluation\n",
        "predict = model_lstm.predict(test_dataT3)\n",
        "accr = model_lstm.evaluate(test_dataT3, tf.keras.utils.to_categorical(y_testT3, num_classes=4, dtype='float32'))\n",
        "print('Test set\\n  Loss: {:0.3f}\\n  Accuracy: {:0.3f}'.format(accr[0],accr[1]))\n",
        "\n",
        "y_predT3=[]\n",
        "for j in range(0,len(predict)):\n",
        "  for i in range(0,len(predict[j])):\n",
        "    if predict[j][i] == max(predict[j]):\n",
        "      y_predT3.append(i)\n",
        "\n",
        "#printing the results\n",
        "print(classification_report(y_testT3, y_predT3, target_names=['treatment','chronic','cancer','allergy']))\n",
        "print('Matthews Corelation Score (MCC) : ',matthews_corrcoef(y_testT3, y_predT3))"
      ]
    },
    {
      "cell_type": "markdown",
      "metadata": {
        "id": "OI2e6aq2CwPD"
      },
      "source": [
        "##### CNN"
      ]
    },
    {
      "cell_type": "code",
      "execution_count": null,
      "metadata": {
        "id": "f8aTNCT7wgLo"
      },
      "outputs": [],
      "source": [
        "def create_model_cnn(vocabulary_size):\n",
        "  model_cnn = Sequential()\n",
        "  model_cnn.add(Embedding(vocabulary_size, input_length=vector_size,trainable=True,output_dim=256))\n",
        "  #model_glove.add(Embedding(vocabulary_size, input_length=200,trainable=False,output_dim=200,weights=[embedding_matrix])) #glove\n",
        "  model_cnn.add(Conv1D(filters=256, kernel_size=8, padding='same', activation='relu'))\n",
        "  model_cnn.add(Flatten())\n",
        "  model_cnn.add(Dense(4, activation='sigmoid'))#num_class\n",
        "  return model_cnn"
      ]
    },
    {
      "cell_type": "markdown",
      "metadata": {
        "id": "w_nKyMJ5fYwb"
      },
      "source": [
        "###### T1"
      ]
    },
    {
      "cell_type": "code",
      "execution_count": null,
      "metadata": {
        "colab": {
          "background_save": true
        },
        "id": "NUXxnYcxfak2",
        "outputId": "c14afd6e-b8a7-4b10-d05e-cfb5db47fcae"
      },
      "outputs": [
        {
          "name": "stdout",
          "output_type": "stream",
          "text": [
            "Epoch 1/50\n",
            "3/3 [==============================] - 20s 6s/step - loss: 1.2717 - accuracy: 0.3269 - val_loss: 1.2623 - val_accuracy: 0.4109\n",
            "Epoch 2/50\n",
            "3/3 [==============================] - 20s 6s/step - loss: 1.1441 - accuracy: 0.4576 - val_loss: 1.1473 - val_accuracy: 0.4822\n",
            "Epoch 3/50\n",
            "3/3 [==============================] - 18s 6s/step - loss: 1.1073 - accuracy: 0.5008 - val_loss: 1.1153 - val_accuracy: 0.5059\n",
            "Epoch 4/50\n",
            "3/3 [==============================] - 18s 5s/step - loss: 1.0460 - accuracy: 0.5585 - val_loss: 1.0837 - val_accuracy: 0.5297\n",
            "Epoch 5/50\n",
            "3/3 [==============================] - 19s 6s/step - loss: 0.9887 - accuracy: 0.5977 - val_loss: 1.0266 - val_accuracy: 0.5840\n",
            "Epoch 6/50\n",
            "3/3 [==============================] - 18s 6s/step - loss: 0.9070 - accuracy: 0.6436 - val_loss: 0.9338 - val_accuracy: 0.6299\n",
            "Epoch 7/50\n",
            "3/3 [==============================] - 19s 6s/step - loss: 0.8080 - accuracy: 0.6920 - val_loss: 0.8531 - val_accuracy: 0.6418\n",
            "Epoch 8/50\n",
            "3/3 [==============================] - 18s 6s/step - loss: 0.7097 - accuracy: 0.7331 - val_loss: 0.7839 - val_accuracy: 0.6859\n",
            "Epoch 9/50\n",
            "3/3 [==============================] - 18s 6s/step - loss: 0.6070 - accuracy: 0.7660 - val_loss: 0.7015 - val_accuracy: 0.7385\n",
            "Epoch 10/50\n",
            "3/3 [==============================] - 20s 6s/step - loss: 0.5031 - accuracy: 0.8317 - val_loss: 0.6278 - val_accuracy: 0.7827\n",
            "Epoch 11/50\n",
            "3/3 [==============================] - 18s 6s/step - loss: 0.4061 - accuracy: 0.8740 - val_loss: 0.5758 - val_accuracy: 0.7980\n",
            "Epoch 12/50\n",
            "3/3 [==============================] - 21s 7s/step - loss: 0.3186 - accuracy: 0.9046 - val_loss: 0.5286 - val_accuracy: 0.8268\n",
            "Epoch 13/50\n",
            "3/3 [==============================] - 18s 6s/step - loss: 0.2455 - accuracy: 0.9239 - val_loss: 0.5049 - val_accuracy: 0.8404\n",
            "Epoch 14/50\n",
            "3/3 [==============================] - 18s 6s/step - loss: 0.1906 - accuracy: 0.9433 - val_loss: 0.5008 - val_accuracy: 0.8438\n",
            "Epoch 15/50\n",
            "3/3 [==============================] - 20s 6s/step - loss: 0.1455 - accuracy: 0.9581 - val_loss: 0.5022 - val_accuracy: 0.8472\n",
            "Epoch 16/50\n",
            "3/3 [==============================] - 18s 6s/step - loss: 0.1094 - accuracy: 0.9720 - val_loss: 0.5121 - val_accuracy: 0.8455\n",
            "Epoch 17/50\n",
            "3/3 [==============================] - 19s 6s/step - loss: 0.0824 - accuracy: 0.9813 - val_loss: 0.5297 - val_accuracy: 0.8489\n",
            "Epoch 18/50\n",
            "3/3 [==============================] - 19s 6s/step - loss: 0.0623 - accuracy: 0.9862 - val_loss: 0.5336 - val_accuracy: 0.8523\n",
            "Epoch 19/50\n",
            "3/3 [==============================] - 18s 6s/step - loss: 0.0472 - accuracy: 0.9917 - val_loss: 0.5461 - val_accuracy: 0.8523\n",
            "Epoch 20/50\n",
            "3/3 [==============================] - 21s 7s/step - loss: 0.0355 - accuracy: 0.9932 - val_loss: 0.5694 - val_accuracy: 0.8387\n",
            "Epoch 21/50\n",
            "3/3 [==============================] - 18s 6s/step - loss: 0.0266 - accuracy: 0.9958 - val_loss: 0.5765 - val_accuracy: 0.8506\n",
            "Epoch 22/50\n",
            "3/3 [==============================] - 18s 5s/step - loss: 0.0207 - accuracy: 0.9970 - val_loss: 0.6011 - val_accuracy: 0.8523\n",
            "Epoch 23/50\n",
            "3/3 [==============================] - 19s 6s/step - loss: 0.0165 - accuracy: 0.9970 - val_loss: 0.6072 - val_accuracy: 0.8506\n",
            "Epoch 24/50\n",
            "3/3 [==============================] - ETA: 0s - loss: 0.0125 - accuracy: 0.9983Restoring model weights from the end of the best epoch: 14.\n",
            "3/3 [==============================] - 18s 6s/step - loss: 0.0125 - accuracy: 0.9983 - val_loss: 0.6148 - val_accuracy: 0.8557\n",
            "Epoch 24: early stopping\n",
            "46/46 [==============================] - 1s 28ms/step\n",
            "46/46 [==============================] - 1s 29ms/step - loss: 0.5714 - accuracy: 0.8458\n",
            "Test set\n",
            "  Loss: 0.571\n",
            "  Accuracy: 0.846\n",
            "              precision    recall  f1-score   support\n",
            "\n",
            "   treatment       0.84      0.86      0.85       538\n",
            "     chronic       0.87      0.91      0.89       640\n",
            "      cancer       0.78      0.78      0.78       256\n",
            "     allergy       0.83      0.13      0.23        38\n",
            "\n",
            "    accuracy                           0.85      1472\n",
            "   macro avg       0.83      0.67      0.69      1472\n",
            "weighted avg       0.85      0.85      0.84      1472\n",
            "\n",
            "Matthews Corelation Score (MCC) :  0.7587450996096213\n"
          ]
        }
      ],
      "source": [
        "#Training\n",
        "##Create sequence model for every training\n",
        "#Training\n",
        "model_cnn = create_model_cnn(vocabulary_sizeT1)\n",
        "model_cnn.compile(loss='categorical_crossentropy', optimizer='adam', metrics=['accuracy'])\n",
        "early_stopping = EarlyStopping(monitor='val_loss', min_delta=0.0001, patience=10, verbose=1, restore_best_weights=True)\n",
        "callbacks_list = [early_stopping]\n",
        "history = model_cnn.fit(train_dataT1, tf.keras.utils.to_categorical(y_trainT1, num_classes=4, dtype='float32'), validation_split=0.1, epochs = 50, callbacks=callbacks_list, batch_size=2048)\n",
        "#Evaluation\n",
        "predict = model_cnn.predict(test_dataT1)\n",
        "accr = model_cnn.evaluate(test_dataT1, tf.keras.utils.to_categorical(y_testT1, num_classes=4, dtype='float32'))\n",
        "print('Test set\\n  Loss: {:0.3f}\\n  Accuracy: {:0.3f}'.format(accr[0],accr[1]))\n",
        "\n",
        "y_predT1=[]\n",
        "for j in range(0,len(predict)):\n",
        "  for i in range(0,len(predict[j])):\n",
        "    if predict[j][i] == max(predict[j]):\n",
        "      y_predT1.append(i)\n",
        "\n",
        "#printing the results\n",
        "print(classification_report(y_testT1, y_predT1, target_names=['treatment','chronic','cancer','allergy']))\n",
        "print('Matthews Corelation Score (MCC) : ',matthews_corrcoef(y_testT1, y_predT1))"
      ]
    },
    {
      "cell_type": "markdown",
      "metadata": {
        "id": "_7Ab28RDfuCj"
      },
      "source": [
        "###### T2"
      ]
    },
    {
      "cell_type": "code",
      "execution_count": null,
      "metadata": {
        "colab": {
          "background_save": true
        },
        "id": "mqeqB56xfvtC",
        "outputId": "77cedcb0-fa6d-4e3d-96a3-22e685ba5dd9"
      },
      "outputs": [
        {
          "name": "stdout",
          "output_type": "stream",
          "text": [
            "Epoch 1/50\n",
            "3/3 [==============================] - 17s 4s/step - loss: 1.2947 - accuracy: 0.2961 - val_loss: 1.2362 - val_accuracy: 0.4855\n",
            "Epoch 2/50\n",
            "3/3 [==============================] - 17s 5s/step - loss: 1.1555 - accuracy: 0.4838 - val_loss: 1.1548 - val_accuracy: 0.4836\n",
            "Epoch 3/50\n",
            "3/3 [==============================] - 16s 5s/step - loss: 1.1186 - accuracy: 0.5522 - val_loss: 1.1087 - val_accuracy: 0.4874\n",
            "Epoch 4/50\n",
            "3/3 [==============================] - 16s 5s/step - loss: 1.0707 - accuracy: 0.5277 - val_loss: 1.1078 - val_accuracy: 0.5590\n",
            "Epoch 5/50\n",
            "3/3 [==============================] - 18s 5s/step - loss: 1.0324 - accuracy: 0.6253 - val_loss: 1.0614 - val_accuracy: 0.5899\n",
            "Epoch 6/50\n",
            "3/3 [==============================] - 18s 5s/step - loss: 0.9651 - accuracy: 0.6449 - val_loss: 0.9788 - val_accuracy: 0.5996\n",
            "Epoch 7/50\n",
            "3/3 [==============================] - 16s 5s/step - loss: 0.8792 - accuracy: 0.6609 - val_loss: 0.9110 - val_accuracy: 0.6228\n",
            "Epoch 8/50\n",
            "3/3 [==============================] - 16s 5s/step - loss: 0.7772 - accuracy: 0.6957 - val_loss: 0.8209 - val_accuracy: 0.6538\n",
            "Epoch 9/50\n",
            "3/3 [==============================] - 16s 5s/step - loss: 0.6666 - accuracy: 0.7400 - val_loss: 0.7445 - val_accuracy: 0.6925\n",
            "Epoch 10/50\n",
            "3/3 [==============================] - 16s 4s/step - loss: 0.5572 - accuracy: 0.8027 - val_loss: 0.6773 - val_accuracy: 0.7331\n",
            "Epoch 11/50\n",
            "3/3 [==============================] - 18s 5s/step - loss: 0.4569 - accuracy: 0.8382 - val_loss: 0.6085 - val_accuracy: 0.7776\n",
            "Epoch 12/50\n",
            "3/3 [==============================] - 16s 5s/step - loss: 0.3604 - accuracy: 0.9002 - val_loss: 0.5638 - val_accuracy: 0.8104\n",
            "Epoch 13/50\n",
            "3/3 [==============================] - 16s 5s/step - loss: 0.2841 - accuracy: 0.9169 - val_loss: 0.5300 - val_accuracy: 0.8124\n",
            "Epoch 14/50\n",
            "3/3 [==============================] - 17s 5s/step - loss: 0.2211 - accuracy: 0.9320 - val_loss: 0.5080 - val_accuracy: 0.8279\n",
            "Epoch 15/50\n",
            "3/3 [==============================] - 17s 5s/step - loss: 0.1750 - accuracy: 0.9445 - val_loss: 0.5017 - val_accuracy: 0.8395\n",
            "Epoch 16/50\n",
            "3/3 [==============================] - 16s 5s/step - loss: 0.1311 - accuracy: 0.9634 - val_loss: 0.5189 - val_accuracy: 0.8472\n",
            "Epoch 17/50\n",
            "3/3 [==============================] - 16s 5s/step - loss: 0.0997 - accuracy: 0.9791 - val_loss: 0.5188 - val_accuracy: 0.8549\n",
            "Epoch 18/50\n",
            "3/3 [==============================] - 16s 5s/step - loss: 0.0741 - accuracy: 0.9847 - val_loss: 0.5263 - val_accuracy: 0.8627\n",
            "Epoch 19/50\n",
            "3/3 [==============================] - 16s 4s/step - loss: 0.0558 - accuracy: 0.9888 - val_loss: 0.5380 - val_accuracy: 0.8530\n",
            "Epoch 20/50\n",
            "3/3 [==============================] - 17s 5s/step - loss: 0.0453 - accuracy: 0.9912 - val_loss: 0.5473 - val_accuracy: 0.8607\n",
            "Epoch 21/50\n",
            "3/3 [==============================] - 16s 5s/step - loss: 0.0337 - accuracy: 0.9927 - val_loss: 0.5561 - val_accuracy: 0.8607\n",
            "Epoch 22/50\n",
            "3/3 [==============================] - 16s 5s/step - loss: 0.0260 - accuracy: 0.9944 - val_loss: 0.5761 - val_accuracy: 0.8646\n",
            "Epoch 23/50\n",
            "3/3 [==============================] - 16s 5s/step - loss: 0.0206 - accuracy: 0.9948 - val_loss: 0.5990 - val_accuracy: 0.8646\n",
            "Epoch 24/50\n",
            "3/3 [==============================] - 16s 4s/step - loss: 0.0166 - accuracy: 0.9957 - val_loss: 0.6004 - val_accuracy: 0.8627\n",
            "Epoch 25/50\n",
            "3/3 [==============================] - ETA: 0s - loss: 0.0133 - accuracy: 0.9972Restoring model weights from the end of the best epoch: 15.\n",
            "3/3 [==============================] - 17s 5s/step - loss: 0.0133 - accuracy: 0.9972 - val_loss: 0.6119 - val_accuracy: 0.8627\n",
            "Epoch 25: early stopping\n",
            "41/41 [==============================] - 1s 28ms/step\n",
            "41/41 [==============================] - 2s 48ms/step - loss: 0.5240 - accuracy: 0.8342\n",
            "Test set\n",
            "  Loss: 0.524\n",
            "  Accuracy: 0.834\n",
            "              precision    recall  f1-score   support\n",
            "\n",
            "   treatment       0.84      0.82      0.83       424\n",
            "     chronic       0.86      0.91      0.89       602\n",
            "      cancer       0.74      0.77      0.76       229\n",
            "     allergy       1.00      0.14      0.24        36\n",
            "\n",
            "    accuracy                           0.83      1291\n",
            "   macro avg       0.86      0.66      0.68      1291\n",
            "weighted avg       0.84      0.83      0.83      1291\n",
            "\n",
            "Matthews Corelation Score (MCC) :  0.7388516970981883\n"
          ]
        }
      ],
      "source": [
        "#Training\n",
        "model_cnn = create_model_cnn(vocabulary_sizeT2)\n",
        "model_cnn.compile(loss='categorical_crossentropy', optimizer='adam', metrics=['accuracy'])\n",
        "early_stopping = EarlyStopping(monitor='val_loss', min_delta=0.0001, patience=10, verbose=1, restore_best_weights=True)\n",
        "callbacks_list = [early_stopping]\n",
        "history = model_cnn.fit(train_dataT2, tf.keras.utils.to_categorical(y_trainT2, num_classes=4, dtype='float32'), validation_split=0.1, epochs = 50, callbacks=callbacks_list, batch_size=2048)\n",
        "#Evaluation\n",
        "predict = model_cnn.predict(test_dataT2)\n",
        "accr = model_cnn.evaluate(test_dataT2, tf.keras.utils.to_categorical(y_testT2, num_classes=4, dtype='float32'))\n",
        "print('Test set\\n  Loss: {:0.3f}\\n  Accuracy: {:0.3f}'.format(accr[0],accr[1]))\n",
        "\n",
        "y_predT2=[]\n",
        "for j in range(0,len(predict)):\n",
        "  for i in range(0,len(predict[j])):\n",
        "    if predict[j][i] == max(predict[j]):\n",
        "      y_predT2.append(i)\n",
        "\n",
        "#printing the results\n",
        "print(classification_report(y_testT2, y_predT2, target_names=['treatment','chronic','cancer','allergy']))\n",
        "print('Matthews Corelation Score (MCC) : ',matthews_corrcoef(y_testT2, y_predT2))"
      ]
    },
    {
      "cell_type": "markdown",
      "metadata": {
        "id": "3NR2-gUOf6Gh"
      },
      "source": [
        "###### T3"
      ]
    },
    {
      "cell_type": "code",
      "execution_count": null,
      "metadata": {
        "colab": {
          "base_uri": "https://localhost:8080/"
        },
        "id": "boplDXizf8j7",
        "outputId": "c572a8da-6715-4fa1-e1da-f3e754b90c52"
      },
      "outputs": [
        {
          "name": "stdout",
          "output_type": "stream",
          "text": [
            "Epoch 1/50\n",
            "3/3 [==============================] - 19s 5s/step - loss: 1.2893 - accuracy: 0.4024 - val_loss: 1.2197 - val_accuracy: 0.4394\n",
            "Epoch 2/50\n",
            "3/3 [==============================] - 17s 5s/step - loss: 1.1669 - accuracy: 0.4566 - val_loss: 1.1586 - val_accuracy: 0.4871\n",
            "Epoch 3/50\n",
            "3/3 [==============================] - 17s 5s/step - loss: 1.1268 - accuracy: 0.6058 - val_loss: 1.1221 - val_accuracy: 0.4930\n",
            "Epoch 4/50\n",
            "3/3 [==============================] - 19s 5s/step - loss: 1.0676 - accuracy: 0.5923 - val_loss: 1.0996 - val_accuracy: 0.5487\n",
            "Epoch 5/50\n",
            "3/3 [==============================] - 17s 4s/step - loss: 1.0205 - accuracy: 0.6549 - val_loss: 1.0427 - val_accuracy: 0.5825\n",
            "Epoch 6/50\n",
            "3/3 [==============================] - 20s 5s/step - loss: 0.9278 - accuracy: 0.6718 - val_loss: 0.9548 - val_accuracy: 0.6282\n",
            "Epoch 7/50\n",
            "3/3 [==============================] - 16s 5s/step - loss: 0.8034 - accuracy: 0.7107 - val_loss: 0.8549 - val_accuracy: 0.6640\n",
            "Epoch 8/50\n",
            "3/3 [==============================] - 16s 5s/step - loss: 0.6727 - accuracy: 0.7581 - val_loss: 0.7701 - val_accuracy: 0.6998\n",
            "Epoch 9/50\n",
            "3/3 [==============================] - 16s 5s/step - loss: 0.5514 - accuracy: 0.8008 - val_loss: 0.6953 - val_accuracy: 0.7435\n",
            "Epoch 10/50\n",
            "3/3 [==============================] - 17s 5s/step - loss: 0.4440 - accuracy: 0.8515 - val_loss: 0.6267 - val_accuracy: 0.7932\n",
            "Epoch 11/50\n",
            "3/3 [==============================] - 16s 4s/step - loss: 0.3483 - accuracy: 0.8920 - val_loss: 0.5824 - val_accuracy: 0.8091\n",
            "Epoch 12/50\n",
            "3/3 [==============================] - 18s 4s/step - loss: 0.2714 - accuracy: 0.9199 - val_loss: 0.5434 - val_accuracy: 0.8151\n",
            "Epoch 13/50\n",
            "3/3 [==============================] - 17s 4s/step - loss: 0.2110 - accuracy: 0.9329 - val_loss: 0.5317 - val_accuracy: 0.8330\n",
            "Epoch 14/50\n",
            "3/3 [==============================] - 17s 5s/step - loss: 0.1623 - accuracy: 0.9597 - val_loss: 0.5214 - val_accuracy: 0.8310\n",
            "Epoch 15/50\n",
            "3/3 [==============================] - 16s 5s/step - loss: 0.1281 - accuracy: 0.9637 - val_loss: 0.5465 - val_accuracy: 0.8250\n",
            "Epoch 16/50\n",
            "3/3 [==============================] - 16s 5s/step - loss: 0.0982 - accuracy: 0.9801 - val_loss: 0.5223 - val_accuracy: 0.8449\n",
            "Epoch 17/50\n",
            "3/3 [==============================] - 17s 5s/step - loss: 0.0745 - accuracy: 0.9834 - val_loss: 0.5532 - val_accuracy: 0.8390\n",
            "Epoch 18/50\n",
            "3/3 [==============================] - 16s 4s/step - loss: 0.0550 - accuracy: 0.9911 - val_loss: 0.5772 - val_accuracy: 0.8330\n",
            "Epoch 19/50\n",
            "3/3 [==============================] - 17s 4s/step - loss: 0.0410 - accuracy: 0.9923 - val_loss: 0.5633 - val_accuracy: 0.8469\n",
            "Epoch 20/50\n",
            "3/3 [==============================] - 17s 5s/step - loss: 0.0322 - accuracy: 0.9945 - val_loss: 0.5956 - val_accuracy: 0.8330\n",
            "Epoch 21/50\n",
            "3/3 [==============================] - 16s 5s/step - loss: 0.0244 - accuracy: 0.9962 - val_loss: 0.6110 - val_accuracy: 0.8390\n",
            "Epoch 22/50\n",
            "3/3 [==============================] - 16s 5s/step - loss: 0.0197 - accuracy: 0.9965 - val_loss: 0.6247 - val_accuracy: 0.8410\n",
            "Epoch 23/50\n",
            "3/3 [==============================] - 16s 5s/step - loss: 0.0163 - accuracy: 0.9969 - val_loss: 0.6354 - val_accuracy: 0.8350\n",
            "Epoch 24/50\n",
            "3/3 [==============================] - ETA: 0s - loss: 0.0136 - accuracy: 0.9973Restoring model weights from the end of the best epoch: 14.\n",
            "3/3 [==============================] - 17s 5s/step - loss: 0.0136 - accuracy: 0.9973 - val_loss: 0.6363 - val_accuracy: 0.8410\n",
            "Epoch 24: early stopping\n",
            "40/40 [==============================] - 1s 28ms/step\n",
            "40/40 [==============================] - 1s 28ms/step - loss: 0.5034 - accuracy: 0.8384\n",
            "Test set\n",
            "  Loss: 0.503\n",
            "  Accuracy: 0.838\n",
            "              precision    recall  f1-score   support\n",
            "\n",
            "   treatment       0.77      0.87      0.82       439\n",
            "     chronic       0.89      0.89      0.89       576\n",
            "      cancer       0.85      0.74      0.79       199\n",
            "     allergy       1.00      0.31      0.47        42\n",
            "\n",
            "    accuracy                           0.84      1256\n",
            "   macro avg       0.88      0.70      0.74      1256\n",
            "weighted avg       0.85      0.84      0.83      1256\n",
            "\n",
            "Matthews Corelation Score (MCC) :  0.7452568675703258\n"
          ]
        }
      ],
      "source": [
        "#Training\n",
        "model_cnn = create_model_cnn(vocabulary_sizeT3)\n",
        "model_cnn.compile(loss='categorical_crossentropy', optimizer='adam', metrics=['accuracy'])\n",
        "early_stopping = EarlyStopping(monitor='val_loss', min_delta=0.0001, patience=10, verbose=1, restore_best_weights=True)\n",
        "callbacks_list = [early_stopping]\n",
        "history = model_cnn.fit(train_dataT3, tf.keras.utils.to_categorical(y_trainT3, num_classes=4, dtype='float32'), validation_split=0.1, epochs = 50, callbacks=callbacks_list, batch_size=2048)\n",
        "#Evaluation\n",
        "predict = model_cnn.predict(test_dataT3)\n",
        "accr = model_cnn.evaluate(test_dataT3, tf.keras.utils.to_categorical(y_testT3, num_classes=4, dtype='float32'))\n",
        "print('Test set\\n  Loss: {:0.3f}\\n  Accuracy: {:0.3f}'.format(accr[0],accr[1]))\n",
        "\n",
        "y_predT3=[]\n",
        "for j in range(0,len(predict)):\n",
        "  for i in range(0,len(predict[j])):\n",
        "    if predict[j][i] == max(predict[j]):\n",
        "      y_predT3.append(i)\n",
        "\n",
        "#printing the results\n",
        "print(classification_report(y_testT3, y_predT3, target_names=['treatment','chronic','cancer','allergy']))\n",
        "print('Matthews Corelation Score (MCC) : ',matthews_corrcoef(y_testT3, y_predT3))"
      ]
    },
    {
      "cell_type": "markdown",
      "metadata": {
        "id": "6d-gwXpKB48B"
      },
      "source": [
        "##### Pyramid NN"
      ]
    },
    {
      "cell_type": "code",
      "execution_count": null,
      "metadata": {
        "id": "8VEL5h7GB7eH"
      },
      "outputs": [],
      "source": [
        "def create_model_pnn(vocabulary_size):\n",
        "  model_pnn = Sequential()\n",
        "  model_pnn.add(Embedding(vocabulary_size, input_length=vector_size,trainable=True,output_dim=256))\n",
        "  model_pnn.add(Flatten())\n",
        "  model_pnn.add(Dense(512, activation='sigmoid'))\n",
        "  model_pnn.add(Dense(256, activation='sigmoid'))\n",
        "  model_pnn.add(Dense(128, activation='sigmoid'))\n",
        "  model_pnn.add(Dense(64, activation='sigmoid'))\n",
        "  model_pnn.add(Dense(32, activation='sigmoid'))\n",
        "  model_pnn.add(Dense(16, activation='sigmoid'))\n",
        "  model_pnn.add(Dense(8, activation='sigmoid'))\n",
        "  model_pnn.add(Dense(4, activation='sigmoid'))#num_class\n",
        "  return model_pnn"
      ]
    },
    {
      "cell_type": "markdown",
      "metadata": {
        "id": "jMSmkZkAgfzF"
      },
      "source": [
        "###### T1"
      ]
    },
    {
      "cell_type": "code",
      "execution_count": null,
      "metadata": {
        "colab": {
          "background_save": true,
          "base_uri": "https://localhost:8080/"
        },
        "id": "7QDpFn7KgYvi",
        "outputId": "0a01a902-d8a1-404c-c9ab-c41fe88d1aa4"
      },
      "outputs": [
        {
          "name": "stdout",
          "output_type": "stream",
          "text": [
            "Epoch 1/50\n",
            "3/3 [==============================] - 11s 2s/step - loss: 1.6180 - accuracy: 0.1634 - val_loss: 1.5540 - val_accuracy: 0.2003\n",
            "Epoch 2/50\n",
            "3/3 [==============================] - 4s 1s/step - loss: 1.5801 - accuracy: 0.1634 - val_loss: 1.5226 - val_accuracy: 0.2003\n",
            "Epoch 3/50\n",
            "3/3 [==============================] - 5s 1s/step - loss: 1.5462 - accuracy: 0.1634 - val_loss: 1.4949 - val_accuracy: 0.2003\n",
            "Epoch 4/50\n",
            "3/3 [==============================] - 4s 1s/step - loss: 1.5161 - accuracy: 0.1634 - val_loss: 1.4701 - val_accuracy: 0.2003\n",
            "Epoch 5/50\n",
            "3/3 [==============================] - 4s 1s/step - loss: 1.4888 - accuracy: 0.1634 - val_loss: 1.4478 - val_accuracy: 0.2003\n",
            "Epoch 6/50\n",
            "3/3 [==============================] - 6s 2s/step - loss: 1.4642 - accuracy: 0.1634 - val_loss: 1.4274 - val_accuracy: 0.2003\n",
            "Epoch 7/50\n",
            "3/3 [==============================] - 4s 1s/step - loss: 1.4415 - accuracy: 0.1634 - val_loss: 1.4089 - val_accuracy: 0.2003\n",
            "Epoch 8/50\n",
            "3/3 [==============================] - 4s 1s/step - loss: 1.4209 - accuracy: 0.1634 - val_loss: 1.3918 - val_accuracy: 0.2003\n",
            "Epoch 9/50\n",
            "3/3 [==============================] - 5s 2s/step - loss: 1.4018 - accuracy: 0.1634 - val_loss: 1.3761 - val_accuracy: 0.2003\n",
            "Epoch 10/50\n",
            "3/3 [==============================] - 5s 1s/step - loss: 1.3841 - accuracy: 0.1634 - val_loss: 1.3616 - val_accuracy: 0.2003\n",
            "Epoch 11/50\n",
            "3/3 [==============================] - 4s 1s/step - loss: 1.3677 - accuracy: 0.3054 - val_loss: 1.3482 - val_accuracy: 0.3582\n",
            "Epoch 12/50\n",
            "3/3 [==============================] - 4s 1s/step - loss: 1.3527 - accuracy: 0.3768 - val_loss: 1.3357 - val_accuracy: 0.3582\n",
            "Epoch 13/50\n",
            "3/3 [==============================] - 6s 2s/step - loss: 1.3383 - accuracy: 0.3768 - val_loss: 1.3242 - val_accuracy: 0.3582\n",
            "Epoch 14/50\n",
            "3/3 [==============================] - 4s 1s/step - loss: 1.3252 - accuracy: 0.3768 - val_loss: 1.3135 - val_accuracy: 0.3582\n",
            "Epoch 15/50\n",
            "3/3 [==============================] - 4s 1s/step - loss: 1.3128 - accuracy: 0.3768 - val_loss: 1.3035 - val_accuracy: 0.3582\n",
            "Epoch 16/50\n",
            "3/3 [==============================] - 5s 2s/step - loss: 1.3015 - accuracy: 0.3768 - val_loss: 1.2942 - val_accuracy: 0.3582\n",
            "Epoch 17/50\n",
            "3/3 [==============================] - 4s 1s/step - loss: 1.2906 - accuracy: 0.3768 - val_loss: 1.2855 - val_accuracy: 0.3582\n",
            "Epoch 18/50\n",
            "3/3 [==============================] - 6s 2s/step - loss: 1.2808 - accuracy: 0.3768 - val_loss: 1.2774 - val_accuracy: 0.3582\n",
            "Epoch 19/50\n",
            "3/3 [==============================] - 6s 2s/step - loss: 1.2712 - accuracy: 0.3768 - val_loss: 1.2698 - val_accuracy: 0.3582\n",
            "Epoch 20/50\n",
            "3/3 [==============================] - 4s 1s/step - loss: 1.2624 - accuracy: 0.3768 - val_loss: 1.2628 - val_accuracy: 0.3582\n",
            "Epoch 21/50\n",
            "3/3 [==============================] - 4s 1s/step - loss: 1.2540 - accuracy: 0.3768 - val_loss: 1.2562 - val_accuracy: 0.3582\n",
            "Epoch 22/50\n",
            "3/3 [==============================] - 5s 2s/step - loss: 1.2462 - accuracy: 0.3768 - val_loss: 1.2501 - val_accuracy: 0.3582\n",
            "Epoch 23/50\n",
            "3/3 [==============================] - 5s 1s/step - loss: 1.2389 - accuracy: 0.3768 - val_loss: 1.2443 - val_accuracy: 0.3582\n",
            "Epoch 24/50\n",
            "3/3 [==============================] - 4s 1s/step - loss: 1.2320 - accuracy: 0.3768 - val_loss: 1.2389 - val_accuracy: 0.3582\n",
            "Epoch 25/50\n",
            "3/3 [==============================] - 4s 1s/step - loss: 1.2254 - accuracy: 0.3768 - val_loss: 1.2339 - val_accuracy: 0.3582\n",
            "Epoch 26/50\n",
            "3/3 [==============================] - 5s 2s/step - loss: 1.2193 - accuracy: 0.3768 - val_loss: 1.2291 - val_accuracy: 0.3582\n",
            "Epoch 27/50\n",
            "3/3 [==============================] - 4s 1s/step - loss: 1.2135 - accuracy: 0.3768 - val_loss: 1.2247 - val_accuracy: 0.3582\n",
            "Epoch 28/50\n",
            "3/3 [==============================] - 4s 1s/step - loss: 1.2080 - accuracy: 0.3768 - val_loss: 1.2206 - val_accuracy: 0.3582\n",
            "Epoch 29/50\n",
            "3/3 [==============================] - 6s 2s/step - loss: 1.2029 - accuracy: 0.3768 - val_loss: 1.2167 - val_accuracy: 0.3582\n",
            "Epoch 30/50\n",
            "3/3 [==============================] - 4s 1s/step - loss: 1.1980 - accuracy: 0.3768 - val_loss: 1.2130 - val_accuracy: 0.3582\n",
            "Epoch 31/50\n",
            "3/3 [==============================] - 4s 1s/step - loss: 1.1935 - accuracy: 0.3768 - val_loss: 1.2096 - val_accuracy: 0.3582\n",
            "Epoch 32/50\n",
            "3/3 [==============================] - 5s 2s/step - loss: 1.1891 - accuracy: 0.3768 - val_loss: 1.2064 - val_accuracy: 0.3582\n",
            "Epoch 33/50\n",
            "3/3 [==============================] - 5s 1s/step - loss: 1.1850 - accuracy: 0.3768 - val_loss: 1.2035 - val_accuracy: 0.3582\n",
            "Epoch 34/50\n",
            "3/3 [==============================] - 4s 1s/step - loss: 1.1812 - accuracy: 0.3768 - val_loss: 1.2007 - val_accuracy: 0.3582\n",
            "Epoch 35/50\n",
            "3/3 [==============================] - 4s 1s/step - loss: 1.1776 - accuracy: 0.3768 - val_loss: 1.1981 - val_accuracy: 0.3582\n",
            "Epoch 36/50\n",
            "3/3 [==============================] - 6s 2s/step - loss: 1.1742 - accuracy: 0.3768 - val_loss: 1.1957 - val_accuracy: 0.3582\n",
            "Epoch 37/50\n",
            "3/3 [==============================] - 4s 1s/step - loss: 1.1710 - accuracy: 0.3768 - val_loss: 1.1934 - val_accuracy: 0.3582\n",
            "Epoch 38/50\n",
            "3/3 [==============================] - 4s 1s/step - loss: 1.1681 - accuracy: 0.3768 - val_loss: 1.1914 - val_accuracy: 0.3582\n",
            "Epoch 39/50\n",
            "3/3 [==============================] - 5s 2s/step - loss: 1.1652 - accuracy: 0.3768 - val_loss: 1.1894 - val_accuracy: 0.3582\n",
            "Epoch 40/50\n",
            "3/3 [==============================] - 4s 1s/step - loss: 1.1626 - accuracy: 0.3768 - val_loss: 1.1877 - val_accuracy: 0.3582\n",
            "Epoch 41/50\n",
            "3/3 [==============================] - 5s 2s/step - loss: 1.1601 - accuracy: 0.3768 - val_loss: 1.1860 - val_accuracy: 0.3582\n",
            "Epoch 42/50\n",
            "3/3 [==============================] - 6s 2s/step - loss: 1.1578 - accuracy: 0.3768 - val_loss: 1.1845 - val_accuracy: 0.3582\n",
            "Epoch 43/50\n",
            "3/3 [==============================] - 4s 1s/step - loss: 1.1556 - accuracy: 0.3768 - val_loss: 1.1830 - val_accuracy: 0.3582\n",
            "Epoch 44/50\n",
            "3/3 [==============================] - 4s 1s/step - loss: 1.1535 - accuracy: 0.3768 - val_loss: 1.1817 - val_accuracy: 0.3582\n",
            "Epoch 45/50\n",
            "3/3 [==============================] - 5s 2s/step - loss: 1.1516 - accuracy: 0.3768 - val_loss: 1.1805 - val_accuracy: 0.3582\n",
            "Epoch 46/50\n",
            "3/3 [==============================] - 5s 1s/step - loss: 1.1497 - accuracy: 0.3768 - val_loss: 1.1794 - val_accuracy: 0.3582\n",
            "Epoch 47/50\n",
            "3/3 [==============================] - 4s 1s/step - loss: 1.1481 - accuracy: 0.3768 - val_loss: 1.1784 - val_accuracy: 0.3582\n",
            "Epoch 48/50\n",
            "3/3 [==============================] - 4s 1s/step - loss: 1.1465 - accuracy: 0.3768 - val_loss: 1.1774 - val_accuracy: 0.3582\n",
            "Epoch 49/50\n",
            "3/3 [==============================] - 6s 2s/step - loss: 1.1450 - accuracy: 0.3768 - val_loss: 1.1765 - val_accuracy: 0.3582\n",
            "Epoch 50/50\n",
            "3/3 [==============================] - 4s 1s/step - loss: 1.1436 - accuracy: 0.3768 - val_loss: 1.1757 - val_accuracy: 0.3582\n",
            "46/46 [==============================] - 1s 14ms/step\n",
            "46/46 [==============================] - 1s 13ms/step - loss: 1.1496 - accuracy: 0.3655\n",
            "Test set\n",
            "  Loss: 1.150\n",
            "  Accuracy: 0.365\n",
            "              precision    recall  f1-score   support\n",
            "\n",
            "   treatment       0.37      1.00      0.54       538\n",
            "     chronic       0.00      0.00      0.00       640\n",
            "      cancer       0.00      0.00      0.00       256\n",
            "     allergy       0.00      0.00      0.00        38\n",
            "\n",
            "    accuracy                           0.37      1472\n",
            "   macro avg       0.09      0.25      0.13      1472\n",
            "weighted avg       0.13      0.37      0.20      1472\n",
            "\n",
            "Matthews Corelation Score (MCC) :  0.0\n"
          ]
        }
      ],
      "source": [
        "#Training\n",
        "##Create LSTM sequence model for every training\n",
        "model_pnn = create_model_pnn(vocabulary_sizeT1)\n",
        "model_pnn.compile(loss='categorical_crossentropy', optimizer='adam', metrics=['accuracy'])\n",
        "early_stopping = EarlyStopping(monitor='val_loss', min_delta=0.0001, patience=10, verbose=1, restore_best_weights=True)\n",
        "callbacks_list = [early_stopping]\n",
        "history = model_pnn.fit(train_dataT1, tf.keras.utils.to_categorical(y_trainT1, num_classes=4, dtype='float32'), validation_split=0.1, epochs = 50, callbacks=callbacks_list, batch_size=2048)\n",
        "#Evaluation\n",
        "predict = model_pnn.predict(test_dataT1)\n",
        "accr = model_pnn.evaluate(test_dataT1, tf.keras.utils.to_categorical(y_testT1, num_classes=4, dtype='float32'))\n",
        "print('Test set\\n  Loss: {:0.3f}\\n  Accuracy: {:0.3f}'.format(accr[0],accr[1]))\n",
        "\n",
        "y_predT1=[]\n",
        "for j in range(0,len(predict)):\n",
        "  for i in range(0,len(predict[j])):\n",
        "    if predict[j][i] == max(predict[j]):\n",
        "      y_predT1.append(i)\n",
        "\n",
        "#printing the results\n",
        "print(classification_report(y_testT1, y_predT1, target_names=['treatment','chronic','cancer','allergy']))\n",
        "print('Matthews Corelation Score (MCC) : ',matthews_corrcoef(y_testT1, y_predT1))"
      ]
    },
    {
      "cell_type": "markdown",
      "metadata": {
        "id": "x410fUwnglIC"
      },
      "source": [
        "###### T2"
      ]
    },
    {
      "cell_type": "code",
      "execution_count": null,
      "metadata": {
        "colab": {
          "background_save": true
        },
        "id": "zzmtD-ITgnhI",
        "outputId": "38d214c0-7837-4a97-dac1-c2cee5d47c87"
      },
      "outputs": [
        {
          "name": "stdout",
          "output_type": "stream",
          "text": [
            "Epoch 1/50\n",
            "3/3 [==============================] - 7s 1s/step - loss: 1.3146 - accuracy: 0.1743 - val_loss: 1.2491 - val_accuracy: 0.2244\n",
            "Epoch 2/50\n",
            "3/3 [==============================] - 3s 965ms/step - loss: 1.2971 - accuracy: 0.3426 - val_loss: 1.2359 - val_accuracy: 0.4855\n",
            "Epoch 3/50\n",
            "3/3 [==============================] - 3s 959ms/step - loss: 1.2811 - accuracy: 0.4777 - val_loss: 1.2243 - val_accuracy: 0.4855\n",
            "Epoch 4/50\n",
            "3/3 [==============================] - 5s 2s/step - loss: 1.2665 - accuracy: 0.4777 - val_loss: 1.2141 - val_accuracy: 0.4855\n",
            "Epoch 5/50\n",
            "3/3 [==============================] - 3s 983ms/step - loss: 1.2535 - accuracy: 0.4777 - val_loss: 1.2052 - val_accuracy: 0.4855\n",
            "Epoch 6/50\n",
            "3/3 [==============================] - 3s 955ms/step - loss: 1.2416 - accuracy: 0.4777 - val_loss: 1.1975 - val_accuracy: 0.4855\n",
            "Epoch 7/50\n",
            "3/3 [==============================] - 4s 1s/step - loss: 1.2310 - accuracy: 0.4777 - val_loss: 1.1908 - val_accuracy: 0.4855\n",
            "Epoch 8/50\n",
            "3/3 [==============================] - 5s 1s/step - loss: 1.2215 - accuracy: 0.4777 - val_loss: 1.1849 - val_accuracy: 0.4855\n",
            "Epoch 9/50\n",
            "3/3 [==============================] - 3s 964ms/step - loss: 1.2126 - accuracy: 0.4777 - val_loss: 1.1799 - val_accuracy: 0.4855\n",
            "Epoch 10/50\n",
            "3/3 [==============================] - 3s 964ms/step - loss: 1.2049 - accuracy: 0.4777 - val_loss: 1.1755 - val_accuracy: 0.4855\n",
            "Epoch 11/50\n",
            "3/3 [==============================] - 6s 2s/step - loss: 1.1977 - accuracy: 0.4777 - val_loss: 1.1716 - val_accuracy: 0.4855\n",
            "Epoch 12/50\n",
            "3/3 [==============================] - 4s 982ms/step - loss: 1.1913 - accuracy: 0.4777 - val_loss: 1.1684 - val_accuracy: 0.4855\n",
            "Epoch 13/50\n",
            "3/3 [==============================] - 3s 982ms/step - loss: 1.1854 - accuracy: 0.4777 - val_loss: 1.1656 - val_accuracy: 0.4855\n",
            "Epoch 14/50\n",
            "3/3 [==============================] - 3s 982ms/step - loss: 1.1802 - accuracy: 0.4777 - val_loss: 1.1631 - val_accuracy: 0.4855\n",
            "Epoch 15/50\n",
            "3/3 [==============================] - 5s 2s/step - loss: 1.1754 - accuracy: 0.4777 - val_loss: 1.1611 - val_accuracy: 0.4855\n",
            "Epoch 16/50\n",
            "3/3 [==============================] - 3s 970ms/step - loss: 1.1712 - accuracy: 0.4777 - val_loss: 1.1593 - val_accuracy: 0.4855\n",
            "Epoch 17/50\n",
            "3/3 [==============================] - 3s 979ms/step - loss: 1.1673 - accuracy: 0.4777 - val_loss: 1.1578 - val_accuracy: 0.4855\n",
            "Epoch 18/50\n",
            "3/3 [==============================] - 3s 1s/step - loss: 1.1637 - accuracy: 0.4777 - val_loss: 1.1565 - val_accuracy: 0.4855\n",
            "Epoch 19/50\n",
            "3/3 [==============================] - 5s 1s/step - loss: 1.1605 - accuracy: 0.4777 - val_loss: 1.1554 - val_accuracy: 0.4855\n",
            "Epoch 20/50\n",
            "3/3 [==============================] - 3s 991ms/step - loss: 1.1576 - accuracy: 0.4777 - val_loss: 1.1545 - val_accuracy: 0.4855\n",
            "Epoch 21/50\n",
            "3/3 [==============================] - 3s 995ms/step - loss: 1.1550 - accuracy: 0.4777 - val_loss: 1.1538 - val_accuracy: 0.4855\n",
            "Epoch 22/50\n",
            "3/3 [==============================] - 4s 2s/step - loss: 1.1526 - accuracy: 0.4777 - val_loss: 1.1532 - val_accuracy: 0.4855\n",
            "Epoch 23/50\n",
            "3/3 [==============================] - 4s 992ms/step - loss: 1.1504 - accuracy: 0.4777 - val_loss: 1.1527 - val_accuracy: 0.4855\n",
            "Epoch 24/50\n",
            "3/3 [==============================] - 3s 966ms/step - loss: 1.1485 - accuracy: 0.4777 - val_loss: 1.1523 - val_accuracy: 0.4855\n",
            "Epoch 25/50\n",
            "3/3 [==============================] - 3s 979ms/step - loss: 1.1466 - accuracy: 0.4777 - val_loss: 1.1520 - val_accuracy: 0.4855\n",
            "Epoch 26/50\n",
            "3/3 [==============================] - 5s 1s/step - loss: 1.1450 - accuracy: 0.4777 - val_loss: 1.1517 - val_accuracy: 0.4855\n",
            "Epoch 27/50\n",
            "3/3 [==============================] - 3s 988ms/step - loss: 1.1435 - accuracy: 0.4777 - val_loss: 1.1515 - val_accuracy: 0.4855\n",
            "Epoch 28/50\n",
            "3/3 [==============================] - 3s 971ms/step - loss: 1.1421 - accuracy: 0.4777 - val_loss: 1.1513 - val_accuracy: 0.4855\n",
            "Epoch 29/50\n",
            "3/3 [==============================] - 4s 1s/step - loss: 1.1409 - accuracy: 0.4777 - val_loss: 1.1512 - val_accuracy: 0.4855\n",
            "Epoch 30/50\n",
            "3/3 [==============================] - 4s 1s/step - loss: 1.1398 - accuracy: 0.4777 - val_loss: 1.1511 - val_accuracy: 0.4855\n",
            "Epoch 31/50\n",
            "3/3 [==============================] - 3s 988ms/step - loss: 1.1387 - accuracy: 0.4777 - val_loss: 1.1511 - val_accuracy: 0.4855\n",
            "Epoch 32/50\n",
            "3/3 [==============================] - 3s 988ms/step - loss: 1.1378 - accuracy: 0.4777 - val_loss: 1.1510 - val_accuracy: 0.4855\n",
            "Epoch 33/50\n",
            "3/3 [==============================] - 5s 2s/step - loss: 1.1370 - accuracy: 0.4777 - val_loss: 1.1510 - val_accuracy: 0.4855\n",
            "Epoch 34/50\n",
            "3/3 [==============================] - 3s 970ms/step - loss: 1.1362 - accuracy: 0.4777 - val_loss: 1.1510 - val_accuracy: 0.4855\n",
            "Epoch 35/50\n",
            "3/3 [==============================] - 3s 985ms/step - loss: 1.1355 - accuracy: 0.4777 - val_loss: 1.1509 - val_accuracy: 0.4855\n",
            "Epoch 36/50\n",
            "3/3 [==============================] - 4s 1s/step - loss: 1.1349 - accuracy: 0.4777 - val_loss: 1.1510 - val_accuracy: 0.4855\n",
            "Epoch 37/50\n",
            "3/3 [==============================] - 5s 1s/step - loss: 1.1343 - accuracy: 0.4777 - val_loss: 1.1510 - val_accuracy: 0.4855\n",
            "Epoch 38/50\n",
            "3/3 [==============================] - 3s 971ms/step - loss: 1.1338 - accuracy: 0.4777 - val_loss: 1.1510 - val_accuracy: 0.4855\n",
            "Epoch 39/50\n",
            "3/3 [==============================] - 3s 976ms/step - loss: 1.1332 - accuracy: 0.4777 - val_loss: 1.1510 - val_accuracy: 0.4855\n",
            "Epoch 40/50\n",
            "3/3 [==============================] - 4s 1s/step - loss: 1.1328 - accuracy: 0.4777 - val_loss: 1.1509 - val_accuracy: 0.4855\n",
            "Epoch 41/50\n",
            "3/3 [==============================] - 4s 1s/step - loss: 1.1324 - accuracy: 0.4777 - val_loss: 1.1509 - val_accuracy: 0.4855\n",
            "Epoch 42/50\n",
            "3/3 [==============================] - 3s 965ms/step - loss: 1.1321 - accuracy: 0.4777 - val_loss: 1.1509 - val_accuracy: 0.4855\n",
            "Epoch 43/50\n",
            "3/3 [==============================] - 3s 980ms/step - loss: 1.1317 - accuracy: 0.4777 - val_loss: 1.1508 - val_accuracy: 0.4855\n",
            "Epoch 44/50\n",
            "3/3 [==============================] - 5s 1s/step - loss: 1.1315 - accuracy: 0.4777 - val_loss: 1.1508 - val_accuracy: 0.4855\n",
            "Epoch 45/50\n",
            "3/3 [==============================] - 3s 969ms/step - loss: 1.1312 - accuracy: 0.4777 - val_loss: 1.1509 - val_accuracy: 0.4855\n",
            "Epoch 46/50\n",
            "3/3 [==============================] - 3s 1000ms/step - loss: 1.1310 - accuracy: 0.4777 - val_loss: 1.1510 - val_accuracy: 0.4855\n",
            "Epoch 47/50\n",
            "3/3 [==============================] - 4s 1s/step - loss: 1.1308 - accuracy: 0.4777 - val_loss: 1.1511 - val_accuracy: 0.4855\n",
            "Epoch 48/50\n",
            "3/3 [==============================] - 4s 1s/step - loss: 1.1306 - accuracy: 0.4777 - val_loss: 1.1511 - val_accuracy: 0.4855\n",
            "Epoch 49/50\n",
            "3/3 [==============================] - 3s 973ms/step - loss: 1.1303 - accuracy: 0.4777 - val_loss: 1.1512 - val_accuracy: 0.4855\n",
            "Epoch 50/50\n",
            "3/3 [==============================] - 3s 985ms/step - loss: 1.1301 - accuracy: 0.4777 - val_loss: 1.1512 - val_accuracy: 0.4855\n",
            "41/41 [==============================] - 1s 14ms/step\n",
            "41/41 [==============================] - 1s 14ms/step - loss: 1.1314 - accuracy: 0.4663\n",
            "Test set\n",
            "  Loss: 1.131\n",
            "  Accuracy: 0.466\n",
            "              precision    recall  f1-score   support\n",
            "\n",
            "   treatment       0.00      0.00      0.00       424\n",
            "     chronic       0.47      1.00      0.64       602\n",
            "      cancer       0.00      0.00      0.00       229\n",
            "     allergy       0.00      0.00      0.00        36\n",
            "\n",
            "    accuracy                           0.47      1291\n",
            "   macro avg       0.12      0.25      0.16      1291\n",
            "weighted avg       0.22      0.47      0.30      1291\n",
            "\n",
            "Matthews Corelation Score (MCC) :  0.0\n"
          ]
        }
      ],
      "source": [
        "#Training\n",
        "model_pnn = create_model_pnn(vocabulary_sizeT2)\n",
        "model_pnn.compile(loss='categorical_crossentropy', optimizer='adam', metrics=['accuracy'])\n",
        "early_stopping = EarlyStopping(monitor='val_loss', min_delta=0.0001, patience=10, verbose=1, restore_best_weights=True)\n",
        "callbacks_list = [early_stopping]\n",
        "history = model_pnn.fit(train_dataT2, tf.keras.utils.to_categorical(y_trainT2, num_classes=4, dtype='float32'), validation_split=0.1, epochs = 50, callbacks=callbacks_list, batch_size=2048)\n",
        "#Evaluation\n",
        "predict = model_pnn.predict(test_dataT2)\n",
        "accr = model_pnn.evaluate(test_dataT2, tf.keras.utils.to_categorical(y_testT2, num_classes=4, dtype='float32'))\n",
        "print('Test set\\n  Loss: {:0.3f}\\n  Accuracy: {:0.3f}'.format(accr[0],accr[1]))\n",
        "\n",
        "y_predT2=[]\n",
        "for j in range(0,len(predict)):\n",
        "  for i in range(0,len(predict[j])):\n",
        "    if predict[j][i] == max(predict[j]):\n",
        "      y_predT2.append(i)\n",
        "\n",
        "#printing the results\n",
        "print(classification_report(y_testT2, y_predT2, target_names=['treatment','chronic','cancer','allergy']))\n",
        "print('Matthews Corelation Score (MCC) : ',matthews_corrcoef(y_testT2, y_predT2))"
      ]
    },
    {
      "cell_type": "markdown",
      "metadata": {
        "id": "3fLOJuC5gxRR"
      },
      "source": [
        "###### T3"
      ]
    },
    {
      "cell_type": "code",
      "execution_count": null,
      "metadata": {
        "id": "trNlPTAOg1s0",
        "colab": {
          "base_uri": "https://localhost:8080/"
        },
        "outputId": "ea0a9636-4458-4bc9-eacb-636a60cef786"
      },
      "outputs": [
        {
          "output_type": "stream",
          "name": "stdout",
          "text": [
            "Epoch 1/50\n",
            "3/3 [==============================] - 6s 1s/step - loss: 1.3514 - accuracy: 0.4464 - val_loss: 1.3365 - val_accuracy: 0.4394\n",
            "Epoch 2/50\n",
            "3/3 [==============================] - 3s 954ms/step - loss: 1.3301 - accuracy: 0.4464 - val_loss: 1.3184 - val_accuracy: 0.4394\n",
            "Epoch 3/50\n",
            "3/3 [==============================] - 3s 966ms/step - loss: 1.3120 - accuracy: 0.4464 - val_loss: 1.3032 - val_accuracy: 0.4394\n",
            "Epoch 4/50\n",
            "3/3 [==============================] - 5s 1s/step - loss: 1.2967 - accuracy: 0.4464 - val_loss: 1.2902 - val_accuracy: 0.4394\n",
            "Epoch 5/50\n",
            "3/3 [==============================] - 3s 965ms/step - loss: 1.2834 - accuracy: 0.4464 - val_loss: 1.2790 - val_accuracy: 0.4394\n",
            "Epoch 6/50\n",
            "3/3 [==============================] - 3s 935ms/step - loss: 1.2721 - accuracy: 0.4464 - val_loss: 1.2693 - val_accuracy: 0.4394\n",
            "Epoch 7/50\n",
            "3/3 [==============================] - 4s 1s/step - loss: 1.2622 - accuracy: 0.4464 - val_loss: 1.2607 - val_accuracy: 0.4394\n",
            "Epoch 8/50\n",
            "3/3 [==============================] - 4s 932ms/step - loss: 1.2533 - accuracy: 0.4464 - val_loss: 1.2531 - val_accuracy: 0.4394\n",
            "Epoch 9/50\n",
            "3/3 [==============================] - 3s 944ms/step - loss: 1.2456 - accuracy: 0.4464 - val_loss: 1.2465 - val_accuracy: 0.4394\n",
            "Epoch 10/50\n",
            "3/3 [==============================] - 3s 956ms/step - loss: 1.2387 - accuracy: 0.4464 - val_loss: 1.2406 - val_accuracy: 0.4394\n",
            "Epoch 11/50\n",
            "3/3 [==============================] - 5s 2s/step - loss: 1.2326 - accuracy: 0.4464 - val_loss: 1.2354 - val_accuracy: 0.4394\n",
            "Epoch 12/50\n",
            "3/3 [==============================] - 3s 941ms/step - loss: 1.2270 - accuracy: 0.4464 - val_loss: 1.2307 - val_accuracy: 0.4394\n",
            "Epoch 13/50\n",
            "3/3 [==============================] - 3s 935ms/step - loss: 1.2222 - accuracy: 0.4464 - val_loss: 1.2264 - val_accuracy: 0.4394\n",
            "Epoch 14/50\n",
            "3/3 [==============================] - 3s 959ms/step - loss: 1.2177 - accuracy: 0.4464 - val_loss: 1.2226 - val_accuracy: 0.4394\n",
            "Epoch 15/50\n",
            "3/3 [==============================] - 5s 1s/step - loss: 1.2138 - accuracy: 0.4464 - val_loss: 1.2191 - val_accuracy: 0.4394\n",
            "Epoch 16/50\n",
            "3/3 [==============================] - 3s 968ms/step - loss: 1.2101 - accuracy: 0.4464 - val_loss: 1.2158 - val_accuracy: 0.4394\n",
            "Epoch 17/50\n",
            "3/3 [==============================] - 3s 968ms/step - loss: 1.2067 - accuracy: 0.4464 - val_loss: 1.2128 - val_accuracy: 0.4394\n",
            "Epoch 18/50\n",
            "3/3 [==============================] - 4s 1s/step - loss: 1.2035 - accuracy: 0.4464 - val_loss: 1.2100 - val_accuracy: 0.4394\n",
            "Epoch 19/50\n",
            "3/3 [==============================] - 4s 937ms/step - loss: 1.2006 - accuracy: 0.4464 - val_loss: 1.2073 - val_accuracy: 0.4394\n",
            "Epoch 20/50\n",
            "3/3 [==============================] - 3s 957ms/step - loss: 1.1978 - accuracy: 0.4464 - val_loss: 1.2049 - val_accuracy: 0.4394\n",
            "Epoch 21/50\n",
            "3/3 [==============================] - 3s 937ms/step - loss: 1.1952 - accuracy: 0.4464 - val_loss: 1.2025 - val_accuracy: 0.4394\n",
            "Epoch 22/50\n",
            "3/3 [==============================] - 5s 2s/step - loss: 1.1928 - accuracy: 0.4464 - val_loss: 1.2003 - val_accuracy: 0.4394\n",
            "Epoch 23/50\n",
            "3/3 [==============================] - 3s 949ms/step - loss: 1.1905 - accuracy: 0.4464 - val_loss: 1.1982 - val_accuracy: 0.4394\n",
            "Epoch 24/50\n",
            "3/3 [==============================] - 5s 2s/step - loss: 1.1883 - accuracy: 0.4464 - val_loss: 1.1962 - val_accuracy: 0.4394\n",
            "Epoch 25/50\n",
            "3/3 [==============================] - 4s 1s/step - loss: 1.1863 - accuracy: 0.4464 - val_loss: 1.1943 - val_accuracy: 0.4394\n",
            "Epoch 26/50\n",
            "3/3 [==============================] - 4s 946ms/step - loss: 1.1843 - accuracy: 0.4464 - val_loss: 1.1926 - val_accuracy: 0.4394\n",
            "Epoch 27/50\n",
            "3/3 [==============================] - 3s 970ms/step - loss: 1.1825 - accuracy: 0.4464 - val_loss: 1.1909 - val_accuracy: 0.4394\n",
            "Epoch 28/50\n",
            "3/3 [==============================] - 3s 962ms/step - loss: 1.1808 - accuracy: 0.4464 - val_loss: 1.1893 - val_accuracy: 0.4394\n",
            "Epoch 29/50\n",
            "3/3 [==============================] - 5s 1s/step - loss: 1.1791 - accuracy: 0.4464 - val_loss: 1.1878 - val_accuracy: 0.4394\n",
            "Epoch 30/50\n",
            "3/3 [==============================] - 3s 981ms/step - loss: 1.1775 - accuracy: 0.4464 - val_loss: 1.1863 - val_accuracy: 0.4394\n",
            "Epoch 31/50\n",
            "3/3 [==============================] - 3s 962ms/step - loss: 1.1760 - accuracy: 0.4464 - val_loss: 1.1850 - val_accuracy: 0.4394\n",
            "Epoch 32/50\n",
            "3/3 [==============================] - 4s 1s/step - loss: 1.1746 - accuracy: 0.4464 - val_loss: 1.1836 - val_accuracy: 0.4394\n",
            "Epoch 33/50\n",
            "3/3 [==============================] - 4s 956ms/step - loss: 1.1732 - accuracy: 0.4464 - val_loss: 1.1824 - val_accuracy: 0.4394\n",
            "Epoch 34/50\n",
            "3/3 [==============================] - 3s 954ms/step - loss: 1.1719 - accuracy: 0.4464 - val_loss: 1.1812 - val_accuracy: 0.4394\n",
            "Epoch 35/50\n",
            "3/3 [==============================] - 3s 953ms/step - loss: 1.1707 - accuracy: 0.4464 - val_loss: 1.1800 - val_accuracy: 0.4394\n",
            "Epoch 36/50\n",
            "3/3 [==============================] - 5s 2s/step - loss: 1.1695 - accuracy: 0.4464 - val_loss: 1.1789 - val_accuracy: 0.4394\n",
            "Epoch 37/50\n",
            "3/3 [==============================] - 3s 951ms/step - loss: 1.1683 - accuracy: 0.4464 - val_loss: 1.1779 - val_accuracy: 0.4394\n",
            "Epoch 38/50\n",
            "3/3 [==============================] - 3s 960ms/step - loss: 1.1672 - accuracy: 0.4464 - val_loss: 1.1768 - val_accuracy: 0.4394\n",
            "Epoch 39/50\n",
            "3/3 [==============================] - 3s 954ms/step - loss: 1.1661 - accuracy: 0.4464 - val_loss: 1.1759 - val_accuracy: 0.4394\n",
            "Epoch 40/50\n",
            "3/3 [==============================] - 5s 1s/step - loss: 1.1651 - accuracy: 0.4464 - val_loss: 1.1749 - val_accuracy: 0.4394\n",
            "Epoch 41/50\n",
            "3/3 [==============================] - 3s 967ms/step - loss: 1.1641 - accuracy: 0.4464 - val_loss: 1.1740 - val_accuracy: 0.4394\n",
            "Epoch 42/50\n",
            "3/3 [==============================] - 3s 948ms/step - loss: 1.1632 - accuracy: 0.4464 - val_loss: 1.1732 - val_accuracy: 0.4394\n",
            "Epoch 43/50\n",
            "3/3 [==============================] - 4s 1s/step - loss: 1.1623 - accuracy: 0.4464 - val_loss: 1.1724 - val_accuracy: 0.4394\n",
            "Epoch 44/50\n",
            "3/3 [==============================] - 4s 948ms/step - loss: 1.1614 - accuracy: 0.4464 - val_loss: 1.1716 - val_accuracy: 0.4394\n",
            "Epoch 45/50\n",
            "3/3 [==============================] - 3s 952ms/step - loss: 1.1606 - accuracy: 0.4464 - val_loss: 1.1708 - val_accuracy: 0.4394\n",
            "Epoch 46/50\n",
            "3/3 [==============================] - 3s 950ms/step - loss: 1.1598 - accuracy: 0.4464 - val_loss: 1.1701 - val_accuracy: 0.4394\n",
            "Epoch 47/50\n",
            "3/3 [==============================] - 5s 2s/step - loss: 1.1590 - accuracy: 0.4464 - val_loss: 1.1695 - val_accuracy: 0.4394\n",
            "Epoch 48/50\n",
            "3/3 [==============================] - 3s 982ms/step - loss: 1.1583 - accuracy: 0.4464 - val_loss: 1.1688 - val_accuracy: 0.4394\n",
            "Epoch 49/50\n",
            "3/3 [==============================] - 3s 975ms/step - loss: 1.1576 - accuracy: 0.4464 - val_loss: 1.1682 - val_accuracy: 0.4394\n",
            "Epoch 50/50\n",
            "3/3 [==============================] - 3s 967ms/step - loss: 1.1569 - accuracy: 0.4464 - val_loss: 1.1676 - val_accuracy: 0.4394\n",
            "40/40 [==============================] - 1s 14ms/step\n",
            "40/40 [==============================] - 1s 14ms/step - loss: 1.1485 - accuracy: 0.4586\n",
            "Test set\n",
            "  Loss: 1.148\n",
            "  Accuracy: 0.459\n",
            "              precision    recall  f1-score   support\n",
            "\n",
            "   treatment       0.00      0.00      0.00       439\n",
            "     chronic       0.46      1.00      0.63       576\n",
            "      cancer       0.00      0.00      0.00       199\n",
            "     allergy       0.00      0.00      0.00        42\n",
            "\n",
            "    accuracy                           0.46      1256\n",
            "   macro avg       0.11      0.25      0.16      1256\n",
            "weighted avg       0.21      0.46      0.29      1256\n",
            "\n",
            "Matthews Corelation Score (MCC) :  0.0\n"
          ]
        }
      ],
      "source": [
        "#Training\n",
        "model_pnn = create_model_pnn(vocabulary_sizeT3)\n",
        "model_pnn.compile(loss='categorical_crossentropy', optimizer='adam', metrics=['accuracy'])\n",
        "early_stopping = EarlyStopping(monitor='val_loss', min_delta=0.0001, patience=10, verbose=1, restore_best_weights=True)\n",
        "callbacks_list = [early_stopping]\n",
        "history = model_pnn.fit(train_dataT3, tf.keras.utils.to_categorical(y_trainT3, num_classes=4, dtype='float32'), validation_split=0.1, epochs = 50, callbacks=callbacks_list, batch_size=2048)\n",
        "#Evaluation\n",
        "predict = model_pnn.predict(test_dataT3)\n",
        "accr = model_pnn.evaluate(test_dataT3, tf.keras.utils.to_categorical(y_testT3, num_classes=4, dtype='float32'))\n",
        "print('Test set\\n  Loss: {:0.3f}\\n  Accuracy: {:0.3f}'.format(accr[0],accr[1]))\n",
        "\n",
        "y_predT3=[]\n",
        "for j in range(0,len(predict)):\n",
        "  for i in range(0,len(predict[j])):\n",
        "    if predict[j][i] == max(predict[j]):\n",
        "      y_predT3.append(i)\n",
        "\n",
        "#printing the results\n",
        "print(classification_report(y_testT3, y_predT3, target_names=['treatment','chronic','cancer','allergy']))\n",
        "print('Matthews Corelation Score (MCC) : ',matthews_corrcoef(y_testT3, y_predT3))"
      ]
    },
    {
      "cell_type": "markdown",
      "metadata": {
        "id": "_fjiI-vOCTxN"
      },
      "source": [
        "#### Fine-tune Ro-BERT"
      ]
    },
    {
      "cell_type": "code",
      "source": [
        "!pip install tensorflow_hub tensorflow_text"
      ],
      "metadata": {
        "id": "ZLLF9mS8hpO3"
      },
      "execution_count": null,
      "outputs": []
    },
    {
      "cell_type": "code",
      "execution_count": null,
      "metadata": {
        "id": "xKe130fdDXPW"
      },
      "outputs": [],
      "source": [
        "#Restart the runtime before importing\n",
        "import tensorflow_hub as hub\n",
        "import tensorflow_text as text"
      ]
    },
    {
      "cell_type": "code",
      "execution_count": null,
      "metadata": {
        "id": "WOGMgr60CaBd"
      },
      "outputs": [],
      "source": [
        "text_input = tf.keras.layers.Input(shape=(), dtype=tf.string)\n",
        "preprocessor = hub.KerasLayer(\"https://tfhub.dev/jeongukjae/xlm_roberta_multi_cased_preprocess/1\")\n",
        "encoder_inputs = preprocessor(text_input)\n",
        "\n",
        "encoder = hub.KerasLayer(\"https://tfhub.dev/jeongukjae/xlm_roberta_multi_cased_L-12_H-768_A-12/1\", trainable=False) #True needs time and resources\n",
        "encoder_outputs = encoder(encoder_inputs)\n",
        "pooled_output = encoder_outputs[\"pooled_output\"]"
      ]
    },
    {
      "cell_type": "code",
      "execution_count": null,
      "metadata": {
        "id": "TeW76D72DEtB"
      },
      "outputs": [],
      "source": [
        "embedding_model = tf.keras.Model(text_input, pooled_output)"
      ]
    },
    {
      "cell_type": "code",
      "execution_count": null,
      "metadata": {
        "id": "Rdu-twIpDMDg"
      },
      "outputs": [],
      "source": [
        "# Define the model architecture\n",
        "def create_bert_model():\n",
        "  model_bert = Sequential()\n",
        "  model_bert.add(embedding_model)\n",
        "  model_bert.add(tf.keras.layers.Reshape((768, 1)))\n",
        "  #model.add(tf.keras.layers.LSTM(32))\n",
        "  model_bert.add(Flatten())\n",
        "  model_bert.add(Dense(units=8))\n",
        "  model_bert.add(Dense(units=4, activation='softmax'))\n",
        "  return model_bert\n"
      ]
    },
    {
      "cell_type": "markdown",
      "metadata": {
        "id": "vNAb2YvPjHCA"
      },
      "source": [
        "###### T1"
      ]
    },
    {
      "cell_type": "code",
      "execution_count": null,
      "metadata": {
        "id": "PoAjiCIljI6D",
        "colab": {
          "base_uri": "https://localhost:8080/"
        },
        "outputId": "44c5839a-d60c-4a93-d5e4-285787291e66"
      },
      "outputs": [
        {
          "output_type": "stream",
          "name": "stdout",
          "text": [
            "Epoch 1/50\n",
            "3/3 [==============================] - 67s 18s/step - loss: 1.3311 - accuracy: 0.2871 - val_loss: 1.2008 - val_accuracy: 0.4109\n",
            "Epoch 2/50\n",
            "3/3 [==============================] - 59s 21s/step - loss: 1.1556 - accuracy: 0.4340 - val_loss: 1.1864 - val_accuracy: 0.4109\n",
            "Epoch 3/50\n",
            "3/3 [==============================] - 54s 18s/step - loss: 1.1312 - accuracy: 0.4340 - val_loss: 1.1737 - val_accuracy: 0.4143\n",
            "Epoch 4/50\n",
            "3/3 [==============================] - 53s 17s/step - loss: 1.1384 - accuracy: 0.3966 - val_loss: 1.1863 - val_accuracy: 0.3582\n",
            "Epoch 5/50\n",
            "3/3 [==============================] - 53s 17s/step - loss: 1.1378 - accuracy: 0.3868 - val_loss: 1.2030 - val_accuracy: 0.4109\n",
            "Epoch 6/50\n",
            "3/3 [==============================] - 53s 17s/step - loss: 1.1428 - accuracy: 0.4340 - val_loss: 1.2087 - val_accuracy: 0.4109\n",
            "Epoch 7/50\n",
            "3/3 [==============================] - 53s 17s/step - loss: 1.1406 - accuracy: 0.4340 - val_loss: 1.1914 - val_accuracy: 0.4261\n",
            "Epoch 8/50\n",
            "3/3 [==============================] - 53s 17s/step - loss: 1.1360 - accuracy: 0.4278 - val_loss: 1.1818 - val_accuracy: 0.3990\n",
            "Epoch 9/50\n",
            "3/3 [==============================] - 53s 17s/step - loss: 1.1322 - accuracy: 0.4336 - val_loss: 1.1770 - val_accuracy: 0.4109\n",
            "Epoch 10/50\n",
            "3/3 [==============================] - 58s 20s/step - loss: 1.1259 - accuracy: 0.4340 - val_loss: 1.1773 - val_accuracy: 0.4109\n",
            "Epoch 11/50\n",
            "3/3 [==============================] - 54s 18s/step - loss: 1.1232 - accuracy: 0.4340 - val_loss: 1.1680 - val_accuracy: 0.4109\n",
            "Epoch 12/50\n",
            "3/3 [==============================] - 54s 18s/step - loss: 1.1183 - accuracy: 0.4340 - val_loss: 1.1633 - val_accuracy: 0.4194\n",
            "Epoch 13/50\n",
            "3/3 [==============================] - 53s 17s/step - loss: 1.1177 - accuracy: 0.4502 - val_loss: 1.1633 - val_accuracy: 0.4109\n",
            "Epoch 14/50\n",
            "3/3 [==============================] - 53s 17s/step - loss: 1.1172 - accuracy: 0.4340 - val_loss: 1.1660 - val_accuracy: 0.4109\n",
            "Epoch 15/50\n",
            "3/3 [==============================] - 54s 18s/step - loss: 1.1172 - accuracy: 0.4340 - val_loss: 1.1610 - val_accuracy: 0.4109\n",
            "Epoch 16/50\n",
            "3/3 [==============================] - 54s 18s/step - loss: 1.1160 - accuracy: 0.4340 - val_loss: 1.1581 - val_accuracy: 0.4109\n",
            "Epoch 17/50\n",
            "3/3 [==============================] - 54s 18s/step - loss: 1.1156 - accuracy: 0.4340 - val_loss: 1.1575 - val_accuracy: 0.4109\n",
            "Epoch 18/50\n",
            "3/3 [==============================] - 53s 17s/step - loss: 1.1142 - accuracy: 0.4340 - val_loss: 1.1589 - val_accuracy: 0.4109\n",
            "Epoch 19/50\n",
            "3/3 [==============================] - 58s 20s/step - loss: 1.1132 - accuracy: 0.4340 - val_loss: 1.1603 - val_accuracy: 0.4109\n",
            "Epoch 20/50\n",
            "3/3 [==============================] - 53s 17s/step - loss: 1.1123 - accuracy: 0.4340 - val_loss: 1.1585 - val_accuracy: 0.4109\n",
            "Epoch 21/50\n",
            "3/3 [==============================] - 54s 18s/step - loss: 1.1114 - accuracy: 0.4340 - val_loss: 1.1574 - val_accuracy: 0.4109\n",
            "Epoch 22/50\n",
            "3/3 [==============================] - 54s 18s/step - loss: 1.1109 - accuracy: 0.4344 - val_loss: 1.1561 - val_accuracy: 0.4109\n",
            "Epoch 23/50\n",
            "3/3 [==============================] - 53s 17s/step - loss: 1.1098 - accuracy: 0.4340 - val_loss: 1.1574 - val_accuracy: 0.4109\n",
            "Epoch 24/50\n",
            "3/3 [==============================] - 54s 18s/step - loss: 1.1095 - accuracy: 0.4340 - val_loss: 1.1553 - val_accuracy: 0.4109\n",
            "Epoch 25/50\n",
            "3/3 [==============================] - 54s 18s/step - loss: 1.1084 - accuracy: 0.4340 - val_loss: 1.1540 - val_accuracy: 0.4109\n",
            "Epoch 26/50\n",
            "3/3 [==============================] - 54s 18s/step - loss: 1.1076 - accuracy: 0.4344 - val_loss: 1.1535 - val_accuracy: 0.4109\n",
            "Epoch 27/50\n",
            "3/3 [==============================] - 59s 20s/step - loss: 1.1071 - accuracy: 0.4340 - val_loss: 1.1518 - val_accuracy: 0.4109\n",
            "Epoch 28/50\n",
            "3/3 [==============================] - 54s 18s/step - loss: 1.1059 - accuracy: 0.4353 - val_loss: 1.1499 - val_accuracy: 0.4177\n",
            "Epoch 29/50\n",
            "3/3 [==============================] - 52s 17s/step - loss: 1.1054 - accuracy: 0.4489 - val_loss: 1.1507 - val_accuracy: 0.4109\n",
            "Epoch 30/50\n",
            "3/3 [==============================] - 53s 17s/step - loss: 1.1045 - accuracy: 0.4340 - val_loss: 1.1515 - val_accuracy: 0.4109\n",
            "Epoch 31/50\n",
            "3/3 [==============================] - 54s 18s/step - loss: 1.1037 - accuracy: 0.4349 - val_loss: 1.1467 - val_accuracy: 0.4143\n",
            "Epoch 32/50\n",
            "3/3 [==============================] - 58s 20s/step - loss: 1.1028 - accuracy: 0.4363 - val_loss: 1.1467 - val_accuracy: 0.4143\n",
            "Epoch 33/50\n",
            "3/3 [==============================] - 53s 17s/step - loss: 1.1017 - accuracy: 0.4363 - val_loss: 1.1474 - val_accuracy: 0.4126\n",
            "Epoch 34/50\n",
            "3/3 [==============================] - 53s 17s/step - loss: 1.1015 - accuracy: 0.4347 - val_loss: 1.1468 - val_accuracy: 0.4160\n",
            "Epoch 35/50\n",
            "3/3 [==============================] - 59s 20s/step - loss: 1.1015 - accuracy: 0.5398 - val_loss: 1.1444 - val_accuracy: 0.4975\n",
            "Epoch 36/50\n",
            "3/3 [==============================] - 53s 17s/step - loss: 1.0992 - accuracy: 0.4808 - val_loss: 1.1472 - val_accuracy: 0.4109\n",
            "Epoch 37/50\n",
            "3/3 [==============================] - 54s 17s/step - loss: 1.0990 - accuracy: 0.4340 - val_loss: 1.1412 - val_accuracy: 0.4194\n",
            "Epoch 38/50\n",
            "3/3 [==============================] - 54s 18s/step - loss: 1.0979 - accuracy: 0.5226 - val_loss: 1.1396 - val_accuracy: 0.5365\n",
            "Epoch 39/50\n",
            "3/3 [==============================] - 53s 17s/step - loss: 1.0963 - accuracy: 0.5394 - val_loss: 1.1457 - val_accuracy: 0.4109\n",
            "Epoch 40/50\n",
            "3/3 [==============================] - 53s 17s/step - loss: 1.0976 - accuracy: 0.4340 - val_loss: 1.1419 - val_accuracy: 0.4126\n",
            "Epoch 41/50\n",
            "3/3 [==============================] - 54s 18s/step - loss: 1.0949 - accuracy: 0.5228 - val_loss: 1.1365 - val_accuracy: 0.6129\n",
            "Epoch 42/50\n",
            "3/3 [==============================] - 53s 17s/step - loss: 1.0947 - accuracy: 0.6023 - val_loss: 1.1402 - val_accuracy: 0.4126\n",
            "Epoch 43/50\n",
            "3/3 [==============================] - 53s 17s/step - loss: 1.0940 - accuracy: 0.4344 - val_loss: 1.1382 - val_accuracy: 0.4160\n",
            "Epoch 44/50\n",
            "3/3 [==============================] - 59s 20s/step - loss: 1.0919 - accuracy: 0.5135 - val_loss: 1.1337 - val_accuracy: 0.5925\n",
            "Epoch 45/50\n",
            "3/3 [==============================] - 53s 17s/step - loss: 1.0912 - accuracy: 0.5915 - val_loss: 1.1367 - val_accuracy: 0.4126\n",
            "Epoch 46/50\n",
            "3/3 [==============================] - 52s 17s/step - loss: 1.0907 - accuracy: 0.4349 - val_loss: 1.1356 - val_accuracy: 0.4329\n",
            "Epoch 47/50\n",
            "3/3 [==============================] - 59s 20s/step - loss: 1.0887 - accuracy: 0.5299 - val_loss: 1.1310 - val_accuracy: 0.5569\n",
            "Epoch 48/50\n",
            "3/3 [==============================] - 53s 17s/step - loss: 1.0879 - accuracy: 0.5741 - val_loss: 1.1322 - val_accuracy: 0.4211\n",
            "Epoch 49/50\n",
            "3/3 [==============================] - 54s 18s/step - loss: 1.0869 - accuracy: 0.4389 - val_loss: 1.1301 - val_accuracy: 0.4499\n",
            "Epoch 50/50\n",
            "3/3 [==============================] - 54s 17s/step - loss: 1.0855 - accuracy: 0.5583 - val_loss: 1.1288 - val_accuracy: 0.5789\n",
            "46/46 [==============================] - 16s 317ms/step\n",
            "46/46 [==============================] - 15s 330ms/step - loss: 1.0950 - accuracy: 0.6182\n",
            "Test set\n",
            "  Loss: 1.095\n",
            "  Accuracy: 0.618\n",
            "              precision    recall  f1-score   support\n",
            "\n",
            "   treatment       0.72      0.59      0.65       538\n",
            "     chronic       0.58      0.93      0.71       640\n",
            "      cancer       0.00      0.00      0.00       256\n",
            "     allergy       0.00      0.00      0.00        38\n",
            "\n",
            "    accuracy                           0.62      1472\n",
            "   macro avg       0.32      0.38      0.34      1472\n",
            "weighted avg       0.51      0.62      0.55      1472\n",
            "\n",
            "Matthews Corelation Score (MCC) :  0.392169239884696\n"
          ]
        },
        {
          "output_type": "stream",
          "name": "stderr",
          "text": [
            "/usr/local/lib/python3.10/dist-packages/sklearn/metrics/_classification.py:1344: UndefinedMetricWarning: Precision and F-score are ill-defined and being set to 0.0 in labels with no predicted samples. Use `zero_division` parameter to control this behavior.\n",
            "  _warn_prf(average, modifier, msg_start, len(result))\n",
            "/usr/local/lib/python3.10/dist-packages/sklearn/metrics/_classification.py:1344: UndefinedMetricWarning: Precision and F-score are ill-defined and being set to 0.0 in labels with no predicted samples. Use `zero_division` parameter to control this behavior.\n",
            "  _warn_prf(average, modifier, msg_start, len(result))\n",
            "/usr/local/lib/python3.10/dist-packages/sklearn/metrics/_classification.py:1344: UndefinedMetricWarning: Precision and F-score are ill-defined and being set to 0.0 in labels with no predicted samples. Use `zero_division` parameter to control this behavior.\n",
            "  _warn_prf(average, modifier, msg_start, len(result))\n"
          ]
        }
      ],
      "source": [
        "#Training\n",
        "model_bert = create_bert_model()\n",
        "# Compile the model\n",
        "model_bert.compile(optimizer='adam', loss='categorical_crossentropy', metrics=['accuracy'])\n",
        "early_stopping = EarlyStopping(monitor='val_loss', min_delta=0.0001, patience=10, verbose=1, restore_best_weights=True)\n",
        "callbacks_list = [early_stopping]\n",
        "history = model_bert.fit(X_trainT1, tf.keras.utils.to_categorical(y_trainT1, num_classes=4, dtype='float32'), validation_split=0.1, epochs = 50, callbacks=callbacks_list, batch_size=2048)\n",
        "#Evaluation\n",
        "predict = model_bert.predict(X_testT1)\n",
        "accr = model_bert.evaluate(X_testT1, tf.keras.utils.to_categorical(y_testT1, num_classes=4, dtype='float32'))\n",
        "print('Test set\\n  Loss: {:0.3f}\\n  Accuracy: {:0.3f}'.format(accr[0],accr[1]))\n",
        "\n",
        "y_predT1=[]\n",
        "for j in range(0,len(predict)):\n",
        "  for i in range(0,len(predict[j])):\n",
        "    if predict[j][i] == max(predict[j]):\n",
        "      y_predT1.append(i)\n",
        "\n",
        "#printing the results\n",
        "print(classification_report(y_testT1, y_predT1, target_names=['treatment','chronic','cancer','allergy']))\n",
        "print('Matthews Corelation Score (MCC) : ',matthews_corrcoef(y_testT1, y_predT1))"
      ]
    },
    {
      "cell_type": "markdown",
      "metadata": {
        "id": "KEWvVYPXjm3P"
      },
      "source": [
        "###### T2"
      ]
    },
    {
      "cell_type": "code",
      "execution_count": null,
      "metadata": {
        "id": "qJgviykEjC3w",
        "colab": {
          "base_uri": "https://localhost:8080/"
        },
        "outputId": "3a38de6d-35fa-4d45-9efd-f04ee066ec30"
      },
      "outputs": [
        {
          "output_type": "stream",
          "name": "stdout",
          "text": [
            "Epoch 1/50\n",
            "5/5 [==============================] - 58s 9s/step - loss: 1.3470 - accuracy: 0.3516 - val_loss: 1.3179 - val_accuracy: 0.4855\n",
            "Epoch 2/50\n",
            "5/5 [==============================] - 41s 8s/step - loss: 1.2232 - accuracy: 0.4708 - val_loss: 1.2675 - val_accuracy: 0.2534\n",
            "Epoch 3/50\n",
            "5/5 [==============================] - 42s 8s/step - loss: 1.1599 - accuracy: 0.3854 - val_loss: 1.1432 - val_accuracy: 0.4855\n",
            "Epoch 4/50\n",
            "5/5 [==============================] - 41s 8s/step - loss: 1.1560 - accuracy: 0.4777 - val_loss: 1.1416 - val_accuracy: 0.4855\n",
            "Epoch 5/50\n",
            "5/5 [==============================] - 40s 8s/step - loss: 1.1335 - accuracy: 0.4777 - val_loss: 1.1919 - val_accuracy: 0.4855\n",
            "Epoch 6/50\n",
            "5/5 [==============================] - 42s 8s/step - loss: 1.1348 - accuracy: 0.4777 - val_loss: 1.1560 - val_accuracy: 0.4855\n",
            "Epoch 7/50\n",
            "5/5 [==============================] - 43s 9s/step - loss: 1.1287 - accuracy: 0.4777 - val_loss: 1.1394 - val_accuracy: 0.4855\n",
            "Epoch 8/50\n",
            "5/5 [==============================] - 42s 8s/step - loss: 1.1258 - accuracy: 0.4777 - val_loss: 1.1520 - val_accuracy: 0.4855\n",
            "Epoch 9/50\n",
            "5/5 [==============================] - 42s 8s/step - loss: 1.1245 - accuracy: 0.4777 - val_loss: 1.1522 - val_accuracy: 0.4855\n",
            "Epoch 10/50\n",
            "5/5 [==============================] - 42s 8s/step - loss: 1.1219 - accuracy: 0.4777 - val_loss: 1.1422 - val_accuracy: 0.4855\n",
            "Epoch 11/50\n",
            "5/5 [==============================] - 43s 9s/step - loss: 1.1214 - accuracy: 0.4777 - val_loss: 1.1344 - val_accuracy: 0.4855\n",
            "Epoch 12/50\n",
            "5/5 [==============================] - 42s 8s/step - loss: 1.1161 - accuracy: 0.4777 - val_loss: 1.1480 - val_accuracy: 0.4855\n",
            "Epoch 13/50\n",
            "5/5 [==============================] - 43s 9s/step - loss: 1.1151 - accuracy: 0.4777 - val_loss: 1.1341 - val_accuracy: 0.4855\n",
            "Epoch 14/50\n",
            "5/5 [==============================] - 41s 8s/step - loss: 1.1132 - accuracy: 0.4777 - val_loss: 1.1356 - val_accuracy: 0.4855\n",
            "Epoch 15/50\n",
            "5/5 [==============================] - 42s 8s/step - loss: 1.1112 - accuracy: 0.4779 - val_loss: 1.1363 - val_accuracy: 0.4855\n",
            "Epoch 16/50\n",
            "5/5 [==============================] - 43s 9s/step - loss: 1.1100 - accuracy: 0.4777 - val_loss: 1.1289 - val_accuracy: 0.4855\n",
            "Epoch 17/50\n",
            "5/5 [==============================] - 43s 9s/step - loss: 1.1078 - accuracy: 0.4782 - val_loss: 1.1287 - val_accuracy: 0.4855\n",
            "Epoch 18/50\n",
            "5/5 [==============================] - 43s 9s/step - loss: 1.1061 - accuracy: 0.4779 - val_loss: 1.1259 - val_accuracy: 0.4855\n",
            "Epoch 19/50\n",
            "5/5 [==============================] - 41s 8s/step - loss: 1.1047 - accuracy: 0.4779 - val_loss: 1.1275 - val_accuracy: 0.4874\n",
            "Epoch 20/50\n",
            "5/5 [==============================] - 41s 8s/step - loss: 1.1028 - accuracy: 0.4784 - val_loss: 1.1189 - val_accuracy: 0.4855\n",
            "Epoch 21/50\n",
            "5/5 [==============================] - 40s 8s/step - loss: 1.1010 - accuracy: 0.4779 - val_loss: 1.1286 - val_accuracy: 0.4932\n",
            "Epoch 22/50\n",
            "5/5 [==============================] - 42s 9s/step - loss: 1.1003 - accuracy: 0.4861 - val_loss: 1.1170 - val_accuracy: 0.4874\n",
            "Epoch 23/50\n",
            "5/5 [==============================] - 42s 9s/step - loss: 1.0971 - accuracy: 0.4782 - val_loss: 1.1159 - val_accuracy: 0.4874\n",
            "Epoch 24/50\n",
            "5/5 [==============================] - 41s 8s/step - loss: 1.0955 - accuracy: 0.4818 - val_loss: 1.1168 - val_accuracy: 0.4932\n",
            "Epoch 25/50\n",
            "5/5 [==============================] - 43s 9s/step - loss: 1.0933 - accuracy: 0.4807 - val_loss: 1.1131 - val_accuracy: 0.4913\n",
            "Epoch 26/50\n",
            "5/5 [==============================] - 42s 9s/step - loss: 1.0915 - accuracy: 0.4825 - val_loss: 1.1098 - val_accuracy: 0.4894\n",
            "Epoch 27/50\n",
            "5/5 [==============================] - 41s 8s/step - loss: 1.0897 - accuracy: 0.4805 - val_loss: 1.1118 - val_accuracy: 0.5048\n",
            "Epoch 28/50\n",
            "5/5 [==============================] - 42s 8s/step - loss: 1.0877 - accuracy: 0.4891 - val_loss: 1.1052 - val_accuracy: 0.4932\n",
            "Epoch 29/50\n",
            "5/5 [==============================] - 41s 8s/step - loss: 1.0860 - accuracy: 0.4831 - val_loss: 1.1066 - val_accuracy: 0.5068\n",
            "Epoch 30/50\n",
            "5/5 [==============================] - 42s 9s/step - loss: 1.0838 - accuracy: 0.4915 - val_loss: 1.1007 - val_accuracy: 0.4932\n",
            "Epoch 31/50\n",
            "5/5 [==============================] - 41s 8s/step - loss: 1.0819 - accuracy: 0.4850 - val_loss: 1.1034 - val_accuracy: 0.5242\n",
            "Epoch 32/50\n",
            "5/5 [==============================] - 41s 8s/step - loss: 1.0808 - accuracy: 0.5008 - val_loss: 1.1012 - val_accuracy: 0.5048\n",
            "Epoch 33/50\n",
            "5/5 [==============================] - 42s 9s/step - loss: 1.0784 - accuracy: 0.5113 - val_loss: 1.0965 - val_accuracy: 0.5184\n",
            "Epoch 34/50\n",
            "5/5 [==============================] - 42s 9s/step - loss: 1.0764 - accuracy: 0.4891 - val_loss: 1.0951 - val_accuracy: 0.5319\n",
            "Epoch 35/50\n",
            "5/5 [==============================] - 42s 9s/step - loss: 1.0755 - accuracy: 0.5208 - val_loss: 1.0912 - val_accuracy: 0.5048\n",
            "Epoch 36/50\n",
            "5/5 [==============================] - 40s 8s/step - loss: 1.0723 - accuracy: 0.4971 - val_loss: 1.0985 - val_accuracy: 0.5706\n",
            "Epoch 37/50\n",
            "5/5 [==============================] - 41s 8s/step - loss: 1.0708 - accuracy: 0.5335 - val_loss: 1.0839 - val_accuracy: 0.4990\n",
            "Epoch 38/50\n",
            "5/5 [==============================] - 41s 8s/step - loss: 1.0699 - accuracy: 0.5001 - val_loss: 1.0942 - val_accuracy: 0.5822\n",
            "Epoch 39/50\n",
            "5/5 [==============================] - 41s 8s/step - loss: 1.0667 - accuracy: 0.5356 - val_loss: 1.0804 - val_accuracy: 0.5010\n",
            "Epoch 40/50\n",
            "5/5 [==============================] - 41s 8s/step - loss: 1.0655 - accuracy: 0.5102 - val_loss: 1.0913 - val_accuracy: 0.5822\n",
            "Epoch 41/50\n",
            "5/5 [==============================] - 41s 8s/step - loss: 1.0634 - accuracy: 0.5266 - val_loss: 1.0762 - val_accuracy: 0.5377\n",
            "Epoch 42/50\n",
            "5/5 [==============================] - 42s 8s/step - loss: 1.0598 - accuracy: 0.5384 - val_loss: 1.0810 - val_accuracy: 0.5474\n",
            "Epoch 43/50\n",
            "5/5 [==============================] - 40s 8s/step - loss: 1.0571 - accuracy: 0.5367 - val_loss: 1.0765 - val_accuracy: 0.5338\n",
            "Epoch 44/50\n",
            "5/5 [==============================] - 42s 9s/step - loss: 1.0560 - accuracy: 0.5193 - val_loss: 1.0755 - val_accuracy: 0.5880\n",
            "Epoch 45/50\n",
            "5/5 [==============================] - 42s 9s/step - loss: 1.0542 - accuracy: 0.5505 - val_loss: 1.0700 - val_accuracy: 0.5222\n",
            "Epoch 46/50\n",
            "5/5 [==============================] - 41s 8s/step - loss: 1.0552 - accuracy: 0.5485 - val_loss: 1.0711 - val_accuracy: 0.5474\n",
            "Epoch 47/50\n",
            "5/5 [==============================] - 41s 8s/step - loss: 1.0511 - accuracy: 0.5279 - val_loss: 1.0724 - val_accuracy: 0.5919\n",
            "Epoch 48/50\n",
            "5/5 [==============================] - 42s 9s/step - loss: 1.0473 - accuracy: 0.5636 - val_loss: 1.0594 - val_accuracy: 0.5377\n",
            "Epoch 49/50\n",
            "5/5 [==============================] - 40s 8s/step - loss: 1.0452 - accuracy: 0.5509 - val_loss: 1.0624 - val_accuracy: 0.5532\n",
            "Epoch 50/50\n",
            "5/5 [==============================] - 43s 9s/step - loss: 1.0422 - accuracy: 0.5558 - val_loss: 1.0567 - val_accuracy: 0.5532\n",
            "41/41 [==============================] - 14s 326ms/step\n",
            "41/41 [==============================] - 16s 386ms/step - loss: 1.0402 - accuracy: 0.5283\n",
            "Test set\n",
            "  Loss: 1.040\n",
            "  Accuracy: 0.528\n",
            "              precision    recall  f1-score   support\n",
            "\n",
            "   treatment       0.84      0.20      0.32       424\n",
            "     chronic       0.50      0.99      0.67       602\n",
            "      cancer       0.00      0.00      0.00       229\n",
            "     allergy       0.00      0.00      0.00        36\n",
            "\n",
            "    accuracy                           0.53      1291\n",
            "   macro avg       0.34      0.30      0.25      1291\n",
            "weighted avg       0.51      0.53      0.42      1291\n",
            "\n",
            "Matthews Corelation Score (MCC) :  0.23900905495709035\n"
          ]
        }
      ],
      "source": [
        "#Training\n",
        "model_bert = create_bert_model()\n",
        "# Compile the model\n",
        "model_bert.compile(optimizer='adam', loss='categorical_crossentropy', metrics=['accuracy'])\n",
        "early_stopping = EarlyStopping(monitor='val_loss', min_delta=0.0001, patience=10, verbose=1, restore_best_weights=True)\n",
        "callbacks_list = [early_stopping]\n",
        "history = model_bert.fit(X_trainT2, tf.keras.utils.to_categorical(y_trainT2, num_classes=4, dtype='float32'), validation_split=0.1, epochs = 50, callbacks=callbacks_list, batch_size=1024)\n",
        "#Evaluation\n",
        "predict = model_bert.predict(X_testT2)\n",
        "accr = model_bert.evaluate(X_testT2, tf.keras.utils.to_categorical(y_testT2, num_classes=4, dtype='float32'))\n",
        "print('Test set\\n  Loss: {:0.3f}\\n  Accuracy: {:0.3f}'.format(accr[0],accr[1]))\n",
        "\n",
        "y_predT2=[]\n",
        "for j in range(0,len(predict)):\n",
        "  for i in range(0,len(predict[j])):\n",
        "    if predict[j][i] == max(predict[j]):\n",
        "      y_predT2.append(i)\n",
        "\n",
        "#printing the results\n",
        "print(classification_report(y_testT2, y_predT2, target_names=['treatment','chronic','cancer','allergy']))\n",
        "print('Matthews Corelation Score (MCC) : ',matthews_corrcoef(y_testT2, y_predT2))"
      ]
    },
    {
      "cell_type": "markdown",
      "metadata": {
        "id": "jaDiK-3Djrh3"
      },
      "source": [
        "###### T3"
      ]
    },
    {
      "cell_type": "code",
      "execution_count": null,
      "metadata": {
        "id": "oDkQVrjnjuL2",
        "colab": {
          "base_uri": "https://localhost:8080/"
        },
        "outputId": "94eb55ab-cd8b-4c4d-a481-7d2054de9993"
      },
      "outputs": [
        {
          "output_type": "stream",
          "name": "stdout",
          "text": [
            "Epoch 1/50\n",
            "2/2 [==============================] - 22s 8s/step - loss: 1.2048 - accuracy: 0.4354 - val_loss: 1.1754 - val_accuracy: 0.4444\n",
            "Epoch 2/50\n",
            "2/2 [==============================] - 12s 4s/step - loss: 1.1543 - accuracy: 0.4398 - val_loss: 1.1716 - val_accuracy: 0.4444\n",
            "Epoch 3/50\n",
            "2/2 [==============================] - 10s 2s/step - loss: 1.1446 - accuracy: 0.4398 - val_loss: 1.1810 - val_accuracy: 0.4444\n",
            "Epoch 4/50\n",
            "2/2 [==============================] - 10s 2s/step - loss: 1.1444 - accuracy: 0.4398 - val_loss: 1.1949 - val_accuracy: 0.4444\n",
            "Epoch 5/50\n",
            "2/2 [==============================] - 10s 2s/step - loss: 1.1423 - accuracy: 0.4398 - val_loss: 1.2147 - val_accuracy: 0.3016\n",
            "Epoch 6/50\n",
            "2/2 [==============================] - 10s 2s/step - loss: 1.1511 - accuracy: 0.3681 - val_loss: 1.2094 - val_accuracy: 0.4206\n",
            "Epoch 7/50\n",
            "2/2 [==============================] - 10s 2s/step - loss: 1.1475 - accuracy: 0.4168 - val_loss: 1.1896 - val_accuracy: 0.4444\n",
            "Epoch 8/50\n",
            "2/2 [==============================] - 10s 2s/step - loss: 1.1446 - accuracy: 0.4398 - val_loss: 1.1864 - val_accuracy: 0.4444\n",
            "Epoch 9/50\n",
            "2/2 [==============================] - 10s 2s/step - loss: 1.1596 - accuracy: 0.4398 - val_loss: 1.1781 - val_accuracy: 0.4444\n",
            "Epoch 10/50\n",
            "2/2 [==============================] - 10s 2s/step - loss: 1.1473 - accuracy: 0.4398 - val_loss: 1.1895 - val_accuracy: 0.4365\n",
            "Epoch 11/50\n",
            "2/2 [==============================] - 10s 2s/step - loss: 1.1444 - accuracy: 0.4274 - val_loss: 1.2186 - val_accuracy: 0.3016\n",
            "Epoch 12/50\n",
            "2/2 [==============================] - ETA: 0s - loss: 1.1596 - accuracy: 0.3637Restoring model weights from the end of the best epoch: 2.\n",
            "2/2 [==============================] - 11s 3s/step - loss: 1.1596 - accuracy: 0.3637 - val_loss: 1.2039 - val_accuracy: 0.3016\n",
            "Epoch 12: early stopping\n",
            "40/40 [==============================] - 13s 314ms/step\n",
            " 4/40 [==>...........................] - ETA: 14s - loss: 1.2036 - accuracy: 0.4375"
          ]
        }
      ],
      "source": [
        "#Training\n",
        "model_bert = create_bert_model()\n",
        "# Compile the model\n",
        "model_bert.compile(optimizer='adam', loss='categorical_crossentropy', metrics=['accuracy'])\n",
        "early_stopping = EarlyStopping(monitor='val_loss', min_delta=0.0001, patience=10, verbose=1, restore_best_weights=True)\n",
        "callbacks_list = [early_stopping]\n",
        "history = model_bert.fit(X_testT3, tf.keras.utils.to_categorical(y_trainT3, num_classes=4, dtype='float32'), validation_split=0.1, epochs = 50, callbacks=callbacks_list, batch_size=1024)\n",
        "#Evaluation\n",
        "predict = model_bert.predict(X_testT3)\n",
        "accr = model_bert.evaluate(X_testT3, tf.keras.utils.to_categorical(y_testT3, num_classes=4, dtype='float32'))\n",
        "print('Test set\\n  Loss: {:0.3f}\\n  Accuracy: {:0.3f}'.format(accr[0],accr[1]))\n",
        "\n",
        "y_predT3=[]\n",
        "for j in range(0,len(predict)):\n",
        "  for i in range(0,len(predict[j])):\n",
        "    if predict[j][i] == max(predict[j]):\n",
        "      y_predT3.append(i)\n",
        "\n",
        "#printing the results\n",
        "print(classification_report(y_testT3, y_predT3, target_names=['treatment','chronic','cancer','allergy']))\n",
        "print('Matthews Corelation Score (MCC) : ',matthews_corrcoef(y_testT3, y_predT3))"
      ]
    },
    {
      "cell_type": "markdown",
      "source": [
        "### Batch Learning with pre-trained Embedding"
      ],
      "metadata": {
        "id": "-ewVHIHy4Iy5"
      }
    },
    {
      "cell_type": "markdown",
      "source": [
        "I am using Glove 200-D pre-trained embedding in this work. In this section I have only presented with T1. Same can be replicated for others. Kindly download the pre-trained embeddings from https://nlp.stanford.edu/data/glove.twitter.27B.zip"
      ],
      "metadata": {
        "id": "aoqdNr-r4RbB"
      }
    },
    {
      "cell_type": "code",
      "source": [
        "embeddings_index = dict()\n",
        "f = open('glove.twitter.27B.200d.txt','rb')\n",
        "header = f.readline()"
      ],
      "metadata": {
        "id": "F_50PV1555U0"
      },
      "execution_count": null,
      "outputs": []
    },
    {
      "cell_type": "code",
      "source": [
        "for line in f:\n",
        "    values = line.split()\n",
        "    word = values[0]\n",
        "    coefs = np.asarray(values[1:], dtype='float32')\n",
        "    embeddings_index[word] = coefs\n",
        "\n",
        "f.close()"
      ],
      "metadata": {
        "id": "VnmMBInO57ST"
      },
      "execution_count": null,
      "outputs": []
    },
    {
      "cell_type": "code",
      "source": [
        "oov_words=[]\n",
        "embedding_dim=vector_size\n",
        "embedding_matrix = np.zeros((vocabulary_size, embedding_dim))\n",
        "\n",
        "for word, index in tokenizer.word_index.items():\n",
        "  if index > vocabulary_size - 1:\n",
        "      break\n",
        "  else:\n",
        "      embedding_vector = embeddings_index.get(bytes(word,'utf-8'))\n",
        "\n",
        "      #print(embedding_vector)\n",
        "      if embedding_vector is not None:\n",
        "          embedding_matrix[index] = embedding_vector\n",
        "      else:\n",
        "        oov_words.append(word)"
      ],
      "metadata": {
        "id": "oEocBRSB4syx"
      },
      "execution_count": null,
      "outputs": []
    },
    {
      "cell_type": "code",
      "source": [
        "# Converting text to arrays for T1\n",
        "tokenizer_w = WhitespaceTokenizer()\n",
        "tokenizerT1 = Tokenizer(oov_token='oov')\n",
        "\n",
        "tokenizerT1.fit_on_texts(T1['text'])\n",
        "\n",
        "word_indexT1 = tokenizerT1.word_index\n",
        "vocabulary_sizeT1 =len(word_indexT1)+1\n",
        "\n",
        "train_sequencesT1 = tokenizerT1.texts_to_sequences(X_trainT1)\n",
        "test_sequencesT1 = tokenizerT1.texts_to_sequences(X_testT1)\n",
        "vector_size=200 # for embedding\n",
        "train_dataT1 = pad_sequences(train_sequencesT1, maxlen=vector_size, padding='post',truncating='pre')\n",
        "test_dataT1 = pad_sequences(test_sequencesT1, maxlen=vector_size, padding='post')"
      ],
      "metadata": {
        "id": "-s_KhxDE5aK3"
      },
      "execution_count": null,
      "outputs": []
    },
    {
      "cell_type": "markdown",
      "source": [
        "#### T1"
      ],
      "metadata": {
        "id": "mtctoMni5HAG"
      }
    },
    {
      "cell_type": "code",
      "source": [
        "def create_model_lstm(vocabulary_size):\n",
        "  model_lstm = Sequential()\n",
        "  model.add(Embedding(vocabulary_size, input_length=200,trainable=False,output_dim=200,weights=[embedding_matrix])) #glove\n",
        "  model_lstm.add(LSTM(32, return_sequences=True))\n",
        "  model_lstm.add(Flatten())\n",
        "  model_lstm.add(Dense(4, activation='sigmoid'))#num_class\n",
        "  return model_lstm"
      ],
      "metadata": {
        "id": "JTh9F8Ok4e2W"
      },
      "execution_count": null,
      "outputs": []
    },
    {
      "cell_type": "code",
      "source": [
        "#Training\n",
        "##Create LSTM sequence model for every training\n",
        "model_lstm = create_model_lstm(vocabulary_sizeT1)\n",
        "model_lstm.compile(loss='categorical_crossentropy', optimizer='adam', metrics=['accuracy'])\n",
        "early_stopping = EarlyStopping(monitor='val_loss', min_delta=0.0001, patience=10, verbose=1, restore_best_weights=True)\n",
        "callbacks_list = [early_stopping]\n",
        "history = model_lstm.fit(train_dataT1, tf.keras.utils.to_categorical(y_trainT1, num_classes=4, dtype='float32'), validation_split=0.1, epochs = 50, callbacks=callbacks_list, batch_size=2048)\n",
        "#Evaluation\n",
        "predict = model_lstm.predict(test_dataT1)\n",
        "accr = model_lstm.evaluate(test_dataT1, tf.keras.utils.to_categorical(y_testT1, num_classes=4, dtype='float32'))\n",
        "print('Test set\\n  Loss: {:0.3f}\\n  Accuracy: {:0.3f}'.format(accr[0],accr[1]))\n",
        "\n",
        "y_predT1=[]\n",
        "for j in range(0,len(predict)):\n",
        "  for i in range(0,len(predict[j])):\n",
        "    if predict[j][i] == max(predict[j]):\n",
        "      y_predT1.append(i)\n",
        "\n",
        "#printing the results\n",
        "print(classification_report(y_testT1, y_predT1, target_names=['treatment','chronic','cancer','allergy']))\n",
        "print('Matthews Corelation Score (MCC) : ',matthews_corrcoef(y_testT1, y_predT1))"
      ],
      "metadata": {
        "id": "Sz0EuqUb4-YQ"
      },
      "execution_count": null,
      "outputs": []
    },
    {
      "cell_type": "markdown",
      "metadata": {
        "id": "57Qt1je6fP5Q"
      },
      "source": [
        "### ML Based methods"
      ]
    },
    {
      "cell_type": "markdown",
      "metadata": {
        "id": "ExuuiaKwfX1n"
      },
      "source": [
        "#### One-vs-one classifier"
      ]
    },
    {
      "cell_type": "code",
      "execution_count": null,
      "metadata": {
        "id": "1cNVaik3fR8B"
      },
      "outputs": [],
      "source": [
        "from sklearn.naive_bayes import BernoulliNB\n",
        "from sklearn.neighbors import KNeighborsClassifier\n",
        "from sklearn.linear_model import LogisticRegression\n",
        "from sklearn.multiclass import OneVsOneClassifier"
      ]
    },
    {
      "cell_type": "markdown",
      "metadata": {
        "id": "W31wXZGZlhm4"
      },
      "source": [
        "#####T1"
      ]
    },
    {
      "cell_type": "markdown",
      "source": [
        "######KNN"
      ],
      "metadata": {
        "id": "vX89lNMYVrqm"
      }
    },
    {
      "cell_type": "code",
      "execution_count": null,
      "metadata": {
        "id": "rsAx-vXKlkW6"
      },
      "outputs": [],
      "source": [
        "#KNN\n",
        "ovo = OneVsOneClassifier(estimator=KNeighborsClassifier(n_neighbors=4))\n",
        "ovo.fit(train_dataT1, y_trainT1)\n",
        "predict = ovo.predict(test_dataT1)\n",
        "\n",
        "#printing the results\n",
        "print(classification_report(y_testT1, predict, target_names=['treatment','chronic','cancer','allergy']))\n",
        "print('Matthews Corelation Score (MCC) : ',matthews_corrcoef(y_testT1, predict))"
      ]
    },
    {
      "cell_type": "markdown",
      "source": [
        "######BNB"
      ],
      "metadata": {
        "id": "WN2Tqm7lVtXd"
      }
    },
    {
      "cell_type": "code",
      "source": [
        "#BNB\n",
        "ovo = OneVsOneClassifier(estimator=BernoulliNB())\n",
        "ovo.fit(train_dataT1, y_trainT1)\n",
        "predict = ovo.predict(test_dataT1)\n",
        "\n",
        "#printing the results\n",
        "print(classification_report(y_testT1, predict, target_names=['treatment','chronic','cancer','allergy']))\n",
        "print('Matthews Corelation Score (MCC) : ',matthews_corrcoef(y_testT1, predict))"
      ],
      "metadata": {
        "id": "ID5SjJgUVad2"
      },
      "execution_count": null,
      "outputs": []
    },
    {
      "cell_type": "markdown",
      "source": [
        "######LR"
      ],
      "metadata": {
        "id": "c-h6GoSWV_Oc"
      }
    },
    {
      "cell_type": "code",
      "source": [
        "#LR\n",
        "ovo = OneVsOneClassifier(estimator=LogisticRegression())\n",
        "ovo.fit(train_dataT1, y_trainT1)\n",
        "predict = ovo.predict(test_dataT1)\n",
        "\n",
        "#printing the results\n",
        "print(classification_report(y_testT1, predict, target_names=['treatment','chronic','cancer','allergy']))\n",
        "print('Matthews Corelation Score (MCC) : ',matthews_corrcoef(y_testT1, predict))"
      ],
      "metadata": {
        "id": "Q9buEUB8VivT"
      },
      "execution_count": null,
      "outputs": []
    },
    {
      "cell_type": "markdown",
      "metadata": {
        "id": "KAQFrtC_lkv-"
      },
      "source": [
        "#####T2"
      ]
    },
    {
      "cell_type": "markdown",
      "source": [
        "######KNN"
      ],
      "metadata": {
        "id": "Z4oqz-9DWHGM"
      }
    },
    {
      "cell_type": "code",
      "execution_count": null,
      "metadata": {
        "id": "pZPy-IzHlm8_",
        "colab": {
          "base_uri": "https://localhost:8080/"
        },
        "outputId": "2ebb4007-9b8c-49e9-be5f-0e05a7c4dd0a"
      },
      "outputs": [
        {
          "output_type": "stream",
          "name": "stdout",
          "text": [
            "              precision    recall  f1-score   support\n",
            "\n",
            "   treatment       0.38      0.50      0.43       424\n",
            "     chronic       0.54      0.58      0.56       602\n",
            "      cancer       0.27      0.07      0.12       229\n",
            "     allergy       0.00      0.00      0.00        36\n",
            "\n",
            "    accuracy                           0.45      1291\n",
            "   macro avg       0.30      0.29      0.28      1291\n",
            "weighted avg       0.42      0.45      0.42      1291\n",
            "\n",
            "Matthews Corelation Score (MCC) :  0.10272936730111448\n"
          ]
        }
      ],
      "source": [
        "ovo = OneVsOneClassifier(estimator=KNeighborsClassifier(n_neighbors=4))\n",
        "ovo.fit(train_dataT2, y_trainT2)\n",
        "y_predT2 = ovo.predict(test_dataT2)\n",
        "\n",
        "#printing the results\n",
        "print(classification_report(y_testT2, y_predT2, target_names=['treatment','chronic','cancer','allergy']))\n",
        "print('Matthews Corelation Score (MCC) : ',matthews_corrcoef(y_testT2, y_predT2))"
      ]
    },
    {
      "cell_type": "markdown",
      "source": [
        "###### BNB"
      ],
      "metadata": {
        "id": "-f2RHHA1YANG"
      }
    },
    {
      "cell_type": "code",
      "source": [
        "ovo = OneVsOneClassifier(estimator=BernoulliNB())\n",
        "ovo.fit(train_dataT2, y_trainT2)\n",
        "y_predT2 = ovo.predict(test_dataT2)\n",
        "\n",
        "#printing the results\n",
        "print(classification_report(y_testT2, y_predT2, target_names=['treatment','chronic','cancer','allergy']))\n",
        "print('Matthews Corelation Score (MCC) : ',matthews_corrcoef(y_testT2, y_predT2))"
      ],
      "metadata": {
        "id": "P27WC5PtX_xW"
      },
      "execution_count": null,
      "outputs": []
    },
    {
      "cell_type": "markdown",
      "source": [
        "######LR"
      ],
      "metadata": {
        "id": "-JmAdCTxYJl9"
      }
    },
    {
      "cell_type": "code",
      "source": [
        "ovo = OneVsOneClassifier(estimator=LogisticRegression())\n",
        "ovo.fit(train_dataT2, y_trainT2)\n",
        "y_predT2 = ovo.predict(test_dataT2)\n",
        "\n",
        "#printing the results\n",
        "print(classification_report(y_testT2, y_predT2, target_names=['treatment','chronic','cancer','allergy']))\n",
        "print('Matthews Corelation Score (MCC) : ',matthews_corrcoef(y_testT2, y_predT2))"
      ],
      "metadata": {
        "id": "hT3Y7pG7X_dx"
      },
      "execution_count": null,
      "outputs": []
    },
    {
      "cell_type": "markdown",
      "metadata": {
        "id": "OzRogOP8lnTc"
      },
      "source": [
        "#####T3"
      ]
    },
    {
      "cell_type": "markdown",
      "source": [
        "######KNN"
      ],
      "metadata": {
        "id": "O8_qQBZ5YlXx"
      }
    },
    {
      "cell_type": "code",
      "execution_count": null,
      "metadata": {
        "id": "cX6x8M86lo_2",
        "colab": {
          "base_uri": "https://localhost:8080/"
        },
        "outputId": "421c1cc4-efe9-4126-a7c5-6b953abe39f7"
      },
      "outputs": [
        {
          "output_type": "stream",
          "name": "stdout",
          "text": [
            "              precision    recall  f1-score   support\n",
            "\n",
            "   treatment       0.41      0.63      0.50       439\n",
            "     chronic       0.55      0.49      0.52       576\n",
            "      cancer       0.31      0.10      0.15       199\n",
            "     allergy       0.67      0.05      0.09        42\n",
            "\n",
            "    accuracy                           0.46      1256\n",
            "   macro avg       0.48      0.32      0.31      1256\n",
            "weighted avg       0.47      0.46      0.44      1256\n",
            "\n",
            "Matthews Corelation Score (MCC) :  0.13427118802028298\n"
          ]
        }
      ],
      "source": [
        "ovo = OneVsOneClassifier(estimator=KNeighborsClassifier(n_neighbors=4))\n",
        "ovo.fit(train_dataT3, y_trainT3)\n",
        "y_predT3 = ovo.predict(test_dataT3)\n",
        "\n",
        "\n",
        "#printing the results\n",
        "print(classification_report(y_testT3, y_predT3, target_names=['treatment','chronic','cancer','allergy']))\n",
        "print('Matthews Corelation Score (MCC) : ',matthews_corrcoef(y_testT3, y_predT3))"
      ]
    },
    {
      "cell_type": "markdown",
      "source": [
        "###### BNB"
      ],
      "metadata": {
        "id": "XTl7bbj8YUhR"
      }
    },
    {
      "cell_type": "code",
      "source": [
        "ovo = OneVsOneClassifier(estimator=BernoulliNB())\n",
        "ovo.fit(train_dataT3, y_trainT3)\n",
        "y_predT3 = ovo.predict(test_dataT3)\n",
        "\n",
        "\n",
        "#printing the results\n",
        "print(classification_report(y_testT3, y_predT3, target_names=['treatment','chronic','cancer','allergy']))\n",
        "print('Matthews Corelation Score (MCC) : ',matthews_corrcoef(y_testT3, y_predT3))"
      ],
      "metadata": {
        "id": "xBAfLh0AYbBZ"
      },
      "execution_count": null,
      "outputs": []
    },
    {
      "cell_type": "markdown",
      "source": [
        "######LR"
      ],
      "metadata": {
        "id": "rWCbrNUwYbfU"
      }
    },
    {
      "cell_type": "code",
      "source": [
        "ovo = OneVsOneClassifier(estimator=LogisticRegression())\n",
        "ovo.fit(train_dataT3, y_trainT3)\n",
        "y_predT3 = ovo.predict(test_dataT3)\n",
        "\n",
        "\n",
        "#printing the results\n",
        "print(classification_report(y_testT3, y_predT3, target_names=['treatment','chronic','cancer','allergy']))\n",
        "print('Matthews Corelation Score (MCC) : ',matthews_corrcoef(y_testT3, y_predT3))"
      ],
      "metadata": {
        "id": "GShj3D1ZYeOR"
      },
      "execution_count": null,
      "outputs": []
    },
    {
      "cell_type": "markdown",
      "metadata": {
        "id": "XAum6ON9n8_1"
      },
      "source": [
        "#### One-vs-rest classifiers"
      ]
    },
    {
      "cell_type": "code",
      "execution_count": null,
      "metadata": {
        "id": "7BdLuCjqoAua"
      },
      "outputs": [],
      "source": [
        "from sklearn.linear_model import SGDClassifier\n",
        "from sklearn.ensemble import GradientBoostingClassifier\n",
        "\n",
        "from sklearn.multiclass import OneVsRestClassifier"
      ]
    },
    {
      "cell_type": "markdown",
      "metadata": {
        "id": "fXZBXFGnoQby"
      },
      "source": [
        "#####T1"
      ]
    },
    {
      "cell_type": "markdown",
      "source": [
        "######GB"
      ],
      "metadata": {
        "id": "PRMIoGN5ZFpl"
      }
    },
    {
      "cell_type": "code",
      "execution_count": null,
      "metadata": {
        "id": "1lXE10WNoPRF",
        "colab": {
          "base_uri": "https://localhost:8080/"
        },
        "outputId": "8fd9fa1b-40e9-412a-eaf0-a24e87139b95"
      },
      "outputs": [
        {
          "output_type": "stream",
          "name": "stdout",
          "text": [
            "              precision    recall  f1-score   support\n",
            "\n",
            "   treatment       0.58      0.69      0.63       538\n",
            "     chronic       0.60      0.76      0.67       640\n",
            "      cancer       0.52      0.04      0.08       256\n",
            "     allergy       0.83      0.26      0.40        38\n",
            "\n",
            "    accuracy                           0.60      1472\n",
            "   macro avg       0.64      0.44      0.45      1472\n",
            "weighted avg       0.59      0.60      0.55      1472\n",
            "\n",
            "Matthews Corelation Score (MCC) :  0.34406112976822995\n"
          ]
        }
      ],
      "source": [
        "ovr = OneVsRestClassifier(estimator=GradientBoostingClassifier())\n",
        "ovr.fit(train_dataT1, y_trainT1)\n",
        "y_predT1 = ovr.predict(test_dataT1)\n",
        "\n",
        "#printing the results\n",
        "print(classification_report(y_testT1, y_predT1, target_names=['treatment','chronic','cancer','allergy']))\n",
        "print('Matthews Corelation Score (MCC) : ',matthews_corrcoef(y_testT1, y_predT1))"
      ]
    },
    {
      "cell_type": "markdown",
      "source": [
        "######SGDC"
      ],
      "metadata": {
        "id": "_-Ew1WHRZLZ0"
      }
    },
    {
      "cell_type": "code",
      "source": [
        "ovr = OneVsRestClassifier(estimator=SGDClassifier())\n",
        "ovr.fit(train_dataT1, y_trainT1)\n",
        "y_predT1 = ovr.predict(test_dataT1)\n",
        "\n",
        "#printing the results\n",
        "print(classification_report(y_testT1, y_predT1, target_names=['treatment','chronic','cancer','allergy']))\n",
        "print('Matthews Corelation Score (MCC) : ',matthews_corrcoef(y_testT1, y_predT1))"
      ],
      "metadata": {
        "id": "EqX3ejjeZP8t"
      },
      "execution_count": null,
      "outputs": []
    },
    {
      "cell_type": "markdown",
      "metadata": {
        "id": "jvRI8xc4od1Y"
      },
      "source": [
        "#####T2"
      ]
    },
    {
      "cell_type": "markdown",
      "source": [
        "######GB"
      ],
      "metadata": {
        "id": "cxfa3pc4Zg1N"
      }
    },
    {
      "cell_type": "code",
      "execution_count": null,
      "metadata": {
        "id": "IQ9No_VeofrL"
      },
      "outputs": [],
      "source": [
        "ovr = OneVsRestClassifier(estimator=GradientBoostingClassifier())\n",
        "ovr.fit(train_dataT2, y_trainT2)\n",
        "y_predT2 = ovo.predict(test_dataT2)\n",
        "\n",
        "\n",
        "#printing the results\n",
        "print(classification_report(y_testT2, y_predT2, target_names=['treatment','chronic','cancer','allergy']))\n",
        "print('Matthews Corelation Score (MCC) : ',matthews_corrcoef(y_testT2, y_predT2))"
      ]
    },
    {
      "cell_type": "markdown",
      "source": [
        "######SDGC"
      ],
      "metadata": {
        "id": "c6ZS2bERZkw3"
      }
    },
    {
      "cell_type": "code",
      "source": [
        "ovr = OneVsRestClassifier(estimator=SGDClassifier())\n",
        "ovr.fit(train_dataT2, y_trainT2)\n",
        "y_predT2 = ovo.predict(test_dataT2)\n",
        "\n",
        "\n",
        "#printing the results\n",
        "print(classification_report(y_testT2, y_predT2, target_names=['treatment','chronic','cancer','allergy']))\n",
        "print('Matthews Corelation Score (MCC) : ',matthews_corrcoef(y_testT2, y_predT2))"
      ],
      "metadata": {
        "id": "VNHv1HH0Zm1e"
      },
      "execution_count": null,
      "outputs": []
    },
    {
      "cell_type": "markdown",
      "metadata": {
        "id": "6Ti4pe-Goi1g"
      },
      "source": [
        "#####T3"
      ]
    },
    {
      "cell_type": "markdown",
      "source": [
        "######GB"
      ],
      "metadata": {
        "id": "n7YHJGTuZ411"
      }
    },
    {
      "cell_type": "code",
      "execution_count": null,
      "metadata": {
        "id": "JmBIs3YAokqM",
        "colab": {
          "base_uri": "https://localhost:8080/"
        },
        "outputId": "8e8e4871-4a59-4f56-d54e-29e61882f188"
      },
      "outputs": [
        {
          "output_type": "stream",
          "name": "stdout",
          "text": [
            "              precision    recall  f1-score   support\n",
            "\n",
            "   treatment       0.63      0.65      0.64       439\n",
            "     chronic       0.63      0.81      0.71       576\n",
            "      cancer       0.60      0.14      0.23       199\n",
            "     allergy       0.95      0.45      0.61        42\n",
            "\n",
            "    accuracy                           0.63      1256\n",
            "   macro avg       0.70      0.51      0.55      1256\n",
            "weighted avg       0.63      0.63      0.60      1256\n",
            "\n",
            "Matthews Corelation Score (MCC) :  0.40075481038491506\n"
          ]
        }
      ],
      "source": [
        "ovr = OneVsRestClassifier(estimator=GradientBoostingClassifier())\n",
        "ovr.fit(train_dataT3, y_trainT3)\n",
        "y_predT3 = ovr.predict(test_dataT3)\n",
        "\n",
        "#printing the results\n",
        "print(classification_report(y_testT3, y_predT3, target_names=['treatment','chronic','cancer','allergy']))\n",
        "print('Matthews Corelation Score (MCC) : ',matthews_corrcoef(y_testT3, y_predT3))"
      ]
    },
    {
      "cell_type": "markdown",
      "source": [
        "######SDGC"
      ],
      "metadata": {
        "id": "PIY3Q_ORZ86y"
      }
    },
    {
      "cell_type": "code",
      "source": [
        "ovr = OneVsRestClassifier(estimator=SGDClassifier())\n",
        "ovr.fit(train_dataT3, y_trainT3)\n",
        "y_predT3 = ovr.predict(test_dataT3)\n",
        "\n",
        "#printing the results\n",
        "print(classification_report(y_testT3, y_predT3, target_names=['treatment','chronic','cancer','allergy']))\n",
        "print('Matthews Corelation Score (MCC) : ',matthews_corrcoef(y_testT3, y_predT3))"
      ],
      "metadata": {
        "id": "i_bwiyafZ-uO"
      },
      "execution_count": null,
      "outputs": []
    },
    {
      "cell_type": "markdown",
      "metadata": {
        "id": "g5WjyE96pEZP"
      },
      "source": [
        "### Ensemble learning"
      ]
    },
    {
      "cell_type": "markdown",
      "source": [
        "#####T1"
      ],
      "metadata": {
        "id": "QhrCAccsFRIM"
      }
    },
    {
      "cell_type": "code",
      "source": [
        "##Model 1\n",
        "model_lstm = create_model_lstm(vocabulary_sizeT1)\n",
        "model_lstm.compile(loss='categorical_crossentropy', optimizer='adam', metrics=['accuracy'])\n",
        "early_stopping = EarlyStopping(monitor='val_loss', min_delta=0.0001, patience=10, verbose=1, restore_best_weights=True)\n",
        "callbacks_list = [early_stopping]\n",
        "history = model_lstm.fit(train_dataT1, tf.keras.utils.to_categorical(y_trainT1, num_classes=4, dtype='float32'), validation_split=0.1, epochs = 50, callbacks=callbacks_list, batch_size=2048)\n",
        "#Evaluation\n",
        "predict_a = model_lstm.predict(test_dataT1)\n",
        "\n",
        "##Model 2\n",
        "model_cnn = create_model_cnn(vocabulary_sizeT1)\n",
        "model_cnn.compile(loss='categorical_crossentropy', optimizer='adam', metrics=['accuracy'])\n",
        "early_stopping = EarlyStopping(monitor='val_loss', min_delta=0.0001, patience=10, verbose=1, restore_best_weights=True)\n",
        "callbacks_list = [early_stopping]\n",
        "history = model_cnn.fit(train_dataT1, tf.keras.utils.to_categorical(y_trainT1, num_classes=4, dtype='float32'), validation_split=0.1, epochs = 50, callbacks=callbacks_list, batch_size=2048)\n",
        "#Evaluation\n",
        "predict_b = model_cnn.predict(test_dataT1)\n",
        "\n",
        "##Model 3\n",
        "model_pnn = create_model_pnn(vocabulary_sizeT1)\n",
        "model_pnn.compile(loss='categorical_crossentropy', optimizer='adam', metrics=['accuracy'])\n",
        "early_stopping = EarlyStopping(monitor='val_loss', min_delta=0.0001, patience=10, verbose=1, restore_best_weights=True)\n",
        "callbacks_list = [early_stopping]\n",
        "history = model_pnn.fit(train_dataT1, tf.keras.utils.to_categorical(y_trainT1, num_classes=4, dtype='float32'), validation_split=0.1, epochs = 50, callbacks=callbacks_list, batch_size=2048)\n",
        "#Evaluation\n",
        "predict_c = model_pnn.predict(test_dataT1)\n"
      ],
      "metadata": {
        "id": "mlsVN7JRDqJA",
        "colab": {
          "base_uri": "https://localhost:8080/"
        },
        "outputId": "84b5ce78-cf53-4a61-d3ff-dd223b3f4491"
      },
      "execution_count": null,
      "outputs": [
        {
          "output_type": "stream",
          "name": "stdout",
          "text": [
            "Epoch 1/50\n",
            "3/3 [==============================] - 8s 356ms/step - loss: 1.3681 - accuracy: 0.3318 - val_loss: 1.2953 - val_accuracy: 0.5348\n",
            "Epoch 2/50\n",
            "3/3 [==============================] - 0s 129ms/step - loss: 1.2446 - accuracy: 0.6013 - val_loss: 1.1852 - val_accuracy: 0.5314\n",
            "Epoch 3/50\n",
            "3/3 [==============================] - 0s 127ms/step - loss: 1.1329 - accuracy: 0.5830 - val_loss: 1.1780 - val_accuracy: 0.4907\n",
            "Epoch 4/50\n",
            "3/3 [==============================] - 0s 125ms/step - loss: 1.1072 - accuracy: 0.5722 - val_loss: 1.1128 - val_accuracy: 0.5722\n",
            "Epoch 5/50\n",
            "3/3 [==============================] - 0s 132ms/step - loss: 1.0379 - accuracy: 0.6213 - val_loss: 1.0415 - val_accuracy: 0.5891\n",
            "Epoch 6/50\n",
            "3/3 [==============================] - 0s 126ms/step - loss: 0.9836 - accuracy: 0.6395 - val_loss: 0.9908 - val_accuracy: 0.6044\n",
            "Epoch 7/50\n",
            "3/3 [==============================] - 0s 86ms/step - loss: 0.9209 - accuracy: 0.6538 - val_loss: 0.9177 - val_accuracy: 0.6265\n",
            "Epoch 8/50\n",
            "3/3 [==============================] - 0s 141ms/step - loss: 0.8289 - accuracy: 0.6776 - val_loss: 0.8412 - val_accuracy: 0.6740\n",
            "Epoch 9/50\n",
            "3/3 [==============================] - 0s 134ms/step - loss: 0.7327 - accuracy: 0.7127 - val_loss: 0.7607 - val_accuracy: 0.7080\n",
            "Epoch 10/50\n",
            "3/3 [==============================] - 0s 141ms/step - loss: 0.6240 - accuracy: 0.7558 - val_loss: 0.7119 - val_accuracy: 0.7029\n",
            "Epoch 11/50\n",
            "3/3 [==============================] - 0s 130ms/step - loss: 0.5358 - accuracy: 0.7911 - val_loss: 0.7095 - val_accuracy: 0.7199\n",
            "Epoch 12/50\n",
            "3/3 [==============================] - 0s 132ms/step - loss: 0.4641 - accuracy: 0.8334 - val_loss: 0.6701 - val_accuracy: 0.7572\n",
            "Epoch 13/50\n",
            "3/3 [==============================] - 0s 102ms/step - loss: 0.4005 - accuracy: 0.8818 - val_loss: 0.6363 - val_accuracy: 0.7827\n",
            "Epoch 14/50\n",
            "3/3 [==============================] - 0s 134ms/step - loss: 0.3353 - accuracy: 0.9071 - val_loss: 0.5851 - val_accuracy: 0.7980\n",
            "Epoch 15/50\n",
            "3/3 [==============================] - 0s 147ms/step - loss: 0.2745 - accuracy: 0.9190 - val_loss: 0.5618 - val_accuracy: 0.8132\n",
            "Epoch 16/50\n",
            "3/3 [==============================] - 0s 93ms/step - loss: 0.2298 - accuracy: 0.9263 - val_loss: 0.5401 - val_accuracy: 0.8336\n",
            "Epoch 17/50\n",
            "3/3 [==============================] - 0s 120ms/step - loss: 0.1892 - accuracy: 0.9405 - val_loss: 0.5428 - val_accuracy: 0.8319\n",
            "Epoch 18/50\n",
            "3/3 [==============================] - 0s 123ms/step - loss: 0.1549 - accuracy: 0.9532 - val_loss: 0.5497 - val_accuracy: 0.8455\n",
            "Epoch 19/50\n",
            "3/3 [==============================] - 0s 132ms/step - loss: 0.1244 - accuracy: 0.9664 - val_loss: 0.5953 - val_accuracy: 0.8404\n",
            "Epoch 20/50\n",
            "3/3 [==============================] - 0s 127ms/step - loss: 0.0980 - accuracy: 0.9758 - val_loss: 0.6528 - val_accuracy: 0.8404\n",
            "Epoch 21/50\n",
            "3/3 [==============================] - 0s 134ms/step - loss: 0.0757 - accuracy: 0.9849 - val_loss: 0.6807 - val_accuracy: 0.8404\n",
            "Epoch 22/50\n",
            "3/3 [==============================] - 0s 133ms/step - loss: 0.0610 - accuracy: 0.9864 - val_loss: 0.7532 - val_accuracy: 0.8387\n",
            "Epoch 23/50\n",
            "3/3 [==============================] - 1s 200ms/step - loss: 0.0499 - accuracy: 0.9889 - val_loss: 0.7496 - val_accuracy: 0.8472\n",
            "Epoch 24/50\n",
            "3/3 [==============================] - 1s 222ms/step - loss: 0.0421 - accuracy: 0.9900 - val_loss: 0.7998 - val_accuracy: 0.8438\n",
            "Epoch 25/50\n",
            "3/3 [==============================] - 1s 221ms/step - loss: 0.0330 - accuracy: 0.9923 - val_loss: 0.8050 - val_accuracy: 0.8489\n",
            "Epoch 26/50\n",
            "3/3 [==============================] - ETA: 0s - loss: 0.0276 - accuracy: 0.9932Restoring model weights from the end of the best epoch: 16.\n",
            "3/3 [==============================] - 1s 222ms/step - loss: 0.0276 - accuracy: 0.9932 - val_loss: 0.8248 - val_accuracy: 0.8387\n",
            "Epoch 26: early stopping\n",
            "46/46 [==============================] - 1s 3ms/step\n",
            "Epoch 1/50\n",
            "3/3 [==============================] - 9s 1s/step - loss: 1.2640 - accuracy: 0.4162 - val_loss: 1.2218 - val_accuracy: 0.4482\n",
            "Epoch 2/50\n",
            "3/3 [==============================] - 1s 210ms/step - loss: 1.1290 - accuracy: 0.5262 - val_loss: 1.1397 - val_accuracy: 0.4482\n",
            "Epoch 3/50\n",
            "3/3 [==============================] - 0s 154ms/step - loss: 1.0935 - accuracy: 0.5222 - val_loss: 1.1102 - val_accuracy: 0.4873\n",
            "Epoch 4/50\n",
            "3/3 [==============================] - 0s 152ms/step - loss: 1.0440 - accuracy: 0.5322 - val_loss: 1.0880 - val_accuracy: 0.5127\n",
            "Epoch 5/50\n",
            "3/3 [==============================] - 0s 153ms/step - loss: 0.9898 - accuracy: 0.5936 - val_loss: 1.0204 - val_accuracy: 0.5772\n",
            "Epoch 6/50\n",
            "3/3 [==============================] - 0s 157ms/step - loss: 0.9018 - accuracy: 0.6476 - val_loss: 0.9291 - val_accuracy: 0.6180\n",
            "Epoch 7/50\n",
            "3/3 [==============================] - 0s 160ms/step - loss: 0.7888 - accuracy: 0.6899 - val_loss: 0.8314 - val_accuracy: 0.6655\n",
            "Epoch 8/50\n",
            "3/3 [==============================] - 0s 162ms/step - loss: 0.6655 - accuracy: 0.7471 - val_loss: 0.7439 - val_accuracy: 0.7165\n",
            "Epoch 9/50\n",
            "3/3 [==============================] - 0s 150ms/step - loss: 0.5436 - accuracy: 0.8134 - val_loss: 0.6599 - val_accuracy: 0.7759\n",
            "Epoch 10/50\n",
            "3/3 [==============================] - 0s 153ms/step - loss: 0.4281 - accuracy: 0.8735 - val_loss: 0.5897 - val_accuracy: 0.8014\n",
            "Epoch 11/50\n",
            "3/3 [==============================] - 0s 116ms/step - loss: 0.3308 - accuracy: 0.9056 - val_loss: 0.5358 - val_accuracy: 0.8234\n",
            "Epoch 12/50\n",
            "3/3 [==============================] - 0s 129ms/step - loss: 0.2520 - accuracy: 0.9258 - val_loss: 0.5086 - val_accuracy: 0.8353\n",
            "Epoch 13/50\n",
            "3/3 [==============================] - 0s 132ms/step - loss: 0.1944 - accuracy: 0.9411 - val_loss: 0.5076 - val_accuracy: 0.8387\n",
            "Epoch 14/50\n",
            "3/3 [==============================] - 0s 127ms/step - loss: 0.1507 - accuracy: 0.9522 - val_loss: 0.5081 - val_accuracy: 0.8472\n",
            "Epoch 15/50\n",
            "3/3 [==============================] - 0s 149ms/step - loss: 0.1150 - accuracy: 0.9662 - val_loss: 0.5305 - val_accuracy: 0.8540\n",
            "Epoch 16/50\n",
            "3/3 [==============================] - 0s 134ms/step - loss: 0.0880 - accuracy: 0.9777 - val_loss: 0.5239 - val_accuracy: 0.8574\n",
            "Epoch 17/50\n",
            "3/3 [==============================] - 0s 90ms/step - loss: 0.0652 - accuracy: 0.9887 - val_loss: 0.5446 - val_accuracy: 0.8625\n",
            "Epoch 18/50\n",
            "3/3 [==============================] - 0s 153ms/step - loss: 0.0493 - accuracy: 0.9889 - val_loss: 0.5539 - val_accuracy: 0.8574\n",
            "Epoch 19/50\n",
            "3/3 [==============================] - 0s 151ms/step - loss: 0.0358 - accuracy: 0.9936 - val_loss: 0.5639 - val_accuracy: 0.8676\n",
            "Epoch 20/50\n",
            "3/3 [==============================] - 0s 148ms/step - loss: 0.0273 - accuracy: 0.9955 - val_loss: 0.5943 - val_accuracy: 0.8591\n",
            "Epoch 21/50\n",
            "3/3 [==============================] - 0s 157ms/step - loss: 0.0212 - accuracy: 0.9966 - val_loss: 0.5942 - val_accuracy: 0.8642\n",
            "Epoch 22/50\n",
            "3/3 [==============================] - 0s 116ms/step - loss: 0.0163 - accuracy: 0.9977 - val_loss: 0.6100 - val_accuracy: 0.8676\n",
            "Epoch 23/50\n",
            "3/3 [==============================] - ETA: 0s - loss: 0.0130 - accuracy: 0.9979Restoring model weights from the end of the best epoch: 13.\n",
            "3/3 [==============================] - 0s 111ms/step - loss: 0.0130 - accuracy: 0.9979 - val_loss: 0.6264 - val_accuracy: 0.8693\n",
            "Epoch 23: early stopping\n",
            "46/46 [==============================] - 0s 3ms/step\n",
            "Epoch 1/50\n",
            "3/3 [==============================] - 4s 262ms/step - loss: 1.5595 - accuracy: 0.0259 - val_loss: 1.5709 - val_accuracy: 0.0306\n",
            "Epoch 2/50\n",
            "3/3 [==============================] - 0s 150ms/step - loss: 1.5321 - accuracy: 0.0259 - val_loss: 1.5445 - val_accuracy: 0.0306\n",
            "Epoch 3/50\n",
            "3/3 [==============================] - 0s 139ms/step - loss: 1.5079 - accuracy: 0.0259 - val_loss: 1.5213 - val_accuracy: 0.0306\n",
            "Epoch 4/50\n",
            "3/3 [==============================] - 0s 99ms/step - loss: 1.4868 - accuracy: 0.0259 - val_loss: 1.5010 - val_accuracy: 0.0306\n",
            "Epoch 5/50\n",
            "3/3 [==============================] - 0s 163ms/step - loss: 1.4682 - accuracy: 0.0259 - val_loss: 1.4830 - val_accuracy: 0.0306\n",
            "Epoch 6/50\n",
            "3/3 [==============================] - 0s 135ms/step - loss: 1.4516 - accuracy: 0.0259 - val_loss: 1.4669 - val_accuracy: 0.0306\n",
            "Epoch 7/50\n",
            "3/3 [==============================] - 0s 150ms/step - loss: 1.4367 - accuracy: 0.0259 - val_loss: 1.4524 - val_accuracy: 0.0306\n",
            "Epoch 8/50\n",
            "3/3 [==============================] - 0s 141ms/step - loss: 1.4232 - accuracy: 0.0259 - val_loss: 1.4394 - val_accuracy: 0.0306\n",
            "Epoch 9/50\n",
            "3/3 [==============================] - 0s 132ms/step - loss: 1.4109 - accuracy: 0.0259 - val_loss: 1.4274 - val_accuracy: 0.0306\n",
            "Epoch 10/50\n",
            "3/3 [==============================] - 0s 144ms/step - loss: 1.3997 - accuracy: 0.0259 - val_loss: 1.4165 - val_accuracy: 0.0306\n",
            "Epoch 11/50\n",
            "3/3 [==============================] - 0s 104ms/step - loss: 1.3893 - accuracy: 0.0259 - val_loss: 1.4063 - val_accuracy: 0.0306\n",
            "Epoch 12/50\n",
            "3/3 [==============================] - 0s 139ms/step - loss: 1.3796 - accuracy: 0.0259 - val_loss: 1.3969 - val_accuracy: 0.0306\n",
            "Epoch 13/50\n",
            "3/3 [==============================] - 0s 142ms/step - loss: 1.3704 - accuracy: 0.0259 - val_loss: 1.3882 - val_accuracy: 0.4109\n",
            "Epoch 14/50\n",
            "3/3 [==============================] - 0s 91ms/step - loss: 1.3618 - accuracy: 0.4340 - val_loss: 1.3799 - val_accuracy: 0.4109\n",
            "Epoch 15/50\n",
            "3/3 [==============================] - 0s 149ms/step - loss: 1.3537 - accuracy: 0.4340 - val_loss: 1.3722 - val_accuracy: 0.4109\n",
            "Epoch 16/50\n",
            "3/3 [==============================] - 0s 139ms/step - loss: 1.3459 - accuracy: 0.4340 - val_loss: 1.3649 - val_accuracy: 0.4109\n",
            "Epoch 17/50\n",
            "3/3 [==============================] - 0s 136ms/step - loss: 1.3385 - accuracy: 0.4340 - val_loss: 1.3579 - val_accuracy: 0.4109\n",
            "Epoch 18/50\n",
            "3/3 [==============================] - 0s 101ms/step - loss: 1.3314 - accuracy: 0.4340 - val_loss: 1.3513 - val_accuracy: 0.4109\n",
            "Epoch 19/50\n",
            "3/3 [==============================] - 0s 93ms/step - loss: 1.3246 - accuracy: 0.4340 - val_loss: 1.3450 - val_accuracy: 0.4109\n",
            "Epoch 20/50\n",
            "3/3 [==============================] - 0s 135ms/step - loss: 1.3180 - accuracy: 0.4340 - val_loss: 1.3389 - val_accuracy: 0.4109\n",
            "Epoch 21/50\n",
            "3/3 [==============================] - 0s 141ms/step - loss: 1.3117 - accuracy: 0.4340 - val_loss: 1.3332 - val_accuracy: 0.4109\n",
            "Epoch 22/50\n",
            "3/3 [==============================] - 1s 211ms/step - loss: 1.3055 - accuracy: 0.4340 - val_loss: 1.3277 - val_accuracy: 0.4109\n",
            "Epoch 23/50\n",
            "3/3 [==============================] - 1s 217ms/step - loss: 1.2997 - accuracy: 0.4340 - val_loss: 1.3224 - val_accuracy: 0.4109\n",
            "Epoch 24/50\n",
            "3/3 [==============================] - 1s 223ms/step - loss: 1.2940 - accuracy: 0.4340 - val_loss: 1.3173 - val_accuracy: 0.4109\n",
            "Epoch 25/50\n",
            "3/3 [==============================] - 1s 208ms/step - loss: 1.2885 - accuracy: 0.4340 - val_loss: 1.3124 - val_accuracy: 0.4109\n",
            "Epoch 26/50\n",
            "3/3 [==============================] - 1s 240ms/step - loss: 1.2833 - accuracy: 0.4340 - val_loss: 1.3077 - val_accuracy: 0.4109\n",
            "Epoch 27/50\n",
            "3/3 [==============================] - 0s 71ms/step - loss: 1.2781 - accuracy: 0.4340 - val_loss: 1.3032 - val_accuracy: 0.4109\n",
            "Epoch 28/50\n",
            "3/3 [==============================] - 1s 160ms/step - loss: 1.2732 - accuracy: 0.4340 - val_loss: 1.2989 - val_accuracy: 0.4109\n",
            "Epoch 29/50\n",
            "3/3 [==============================] - 0s 105ms/step - loss: 1.2684 - accuracy: 0.4340 - val_loss: 1.2947 - val_accuracy: 0.4109\n",
            "Epoch 30/50\n",
            "3/3 [==============================] - 0s 154ms/step - loss: 1.2638 - accuracy: 0.4340 - val_loss: 1.2907 - val_accuracy: 0.4109\n",
            "Epoch 31/50\n",
            "3/3 [==============================] - 0s 62ms/step - loss: 1.2594 - accuracy: 0.4340 - val_loss: 1.2868 - val_accuracy: 0.4109\n",
            "Epoch 32/50\n",
            "3/3 [==============================] - 0s 149ms/step - loss: 1.2551 - accuracy: 0.4340 - val_loss: 1.2830 - val_accuracy: 0.4109\n",
            "Epoch 33/50\n",
            "3/3 [==============================] - 0s 130ms/step - loss: 1.2510 - accuracy: 0.4340 - val_loss: 1.2794 - val_accuracy: 0.4109\n",
            "Epoch 34/50\n",
            "3/3 [==============================] - 0s 131ms/step - loss: 1.2470 - accuracy: 0.4340 - val_loss: 1.2760 - val_accuracy: 0.4109\n",
            "Epoch 35/50\n",
            "3/3 [==============================] - 0s 98ms/step - loss: 1.2431 - accuracy: 0.4340 - val_loss: 1.2727 - val_accuracy: 0.4109\n",
            "Epoch 36/50\n",
            "3/3 [==============================] - 0s 137ms/step - loss: 1.2394 - accuracy: 0.4340 - val_loss: 1.2694 - val_accuracy: 0.4109\n",
            "Epoch 37/50\n",
            "3/3 [==============================] - 0s 94ms/step - loss: 1.2358 - accuracy: 0.4340 - val_loss: 1.2663 - val_accuracy: 0.4109\n",
            "Epoch 38/50\n",
            "3/3 [==============================] - 0s 136ms/step - loss: 1.2323 - accuracy: 0.4340 - val_loss: 1.2632 - val_accuracy: 0.4109\n",
            "Epoch 39/50\n",
            "3/3 [==============================] - 0s 137ms/step - loss: 1.2290 - accuracy: 0.4340 - val_loss: 1.2603 - val_accuracy: 0.4109\n",
            "Epoch 40/50\n",
            "3/3 [==============================] - 0s 138ms/step - loss: 1.2258 - accuracy: 0.4340 - val_loss: 1.2575 - val_accuracy: 0.4109\n",
            "Epoch 41/50\n",
            "3/3 [==============================] - 0s 102ms/step - loss: 1.2226 - accuracy: 0.4340 - val_loss: 1.2548 - val_accuracy: 0.4109\n",
            "Epoch 42/50\n",
            "3/3 [==============================] - 0s 90ms/step - loss: 1.2196 - accuracy: 0.4340 - val_loss: 1.2522 - val_accuracy: 0.4109\n",
            "Epoch 43/50\n",
            "3/3 [==============================] - 0s 100ms/step - loss: 1.2167 - accuracy: 0.4340 - val_loss: 1.2497 - val_accuracy: 0.4109\n",
            "Epoch 44/50\n",
            "3/3 [==============================] - 0s 146ms/step - loss: 1.2138 - accuracy: 0.4340 - val_loss: 1.2472 - val_accuracy: 0.4109\n",
            "Epoch 45/50\n",
            "3/3 [==============================] - 0s 130ms/step - loss: 1.2111 - accuracy: 0.4340 - val_loss: 1.2449 - val_accuracy: 0.4109\n",
            "Epoch 46/50\n",
            "3/3 [==============================] - 0s 149ms/step - loss: 1.2085 - accuracy: 0.4340 - val_loss: 1.2426 - val_accuracy: 0.4109\n",
            "Epoch 47/50\n",
            "3/3 [==============================] - 0s 143ms/step - loss: 1.2059 - accuracy: 0.4340 - val_loss: 1.2403 - val_accuracy: 0.4109\n",
            "Epoch 48/50\n",
            "3/3 [==============================] - 0s 98ms/step - loss: 1.2035 - accuracy: 0.4340 - val_loss: 1.2382 - val_accuracy: 0.4109\n",
            "Epoch 49/50\n",
            "3/3 [==============================] - 0s 135ms/step - loss: 1.2011 - accuracy: 0.4340 - val_loss: 1.2361 - val_accuracy: 0.4109\n",
            "Epoch 50/50\n",
            "3/3 [==============================] - 0s 65ms/step - loss: 1.1988 - accuracy: 0.4340 - val_loss: 1.2340 - val_accuracy: 0.4109\n",
            "46/46 [==============================] - 0s 2ms/step\n"
          ]
        }
      ]
    },
    {
      "cell_type": "code",
      "source": [
        "# iterate through rows\n",
        "for i in range(0,len(predict_a)):\n",
        "# iterate through columns\n",
        "    for j in range(0,len(predict_a[0])):\n",
        "        predict_a[i][j] = predict_a[i][j] + predict_b[i][j] + predict_c[i][j]"
      ],
      "metadata": {
        "id": "nv2Pfp_ZKRc3"
      },
      "execution_count": null,
      "outputs": []
    },
    {
      "cell_type": "code",
      "source": [
        "ensemble_prd=[]\n",
        "for j in range(0,len(predict_a)):\n",
        "  for i in range(0,len(predict_a[j])):\n",
        "    if predict_a[j][i] == max(predict_a[j]):\n",
        "      ensemble_prd.append(i)\n",
        "\n",
        "#printing the results\n",
        "print(classification_report(y_testT1, ensemble_prd, target_names=['treatment','chronic','cancer','allergy']))\n",
        "print('Matthews Corelation Score (MCC) : ',matthews_corrcoef(y_testT1, ensemble_prd))"
      ],
      "metadata": {
        "colab": {
          "base_uri": "https://localhost:8080/"
        },
        "id": "YESuoF3DSbgJ",
        "outputId": "39332774-b999-4d9c-b27c-5c0c6a988a69"
      },
      "execution_count": null,
      "outputs": [
        {
          "output_type": "stream",
          "name": "stdout",
          "text": [
            "              precision    recall  f1-score   support\n",
            "\n",
            "   treatment       0.80      0.90      0.85       538\n",
            "     chronic       0.88      0.91      0.89       640\n",
            "      cancer       0.85      0.69      0.76       256\n",
            "     allergy       0.00      0.00      0.00        38\n",
            "\n",
            "    accuracy                           0.84      1472\n",
            "   macro avg       0.63      0.62      0.63      1472\n",
            "weighted avg       0.82      0.84      0.83      1472\n",
            "\n",
            "Matthews Corelation Score (MCC) :  0.7547753960045053\n"
          ]
        }
      ]
    },
    {
      "cell_type": "markdown",
      "source": [
        "#####T2"
      ],
      "metadata": {
        "id": "TkKv-CIyFTSR"
      }
    },
    {
      "cell_type": "code",
      "source": [
        "##Model 1\n",
        "model_lstm = create_model_lstm(vocabulary_sizeT2)\n",
        "model_lstm.compile(loss='categorical_crossentropy', optimizer='adam', metrics=['accuracy'])\n",
        "early_stopping = EarlyStopping(monitor='val_loss', min_delta=0.0001, patience=10, verbose=1, restore_best_weights=True)\n",
        "callbacks_list = [early_stopping]\n",
        "history = model_lstm.fit(train_dataT2, tf.keras.utils.to_categorical(y_trainT2, num_classes=4, dtype='float32'), validation_split=0.1, epochs = 50, callbacks=callbacks_list, batch_size=2048)\n",
        "#Evaluation\n",
        "predict_a = model_lstm.predict(test_dataT2)\n",
        "\n",
        "##Model 2\n",
        "model_cnn = create_model_cnn(vocabulary_sizeT2)\n",
        "model_cnn.compile(loss='categorical_crossentropy', optimizer='adam', metrics=['accuracy'])\n",
        "early_stopping = EarlyStopping(monitor='val_loss', min_delta=0.0001, patience=10, verbose=1, restore_best_weights=True)\n",
        "callbacks_list = [early_stopping]\n",
        "history = model_cnn.fit(train_dataT2, tf.keras.utils.to_categorical(y_trainT2, num_classes=4, dtype='float32'), validation_split=0.1, epochs = 50, callbacks=callbacks_list, batch_size=2048)\n",
        "#Evaluation\n",
        "predict_b = model_cnn.predict(test_dataT2)\n",
        "\n",
        "##Model 3\n",
        "model_pnn = create_model_pnn(vocabulary_sizeT2)\n",
        "model_pnn.compile(loss='categorical_crossentropy', optimizer='adam', metrics=['accuracy'])\n",
        "early_stopping = EarlyStopping(monitor='val_loss', min_delta=0.0001, patience=10, verbose=1, restore_best_weights=True)\n",
        "callbacks_list = [early_stopping]\n",
        "history = model_pnn.fit(train_dataT2, tf.keras.utils.to_categorical(y_trainT1, num_classes=4, dtype='float32'), validation_split=0.1, epochs = 50, callbacks=callbacks_list, batch_size=2048)\n",
        "#Evaluation\n",
        "predict_c = model_pnn.predict(test_dataT2)\n"
      ],
      "metadata": {
        "id": "AOrCbMyWFVCK",
        "colab": {
          "base_uri": "https://localhost:8080/"
        },
        "outputId": "d553275f-d890-407a-f7fc-ce6de156b37c"
      },
      "execution_count": null,
      "outputs": [
        {
          "output_type": "stream",
          "name": "stdout",
          "text": [
            "Epoch 1/50\n",
            "3/3 [==============================] - 4s 387ms/step - loss: 1.3584 - accuracy: 0.3602 - val_loss: 1.2889 - val_accuracy: 0.5068\n",
            "Epoch 2/50\n",
            "3/3 [==============================] - 1s 216ms/step - loss: 1.2484 - accuracy: 0.5102 - val_loss: 1.1956 - val_accuracy: 0.5106\n",
            "Epoch 3/50\n",
            "3/3 [==============================] - 1s 211ms/step - loss: 1.1475 - accuracy: 0.5195 - val_loss: 1.1798 - val_accuracy: 0.5106\n",
            "Epoch 4/50\n",
            "3/3 [==============================] - 1s 213ms/step - loss: 1.1261 - accuracy: 0.5180 - val_loss: 1.1302 - val_accuracy: 0.5377\n",
            "Epoch 5/50\n",
            "3/3 [==============================] - 1s 209ms/step - loss: 1.0692 - accuracy: 0.5700 - val_loss: 1.0815 - val_accuracy: 0.5687\n",
            "Epoch 6/50\n",
            "3/3 [==============================] - 1s 216ms/step - loss: 1.0346 - accuracy: 0.6152 - val_loss: 1.0481 - val_accuracy: 0.5977\n",
            "Epoch 7/50\n",
            "3/3 [==============================] - 1s 278ms/step - loss: 1.0018 - accuracy: 0.6368 - val_loss: 1.0004 - val_accuracy: 0.6209\n",
            "Epoch 8/50\n",
            "3/3 [==============================] - 1s 431ms/step - loss: 0.9356 - accuracy: 0.6568 - val_loss: 0.9496 - val_accuracy: 0.6344\n",
            "Epoch 9/50\n",
            "3/3 [==============================] - 1s 281ms/step - loss: 0.8598 - accuracy: 0.6766 - val_loss: 0.9001 - val_accuracy: 0.6576\n",
            "Epoch 10/50\n",
            "3/3 [==============================] - 1s 407ms/step - loss: 0.7763 - accuracy: 0.7076 - val_loss: 0.8274 - val_accuracy: 0.6750\n",
            "Epoch 11/50\n",
            "3/3 [==============================] - 1s 246ms/step - loss: 0.6759 - accuracy: 0.7422 - val_loss: 0.7485 - val_accuracy: 0.6944\n",
            "Epoch 12/50\n",
            "3/3 [==============================] - 1s 232ms/step - loss: 0.5751 - accuracy: 0.7762 - val_loss: 0.6880 - val_accuracy: 0.7099\n",
            "Epoch 13/50\n",
            "3/3 [==============================] - 1s 407ms/step - loss: 0.4862 - accuracy: 0.8216 - val_loss: 0.6453 - val_accuracy: 0.7447\n",
            "Epoch 14/50\n",
            "3/3 [==============================] - 1s 279ms/step - loss: 0.4020 - accuracy: 0.8685 - val_loss: 0.6066 - val_accuracy: 0.7718\n",
            "Epoch 15/50\n",
            "3/3 [==============================] - 1s 180ms/step - loss: 0.3215 - accuracy: 0.9034 - val_loss: 0.5779 - val_accuracy: 0.7930\n",
            "Epoch 16/50\n",
            "3/3 [==============================] - 1s 181ms/step - loss: 0.2549 - accuracy: 0.9249 - val_loss: 0.5729 - val_accuracy: 0.7950\n",
            "Epoch 17/50\n",
            "3/3 [==============================] - 1s 199ms/step - loss: 0.2059 - accuracy: 0.9337 - val_loss: 0.6008 - val_accuracy: 0.8201\n",
            "Epoch 18/50\n",
            "3/3 [==============================] - 1s 229ms/step - loss: 0.1694 - accuracy: 0.9462 - val_loss: 0.6008 - val_accuracy: 0.8298\n",
            "Epoch 19/50\n",
            "3/3 [==============================] - 1s 294ms/step - loss: 0.1330 - accuracy: 0.9645 - val_loss: 0.6454 - val_accuracy: 0.8317\n",
            "Epoch 20/50\n",
            "3/3 [==============================] - 1s 400ms/step - loss: 0.1032 - accuracy: 0.9740 - val_loss: 0.6543 - val_accuracy: 0.8395\n",
            "Epoch 21/50\n",
            "3/3 [==============================] - 1s 215ms/step - loss: 0.0807 - accuracy: 0.9806 - val_loss: 0.6834 - val_accuracy: 0.8395\n",
            "Epoch 22/50\n",
            "3/3 [==============================] - 1s 234ms/step - loss: 0.0645 - accuracy: 0.9860 - val_loss: 0.7210 - val_accuracy: 0.8395\n",
            "Epoch 23/50\n",
            "3/3 [==============================] - 1s 257ms/step - loss: 0.0524 - accuracy: 0.9884 - val_loss: 0.7581 - val_accuracy: 0.8395\n",
            "Epoch 24/50\n",
            "3/3 [==============================] - 1s 353ms/step - loss: 0.0430 - accuracy: 0.9912 - val_loss: 0.7921 - val_accuracy: 0.8356\n",
            "Epoch 25/50\n",
            "3/3 [==============================] - 0s 144ms/step - loss: 0.0364 - accuracy: 0.9918 - val_loss: 0.8284 - val_accuracy: 0.8298\n",
            "Epoch 26/50\n",
            "3/3 [==============================] - ETA: 0s - loss: 0.0309 - accuracy: 0.9931Restoring model weights from the end of the best epoch: 16.\n",
            "3/3 [==============================] - 0s 138ms/step - loss: 0.0309 - accuracy: 0.9931 - val_loss: 0.8635 - val_accuracy: 0.8356\n",
            "Epoch 26: early stopping\n",
            "41/41 [==============================] - 1s 4ms/step\n",
            "Epoch 1/50\n",
            "3/3 [==============================] - 3s 1s/step - loss: 1.2807 - accuracy: 0.3667 - val_loss: 1.2203 - val_accuracy: 0.4836\n",
            "Epoch 2/50\n",
            "3/3 [==============================] - 1s 240ms/step - loss: 1.1401 - accuracy: 0.4911 - val_loss: 1.1327 - val_accuracy: 0.4816\n",
            "Epoch 3/50\n",
            "3/3 [==============================] - 1s 151ms/step - loss: 1.1194 - accuracy: 0.5003 - val_loss: 1.1029 - val_accuracy: 0.5087\n",
            "Epoch 4/50\n",
            "3/3 [==============================] - 0s 125ms/step - loss: 1.0607 - accuracy: 0.5784 - val_loss: 1.1105 - val_accuracy: 0.5474\n",
            "Epoch 5/50\n",
            "3/3 [==============================] - 0s 152ms/step - loss: 1.0204 - accuracy: 0.6191 - val_loss: 1.0387 - val_accuracy: 0.5783\n",
            "Epoch 6/50\n",
            "3/3 [==============================] - 1s 196ms/step - loss: 0.9419 - accuracy: 0.6436 - val_loss: 0.9532 - val_accuracy: 0.6151\n",
            "Epoch 7/50\n",
            "3/3 [==============================] - 1s 420ms/step - loss: 0.8376 - accuracy: 0.6852 - val_loss: 0.8647 - val_accuracy: 0.6576\n",
            "Epoch 8/50\n",
            "3/3 [==============================] - 1s 374ms/step - loss: 0.7172 - accuracy: 0.7349 - val_loss: 0.7629 - val_accuracy: 0.6944\n",
            "Epoch 9/50\n",
            "3/3 [==============================] - 1s 399ms/step - loss: 0.5906 - accuracy: 0.7919 - val_loss: 0.6736 - val_accuracy: 0.7544\n",
            "Epoch 10/50\n",
            "3/3 [==============================] - 1s 439ms/step - loss: 0.4737 - accuracy: 0.8513 - val_loss: 0.6051 - val_accuracy: 0.7795\n",
            "Epoch 11/50\n",
            "3/3 [==============================] - 1s 328ms/step - loss: 0.3703 - accuracy: 0.8847 - val_loss: 0.5423 - val_accuracy: 0.8066\n",
            "Epoch 12/50\n",
            "3/3 [==============================] - 1s 334ms/step - loss: 0.2881 - accuracy: 0.9141 - val_loss: 0.5196 - val_accuracy: 0.8298\n",
            "Epoch 13/50\n",
            "3/3 [==============================] - 1s 341ms/step - loss: 0.2236 - accuracy: 0.9329 - val_loss: 0.4881 - val_accuracy: 0.8317\n",
            "Epoch 14/50\n",
            "3/3 [==============================] - 1s 321ms/step - loss: 0.1703 - accuracy: 0.9518 - val_loss: 0.4873 - val_accuracy: 0.8588\n",
            "Epoch 15/50\n",
            "3/3 [==============================] - 1s 155ms/step - loss: 0.1294 - accuracy: 0.9729 - val_loss: 0.4862 - val_accuracy: 0.8588\n",
            "Epoch 16/50\n",
            "3/3 [==============================] - 1s 159ms/step - loss: 0.0988 - accuracy: 0.9787 - val_loss: 0.4900 - val_accuracy: 0.8646\n",
            "Epoch 17/50\n",
            "3/3 [==============================] - 0s 151ms/step - loss: 0.0749 - accuracy: 0.9856 - val_loss: 0.5041 - val_accuracy: 0.8665\n",
            "Epoch 18/50\n",
            "3/3 [==============================] - 1s 155ms/step - loss: 0.0573 - accuracy: 0.9888 - val_loss: 0.5061 - val_accuracy: 0.8704\n",
            "Epoch 19/50\n",
            "3/3 [==============================] - 1s 250ms/step - loss: 0.0451 - accuracy: 0.9910 - val_loss: 0.5287 - val_accuracy: 0.8704\n",
            "Epoch 20/50\n",
            "3/3 [==============================] - 1s 240ms/step - loss: 0.0371 - accuracy: 0.9923 - val_loss: 0.5438 - val_accuracy: 0.8801\n",
            "Epoch 21/50\n",
            "3/3 [==============================] - 1s 244ms/step - loss: 0.0285 - accuracy: 0.9938 - val_loss: 0.5499 - val_accuracy: 0.8685\n",
            "Epoch 22/50\n",
            "3/3 [==============================] - 0s 80ms/step - loss: 0.0233 - accuracy: 0.9951 - val_loss: 0.5576 - val_accuracy: 0.8820\n",
            "Epoch 23/50\n",
            "3/3 [==============================] - 1s 182ms/step - loss: 0.0177 - accuracy: 0.9961 - val_loss: 0.5732 - val_accuracy: 0.8801\n",
            "Epoch 24/50\n",
            "3/3 [==============================] - 0s 150ms/step - loss: 0.0146 - accuracy: 0.9970 - val_loss: 0.5760 - val_accuracy: 0.8685\n",
            "Epoch 25/50\n",
            "3/3 [==============================] - ETA: 0s - loss: 0.0132 - accuracy: 0.9966Restoring model weights from the end of the best epoch: 15.\n",
            "3/3 [==============================] - 1s 248ms/step - loss: 0.0132 - accuracy: 0.9966 - val_loss: 0.6001 - val_accuracy: 0.8685\n",
            "Epoch 25: early stopping\n",
            "41/41 [==============================] - 1s 8ms/step\n",
            "Epoch 1/50\n",
            "3/3 [==============================] - 5s 404ms/step - loss: 1.4497 - accuracy: 0.3764 - val_loss: 1.4072 - val_accuracy: 0.3907\n",
            "Epoch 2/50\n",
            "3/3 [==============================] - 1s 231ms/step - loss: 1.4209 - accuracy: 0.3764 - val_loss: 1.3816 - val_accuracy: 0.3907\n",
            "Epoch 3/50\n",
            "3/3 [==============================] - 1s 233ms/step - loss: 1.3945 - accuracy: 0.3764 - val_loss: 1.3592 - val_accuracy: 0.3907\n",
            "Epoch 4/50\n",
            "3/3 [==============================] - 0s 225ms/step - loss: 1.3717 - accuracy: 0.3764 - val_loss: 1.3396 - val_accuracy: 0.3907\n",
            "Epoch 5/50\n",
            "3/3 [==============================] - 1s 213ms/step - loss: 1.3520 - accuracy: 0.3764 - val_loss: 1.3225 - val_accuracy: 0.3907\n",
            "Epoch 6/50\n",
            "3/3 [==============================] - 1s 235ms/step - loss: 1.3344 - accuracy: 0.3764 - val_loss: 1.3076 - val_accuracy: 0.3907\n",
            "Epoch 7/50\n",
            "3/3 [==============================] - 1s 186ms/step - loss: 1.3194 - accuracy: 0.3764 - val_loss: 1.2947 - val_accuracy: 0.3907\n",
            "Epoch 8/50\n",
            "3/3 [==============================] - 0s 145ms/step - loss: 1.3061 - accuracy: 0.3764 - val_loss: 1.2835 - val_accuracy: 0.3907\n",
            "Epoch 9/50\n",
            "3/3 [==============================] - 0s 99ms/step - loss: 1.2944 - accuracy: 0.3764 - val_loss: 1.2736 - val_accuracy: 0.3907\n",
            "Epoch 10/50\n",
            "3/3 [==============================] - 0s 139ms/step - loss: 1.2843 - accuracy: 0.3764 - val_loss: 1.2649 - val_accuracy: 0.3907\n",
            "Epoch 11/50\n",
            "3/3 [==============================] - 0s 101ms/step - loss: 1.2756 - accuracy: 0.3764 - val_loss: 1.2570 - val_accuracy: 0.3907\n",
            "Epoch 12/50\n",
            "3/3 [==============================] - 0s 135ms/step - loss: 1.2675 - accuracy: 0.3764 - val_loss: 1.2500 - val_accuracy: 0.3907\n",
            "Epoch 13/50\n",
            "3/3 [==============================] - 0s 147ms/step - loss: 1.2603 - accuracy: 0.3764 - val_loss: 1.2435 - val_accuracy: 0.3907\n",
            "Epoch 14/50\n",
            "3/3 [==============================] - 0s 144ms/step - loss: 1.2537 - accuracy: 0.3764 - val_loss: 1.2374 - val_accuracy: 0.3907\n",
            "Epoch 15/50\n",
            "3/3 [==============================] - 1s 218ms/step - loss: 1.2476 - accuracy: 0.3764 - val_loss: 1.2318 - val_accuracy: 0.3907\n",
            "Epoch 16/50\n",
            "3/3 [==============================] - 0s 225ms/step - loss: 1.2421 - accuracy: 0.3764 - val_loss: 1.2264 - val_accuracy: 0.3907\n",
            "Epoch 17/50\n",
            "3/3 [==============================] - 1s 277ms/step - loss: 1.2367 - accuracy: 0.3764 - val_loss: 1.2213 - val_accuracy: 0.3907\n",
            "Epoch 18/50\n",
            "3/3 [==============================] - 1s 438ms/step - loss: 1.2316 - accuracy: 0.3764 - val_loss: 1.2163 - val_accuracy: 0.3907\n",
            "Epoch 19/50\n",
            "3/3 [==============================] - 1s 378ms/step - loss: 1.2269 - accuracy: 0.3764 - val_loss: 1.2116 - val_accuracy: 0.3907\n",
            "Epoch 20/50\n",
            "3/3 [==============================] - 1s 229ms/step - loss: 1.2223 - accuracy: 0.3764 - val_loss: 1.2069 - val_accuracy: 0.3907\n",
            "Epoch 21/50\n",
            "3/3 [==============================] - 1s 200ms/step - loss: 1.2179 - accuracy: 0.3764 - val_loss: 1.2025 - val_accuracy: 0.3907\n",
            "Epoch 22/50\n",
            "3/3 [==============================] - 1s 250ms/step - loss: 1.2137 - accuracy: 0.3764 - val_loss: 1.1982 - val_accuracy: 0.3907\n",
            "Epoch 23/50\n",
            "3/3 [==============================] - 1s 225ms/step - loss: 1.2097 - accuracy: 0.3764 - val_loss: 1.1941 - val_accuracy: 0.3907\n",
            "Epoch 24/50\n",
            "3/3 [==============================] - 1s 245ms/step - loss: 1.2059 - accuracy: 0.3764 - val_loss: 1.1902 - val_accuracy: 0.3907\n",
            "Epoch 25/50\n",
            "3/3 [==============================] - 1s 224ms/step - loss: 1.2022 - accuracy: 0.3764 - val_loss: 1.1864 - val_accuracy: 0.3907\n",
            "Epoch 26/50\n",
            "3/3 [==============================] - 1s 246ms/step - loss: 1.1988 - accuracy: 0.3764 - val_loss: 1.1828 - val_accuracy: 0.3907\n",
            "Epoch 27/50\n",
            "3/3 [==============================] - 1s 161ms/step - loss: 1.1955 - accuracy: 0.3764 - val_loss: 1.1794 - val_accuracy: 0.3907\n",
            "Epoch 28/50\n",
            "3/3 [==============================] - 1s 175ms/step - loss: 1.1923 - accuracy: 0.3764 - val_loss: 1.1761 - val_accuracy: 0.3907\n",
            "Epoch 29/50\n",
            "3/3 [==============================] - 0s 208ms/step - loss: 1.1893 - accuracy: 0.3764 - val_loss: 1.1729 - val_accuracy: 0.3907\n",
            "Epoch 30/50\n",
            "3/3 [==============================] - 1s 151ms/step - loss: 1.1864 - accuracy: 0.3764 - val_loss: 1.1699 - val_accuracy: 0.3907\n",
            "Epoch 31/50\n",
            "3/3 [==============================] - 0s 111ms/step - loss: 1.1837 - accuracy: 0.3764 - val_loss: 1.1671 - val_accuracy: 0.3907\n",
            "Epoch 32/50\n",
            "3/3 [==============================] - 0s 143ms/step - loss: 1.1811 - accuracy: 0.3764 - val_loss: 1.1644 - val_accuracy: 0.3907\n",
            "Epoch 33/50\n",
            "3/3 [==============================] - 0s 139ms/step - loss: 1.1786 - accuracy: 0.3764 - val_loss: 1.1617 - val_accuracy: 0.3907\n",
            "Epoch 34/50\n",
            "3/3 [==============================] - 0s 72ms/step - loss: 1.1762 - accuracy: 0.3764 - val_loss: 1.1592 - val_accuracy: 0.3907\n",
            "Epoch 35/50\n",
            "3/3 [==============================] - 1s 176ms/step - loss: 1.1739 - accuracy: 0.3764 - val_loss: 1.1568 - val_accuracy: 0.3907\n",
            "Epoch 36/50\n",
            "3/3 [==============================] - 1s 231ms/step - loss: 1.1717 - accuracy: 0.3764 - val_loss: 1.1545 - val_accuracy: 0.3907\n",
            "Epoch 37/50\n",
            "3/3 [==============================] - 1s 298ms/step - loss: 1.1696 - accuracy: 0.3764 - val_loss: 1.1523 - val_accuracy: 0.3907\n",
            "Epoch 38/50\n",
            "3/3 [==============================] - 1s 261ms/step - loss: 1.1676 - accuracy: 0.3764 - val_loss: 1.1502 - val_accuracy: 0.3907\n",
            "Epoch 39/50\n",
            "3/3 [==============================] - 1s 329ms/step - loss: 1.1657 - accuracy: 0.3764 - val_loss: 1.1482 - val_accuracy: 0.3907\n",
            "Epoch 40/50\n",
            "3/3 [==============================] - 1s 421ms/step - loss: 1.1638 - accuracy: 0.3764 - val_loss: 1.1462 - val_accuracy: 0.3907\n",
            "Epoch 41/50\n",
            "3/3 [==============================] - 1s 306ms/step - loss: 1.1621 - accuracy: 0.3764 - val_loss: 1.1443 - val_accuracy: 0.3907\n",
            "Epoch 42/50\n",
            "3/3 [==============================] - 1s 137ms/step - loss: 1.1604 - accuracy: 0.3764 - val_loss: 1.1425 - val_accuracy: 0.3907\n",
            "Epoch 43/50\n",
            "3/3 [==============================] - 0s 144ms/step - loss: 1.1588 - accuracy: 0.3764 - val_loss: 1.1407 - val_accuracy: 0.3907\n",
            "Epoch 44/50\n",
            "3/3 [==============================] - 0s 145ms/step - loss: 1.1573 - accuracy: 0.3764 - val_loss: 1.1390 - val_accuracy: 0.3907\n",
            "Epoch 45/50\n",
            "3/3 [==============================] - 0s 93ms/step - loss: 1.1559 - accuracy: 0.3764 - val_loss: 1.1374 - val_accuracy: 0.3907\n",
            "Epoch 46/50\n",
            "3/3 [==============================] - 1s 236ms/step - loss: 1.1545 - accuracy: 0.3764 - val_loss: 1.1358 - val_accuracy: 0.3907\n",
            "Epoch 47/50\n",
            "3/3 [==============================] - 0s 67ms/step - loss: 1.1532 - accuracy: 0.4050 - val_loss: 1.1344 - val_accuracy: 0.4313\n",
            "Epoch 48/50\n",
            "3/3 [==============================] - 0s 152ms/step - loss: 1.1519 - accuracy: 0.4336 - val_loss: 1.1329 - val_accuracy: 0.4313\n",
            "Epoch 49/50\n",
            "3/3 [==============================] - 1s 225ms/step - loss: 1.1507 - accuracy: 0.4336 - val_loss: 1.1316 - val_accuracy: 0.4313\n",
            "Epoch 50/50\n",
            "3/3 [==============================] - 0s 155ms/step - loss: 1.1495 - accuracy: 0.4336 - val_loss: 1.1303 - val_accuracy: 0.4313\n",
            "41/41 [==============================] - 0s 2ms/step\n"
          ]
        }
      ]
    },
    {
      "cell_type": "code",
      "source": [
        "# iterate through rows\n",
        "for i in range(0,len(predict_a)):\n",
        "# iterate through columns\n",
        "    for j in range(0,len(predict_a[0])):\n",
        "        predict_a[i][j] = predict_a[i][j] + predict_b[i][j] + predict_c[i][j]"
      ],
      "metadata": {
        "id": "f_Eu2cIHTyKw"
      },
      "execution_count": null,
      "outputs": []
    },
    {
      "cell_type": "code",
      "source": [
        "ensemble_prd=[]\n",
        "for j in range(0,len(predict_a)):\n",
        "  for i in range(0,len(predict_a[j])):\n",
        "    if predict_a[j][i] == max(predict_a[j]):\n",
        "      ensemble_prd.append(i)\n",
        "\n",
        "#printing the results\n",
        "print(classification_report(y_testT2, ensemble_prd, target_names=['treatment','chronic','cancer','allergy']))\n",
        "print('Matthews Corelation Score (MCC) : ',matthews_corrcoef(y_testT2, ensemble_prd))"
      ],
      "metadata": {
        "colab": {
          "base_uri": "https://localhost:8080/"
        },
        "id": "99xKQIX6TzBw",
        "outputId": "a5459329-df8b-4c49-b5d5-27c5cfeb3773"
      },
      "execution_count": null,
      "outputs": [
        {
          "output_type": "stream",
          "name": "stdout",
          "text": [
            "              precision    recall  f1-score   support\n",
            "\n",
            "   treatment       0.82      0.86      0.84       424\n",
            "     chronic       0.87      0.93      0.89       602\n",
            "      cancer       0.82      0.73      0.77       229\n",
            "     allergy       0.00      0.00      0.00        36\n",
            "\n",
            "    accuracy                           0.84      1291\n",
            "   macro avg       0.63      0.63      0.63      1291\n",
            "weighted avg       0.82      0.84      0.83      1291\n",
            "\n",
            "Matthews Corelation Score (MCC) :  0.7520397307247726\n"
          ]
        }
      ]
    },
    {
      "cell_type": "markdown",
      "source": [
        "#####T3"
      ],
      "metadata": {
        "id": "BRHforL-FVYz"
      }
    },
    {
      "cell_type": "code",
      "source": [
        "##Model 1\n",
        "model_lstm = create_model_lstm(vocabulary_sizeT3)\n",
        "model_lstm.compile(loss='categorical_crossentropy', optimizer='adam', metrics=['accuracy'])\n",
        "early_stopping = EarlyStopping(monitor='val_loss', min_delta=0.0001, patience=10, verbose=1, restore_best_weights=True)\n",
        "callbacks_list = [early_stopping]\n",
        "history = model_lstm.fit(train_dataT3, tf.keras.utils.to_categorical(y_trainT3, num_classes=4, dtype='float32'), validation_split=0.1, epochs = 50, callbacks=callbacks_list, batch_size=2048)\n",
        "#Evaluation\n",
        "predict_a = model_lstm.predict(test_dataT3)\n",
        "\n",
        "##Model 2\n",
        "model_cnn = create_model_cnn(vocabulary_sizeT3)\n",
        "model_cnn.compile(loss='categorical_crossentropy', optimizer='adam', metrics=['accuracy'])\n",
        "early_stopping = EarlyStopping(monitor='val_loss', min_delta=0.0001, patience=10, verbose=1, restore_best_weights=True)\n",
        "callbacks_list = [early_stopping]\n",
        "history = model_cnn.fit(train_dataT3, tf.keras.utils.to_categorical(y_trainT3, num_classes=4, dtype='float32'), validation_split=0.1, epochs = 50, callbacks=callbacks_list, batch_size=2048)\n",
        "#Evaluation\n",
        "predict_b = model_cnn.predict(test_dataT3)\n",
        "\n",
        "##Model 3\n",
        "model_pnn = create_model_pnn(vocabulary_sizeT3)\n",
        "model_pnn.compile(loss='categorical_crossentropy', optimizer='adam', metrics=['accuracy'])\n",
        "early_stopping = EarlyStopping(monitor='val_loss', min_delta=0.0001, patience=10, verbose=1, restore_best_weights=True)\n",
        "callbacks_list = [early_stopping]\n",
        "history = model_pnn.fit(train_dataT3, tf.keras.utils.to_categorical(y_trainT3, num_classes=4, dtype='float32'), validation_split=0.1, epochs = 50, callbacks=callbacks_list, batch_size=2048)\n",
        "#Evaluation\n",
        "predict_c = model_pnn.predict(test_dataT3)\n"
      ],
      "metadata": {
        "id": "62HxmckNFYzQ",
        "colab": {
          "base_uri": "https://localhost:8080/"
        },
        "outputId": "9f0b07e4-25b5-4121-a3dd-96d8141cb2a2"
      },
      "execution_count": null,
      "outputs": [
        {
          "output_type": "stream",
          "name": "stdout",
          "text": [
            "Epoch 1/50\n",
            "3/3 [==============================] - 7s 1s/step - loss: 1.3481 - accuracy: 0.4427 - val_loss: 1.2570 - val_accuracy: 0.4453\n",
            "Epoch 2/50\n",
            "3/3 [==============================] - 1s 218ms/step - loss: 1.2236 - accuracy: 0.4630 - val_loss: 1.1774 - val_accuracy: 0.4414\n",
            "Epoch 3/50\n",
            "3/3 [==============================] - 1s 210ms/step - loss: 1.1582 - accuracy: 0.4555 - val_loss: 1.1679 - val_accuracy: 0.4414\n",
            "Epoch 4/50\n",
            "3/3 [==============================] - 0s 82ms/step - loss: 1.1296 - accuracy: 0.4610 - val_loss: 1.1219 - val_accuracy: 0.4632\n",
            "Epoch 5/50\n",
            "3/3 [==============================] - 0s 129ms/step - loss: 1.0863 - accuracy: 0.5376 - val_loss: 1.1086 - val_accuracy: 0.5109\n",
            "Epoch 6/50\n",
            "3/3 [==============================] - 0s 140ms/step - loss: 1.0690 - accuracy: 0.5989 - val_loss: 1.0822 - val_accuracy: 0.5646\n",
            "Epoch 7/50\n",
            "3/3 [==============================] - 0s 133ms/step - loss: 1.0254 - accuracy: 0.6377 - val_loss: 1.0366 - val_accuracy: 0.5845\n",
            "Epoch 8/50\n",
            "3/3 [==============================] - 0s 132ms/step - loss: 0.9647 - accuracy: 0.6618 - val_loss: 0.9880 - val_accuracy: 0.6103\n",
            "Epoch 9/50\n",
            "3/3 [==============================] - 0s 130ms/step - loss: 0.8950 - accuracy: 0.6875 - val_loss: 0.9134 - val_accuracy: 0.6461\n",
            "Epoch 10/50\n",
            "3/3 [==============================] - 0s 132ms/step - loss: 0.7964 - accuracy: 0.7227 - val_loss: 0.8238 - val_accuracy: 0.6779\n",
            "Epoch 11/50\n",
            "3/3 [==============================] - 0s 135ms/step - loss: 0.6883 - accuracy: 0.7596 - val_loss: 0.7471 - val_accuracy: 0.7018\n",
            "Epoch 12/50\n",
            "3/3 [==============================] - 0s 126ms/step - loss: 0.5855 - accuracy: 0.7849 - val_loss: 0.6978 - val_accuracy: 0.7435\n",
            "Epoch 13/50\n",
            "3/3 [==============================] - 0s 120ms/step - loss: 0.5055 - accuracy: 0.8141 - val_loss: 0.7266 - val_accuracy: 0.7674\n",
            "Epoch 14/50\n",
            "3/3 [==============================] - 0s 127ms/step - loss: 0.4443 - accuracy: 0.8521 - val_loss: 0.6716 - val_accuracy: 0.7873\n",
            "Epoch 15/50\n",
            "3/3 [==============================] - 0s 122ms/step - loss: 0.3655 - accuracy: 0.8882 - val_loss: 0.6503 - val_accuracy: 0.7932\n",
            "Epoch 16/50\n",
            "3/3 [==============================] - 0s 122ms/step - loss: 0.3041 - accuracy: 0.9093 - val_loss: 0.6602 - val_accuracy: 0.7952\n",
            "Epoch 17/50\n",
            "3/3 [==============================] - 0s 135ms/step - loss: 0.2546 - accuracy: 0.9197 - val_loss: 0.6324 - val_accuracy: 0.8231\n",
            "Epoch 18/50\n",
            "3/3 [==============================] - 0s 122ms/step - loss: 0.2150 - accuracy: 0.9261 - val_loss: 0.6230 - val_accuracy: 0.8270\n",
            "Epoch 19/50\n",
            "3/3 [==============================] - 0s 79ms/step - loss: 0.1726 - accuracy: 0.9433 - val_loss: 0.6584 - val_accuracy: 0.8270\n",
            "Epoch 20/50\n",
            "3/3 [==============================] - 0s 127ms/step - loss: 0.1355 - accuracy: 0.9586 - val_loss: 0.6892 - val_accuracy: 0.8310\n",
            "Epoch 21/50\n",
            "3/3 [==============================] - 0s 122ms/step - loss: 0.1046 - accuracy: 0.9697 - val_loss: 0.7374 - val_accuracy: 0.8290\n",
            "Epoch 22/50\n",
            "3/3 [==============================] - 0s 124ms/step - loss: 0.0831 - accuracy: 0.9765 - val_loss: 0.7619 - val_accuracy: 0.8410\n",
            "Epoch 23/50\n",
            "3/3 [==============================] - 0s 127ms/step - loss: 0.0646 - accuracy: 0.9821 - val_loss: 0.7983 - val_accuracy: 0.8429\n",
            "Epoch 24/50\n",
            "3/3 [==============================] - 0s 128ms/step - loss: 0.0515 - accuracy: 0.9858 - val_loss: 0.8192 - val_accuracy: 0.8529\n",
            "Epoch 25/50\n",
            "3/3 [==============================] - 0s 122ms/step - loss: 0.0418 - accuracy: 0.9887 - val_loss: 0.8578 - val_accuracy: 0.8469\n",
            "Epoch 26/50\n",
            "3/3 [==============================] - 0s 128ms/step - loss: 0.0306 - accuracy: 0.9920 - val_loss: 0.8939 - val_accuracy: 0.8410\n",
            "Epoch 27/50\n",
            "3/3 [==============================] - 0s 124ms/step - loss: 0.0264 - accuracy: 0.9920 - val_loss: 0.9403 - val_accuracy: 0.8330\n",
            "Epoch 28/50\n",
            "3/3 [==============================] - ETA: 0s - loss: 0.0195 - accuracy: 0.9947Restoring model weights from the end of the best epoch: 18.\n",
            "3/3 [==============================] - 0s 126ms/step - loss: 0.0195 - accuracy: 0.9947 - val_loss: 0.9701 - val_accuracy: 0.8370\n",
            "Epoch 28: early stopping\n",
            "40/40 [==============================] - 1s 4ms/step\n",
            "Epoch 1/50\n",
            "3/3 [==============================] - 4s 1s/step - loss: 1.2955 - accuracy: 0.3068 - val_loss: 1.2067 - val_accuracy: 0.4394\n",
            "Epoch 2/50\n",
            "3/3 [==============================] - 0s 149ms/step - loss: 1.1588 - accuracy: 0.4978 - val_loss: 1.1558 - val_accuracy: 0.4374\n",
            "Epoch 3/50\n",
            "3/3 [==============================] - 0s 105ms/step - loss: 1.1224 - accuracy: 0.4721 - val_loss: 1.1270 - val_accuracy: 0.5050\n",
            "Epoch 4/50\n",
            "3/3 [==============================] - 0s 139ms/step - loss: 1.0766 - accuracy: 0.6204 - val_loss: 1.1033 - val_accuracy: 0.5388\n",
            "Epoch 5/50\n",
            "3/3 [==============================] - 0s 138ms/step - loss: 1.0298 - accuracy: 0.6383 - val_loss: 1.0574 - val_accuracy: 0.5666\n",
            "Epoch 6/50\n",
            "3/3 [==============================] - 0s 158ms/step - loss: 0.9520 - accuracy: 0.6591 - val_loss: 0.9799 - val_accuracy: 0.6143\n",
            "Epoch 7/50\n",
            "3/3 [==============================] - 0s 133ms/step - loss: 0.8390 - accuracy: 0.7039 - val_loss: 0.8947 - val_accuracy: 0.6421\n",
            "Epoch 8/50\n",
            "3/3 [==============================] - 0s 130ms/step - loss: 0.7133 - accuracy: 0.7393 - val_loss: 0.7961 - val_accuracy: 0.6839\n",
            "Epoch 9/50\n",
            "3/3 [==============================] - 0s 163ms/step - loss: 0.5949 - accuracy: 0.7888 - val_loss: 0.7378 - val_accuracy: 0.7078\n",
            "Epoch 10/50\n",
            "3/3 [==============================] - 0s 156ms/step - loss: 0.4932 - accuracy: 0.8163 - val_loss: 0.6663 - val_accuracy: 0.7813\n",
            "Epoch 11/50\n",
            "3/3 [==============================] - 0s 137ms/step - loss: 0.3969 - accuracy: 0.8871 - val_loss: 0.6323 - val_accuracy: 0.7813\n",
            "Epoch 12/50\n",
            "3/3 [==============================] - 0s 156ms/step - loss: 0.3124 - accuracy: 0.9000 - val_loss: 0.5821 - val_accuracy: 0.8012\n",
            "Epoch 13/50\n",
            "3/3 [==============================] - 0s 155ms/step - loss: 0.2421 - accuracy: 0.9272 - val_loss: 0.5699 - val_accuracy: 0.7992\n",
            "Epoch 14/50\n",
            "3/3 [==============================] - 0s 85ms/step - loss: 0.1879 - accuracy: 0.9471 - val_loss: 0.5374 - val_accuracy: 0.8310\n",
            "Epoch 15/50\n",
            "3/3 [==============================] - 0s 130ms/step - loss: 0.1428 - accuracy: 0.9655 - val_loss: 0.5460 - val_accuracy: 0.8191\n",
            "Epoch 16/50\n",
            "3/3 [==============================] - 1s 218ms/step - loss: 0.1069 - accuracy: 0.9785 - val_loss: 0.5594 - val_accuracy: 0.8290\n",
            "Epoch 17/50\n",
            "3/3 [==============================] - 1s 167ms/step - loss: 0.0814 - accuracy: 0.9843 - val_loss: 0.5419 - val_accuracy: 0.8370\n",
            "Epoch 18/50\n",
            "3/3 [==============================] - 0s 149ms/step - loss: 0.0603 - accuracy: 0.9869 - val_loss: 0.5680 - val_accuracy: 0.8370\n",
            "Epoch 19/50\n",
            "3/3 [==============================] - 0s 125ms/step - loss: 0.0459 - accuracy: 0.9914 - val_loss: 0.5827 - val_accuracy: 0.8410\n",
            "Epoch 20/50\n",
            "3/3 [==============================] - 0s 170ms/step - loss: 0.0338 - accuracy: 0.9951 - val_loss: 0.5976 - val_accuracy: 0.8469\n",
            "Epoch 21/50\n",
            "3/3 [==============================] - 1s 435ms/step - loss: 0.0270 - accuracy: 0.9949 - val_loss: 0.6102 - val_accuracy: 0.8469\n",
            "Epoch 22/50\n",
            "3/3 [==============================] - 1s 233ms/step - loss: 0.0216 - accuracy: 0.9967 - val_loss: 0.6380 - val_accuracy: 0.8429\n",
            "Epoch 23/50\n",
            "3/3 [==============================] - 1s 225ms/step - loss: 0.0176 - accuracy: 0.9962 - val_loss: 0.6310 - val_accuracy: 0.8529\n",
            "Epoch 24/50\n",
            "3/3 [==============================] - ETA: 0s - loss: 0.0143 - accuracy: 0.9971Restoring model weights from the end of the best epoch: 14.\n",
            "3/3 [==============================] - 1s 240ms/step - loss: 0.0143 - accuracy: 0.9971 - val_loss: 0.6609 - val_accuracy: 0.8469\n",
            "Epoch 24: early stopping\n",
            "40/40 [==============================] - 0s 3ms/step\n",
            "Epoch 1/50\n",
            "3/3 [==============================] - 3s 258ms/step - loss: 1.8330 - accuracy: 0.3557 - val_loss: 1.7944 - val_accuracy: 0.3539\n",
            "Epoch 2/50\n",
            "3/3 [==============================] - 0s 143ms/step - loss: 1.7946 - accuracy: 0.3557 - val_loss: 1.7589 - val_accuracy: 0.3539\n",
            "Epoch 3/50\n",
            "3/3 [==============================] - 0s 142ms/step - loss: 1.7593 - accuracy: 0.3557 - val_loss: 1.7263 - val_accuracy: 0.3539\n",
            "Epoch 4/50\n",
            "3/3 [==============================] - 0s 134ms/step - loss: 1.7268 - accuracy: 0.3557 - val_loss: 1.6963 - val_accuracy: 0.3539\n",
            "Epoch 5/50\n",
            "3/3 [==============================] - 0s 129ms/step - loss: 1.6965 - accuracy: 0.3557 - val_loss: 1.6683 - val_accuracy: 0.3539\n",
            "Epoch 6/50\n",
            "3/3 [==============================] - 1s 211ms/step - loss: 1.6685 - accuracy: 0.3557 - val_loss: 1.6420 - val_accuracy: 0.3539\n",
            "Epoch 7/50\n",
            "3/3 [==============================] - 1s 211ms/step - loss: 1.6420 - accuracy: 0.3557 - val_loss: 1.6170 - val_accuracy: 0.3539\n",
            "Epoch 8/50\n",
            "3/3 [==============================] - 1s 222ms/step - loss: 1.6169 - accuracy: 0.3557 - val_loss: 1.5934 - val_accuracy: 0.3539\n",
            "Epoch 9/50\n",
            "3/3 [==============================] - 1s 217ms/step - loss: 1.5932 - accuracy: 0.3557 - val_loss: 1.5711 - val_accuracy: 0.3539\n",
            "Epoch 10/50\n",
            "3/3 [==============================] - 1s 213ms/step - loss: 1.5708 - accuracy: 0.3557 - val_loss: 1.5501 - val_accuracy: 0.3539\n",
            "Epoch 11/50\n",
            "3/3 [==============================] - 0s 155ms/step - loss: 1.5495 - accuracy: 0.3557 - val_loss: 1.5303 - val_accuracy: 0.3539\n",
            "Epoch 12/50\n",
            "3/3 [==============================] - 0s 164ms/step - loss: 1.5294 - accuracy: 0.3557 - val_loss: 1.5115 - val_accuracy: 0.3539\n",
            "Epoch 13/50\n",
            "3/3 [==============================] - 0s 143ms/step - loss: 1.5105 - accuracy: 0.3557 - val_loss: 1.4936 - val_accuracy: 0.3539\n",
            "Epoch 14/50\n",
            "3/3 [==============================] - 0s 142ms/step - loss: 1.4925 - accuracy: 0.3557 - val_loss: 1.4766 - val_accuracy: 0.3539\n",
            "Epoch 15/50\n",
            "3/3 [==============================] - 0s 143ms/step - loss: 1.4753 - accuracy: 0.3557 - val_loss: 1.4604 - val_accuracy: 0.3539\n",
            "Epoch 16/50\n",
            "3/3 [==============================] - 0s 152ms/step - loss: 1.4590 - accuracy: 0.3557 - val_loss: 1.4450 - val_accuracy: 0.3539\n",
            "Epoch 17/50\n",
            "3/3 [==============================] - 0s 146ms/step - loss: 1.4435 - accuracy: 0.3557 - val_loss: 1.4304 - val_accuracy: 0.3539\n",
            "Epoch 18/50\n",
            "3/3 [==============================] - 0s 109ms/step - loss: 1.4285 - accuracy: 0.3557 - val_loss: 1.4165 - val_accuracy: 0.3539\n",
            "Epoch 19/50\n",
            "3/3 [==============================] - 0s 104ms/step - loss: 1.4145 - accuracy: 0.3557 - val_loss: 1.4034 - val_accuracy: 0.3539\n",
            "Epoch 20/50\n",
            "3/3 [==============================] - 0s 146ms/step - loss: 1.4011 - accuracy: 0.3557 - val_loss: 1.3909 - val_accuracy: 0.3539\n",
            "Epoch 21/50\n",
            "3/3 [==============================] - 0s 134ms/step - loss: 1.3886 - accuracy: 0.3557 - val_loss: 1.3791 - val_accuracy: 0.3539\n",
            "Epoch 22/50\n",
            "3/3 [==============================] - 0s 133ms/step - loss: 1.3766 - accuracy: 0.3557 - val_loss: 1.3680 - val_accuracy: 0.3539\n",
            "Epoch 23/50\n",
            "3/3 [==============================] - 0s 139ms/step - loss: 1.3652 - accuracy: 0.3557 - val_loss: 1.3573 - val_accuracy: 0.3539\n",
            "Epoch 24/50\n",
            "3/3 [==============================] - 0s 137ms/step - loss: 1.3545 - accuracy: 0.3557 - val_loss: 1.3473 - val_accuracy: 0.3539\n",
            "Epoch 25/50\n",
            "3/3 [==============================] - 0s 133ms/step - loss: 1.3443 - accuracy: 0.3557 - val_loss: 1.3378 - val_accuracy: 0.3539\n",
            "Epoch 26/50\n",
            "3/3 [==============================] - 0s 140ms/step - loss: 1.3347 - accuracy: 0.3557 - val_loss: 1.3289 - val_accuracy: 0.3539\n",
            "Epoch 27/50\n",
            "3/3 [==============================] - 0s 156ms/step - loss: 1.3256 - accuracy: 0.3557 - val_loss: 1.3205 - val_accuracy: 0.3539\n",
            "Epoch 28/50\n",
            "3/3 [==============================] - 0s 131ms/step - loss: 1.3171 - accuracy: 0.3557 - val_loss: 1.3125 - val_accuracy: 0.3539\n",
            "Epoch 29/50\n",
            "3/3 [==============================] - 0s 154ms/step - loss: 1.3089 - accuracy: 0.3557 - val_loss: 1.3049 - val_accuracy: 0.3539\n",
            "Epoch 30/50\n",
            "3/3 [==============================] - 0s 97ms/step - loss: 1.3012 - accuracy: 0.3557 - val_loss: 1.2977 - val_accuracy: 0.3539\n",
            "Epoch 31/50\n",
            "3/3 [==============================] - 0s 100ms/step - loss: 1.2938 - accuracy: 0.3557 - val_loss: 1.2908 - val_accuracy: 0.3539\n",
            "Epoch 32/50\n",
            "3/3 [==============================] - 0s 90ms/step - loss: 1.2868 - accuracy: 0.3557 - val_loss: 1.2844 - val_accuracy: 0.3539\n",
            "Epoch 33/50\n",
            "3/3 [==============================] - 0s 140ms/step - loss: 1.2802 - accuracy: 0.3557 - val_loss: 1.2783 - val_accuracy: 0.3539\n",
            "Epoch 34/50\n",
            "3/3 [==============================] - 0s 131ms/step - loss: 1.2740 - accuracy: 0.3557 - val_loss: 1.2725 - val_accuracy: 0.3539\n",
            "Epoch 35/50\n",
            "3/3 [==============================] - 0s 98ms/step - loss: 1.2681 - accuracy: 0.3557 - val_loss: 1.2671 - val_accuracy: 0.3539\n",
            "Epoch 36/50\n",
            "3/3 [==============================] - 0s 106ms/step - loss: 1.2625 - accuracy: 0.3557 - val_loss: 1.2619 - val_accuracy: 0.3539\n",
            "Epoch 37/50\n",
            "3/3 [==============================] - 0s 136ms/step - loss: 1.2571 - accuracy: 0.3557 - val_loss: 1.2570 - val_accuracy: 0.3539\n",
            "Epoch 38/50\n",
            "3/3 [==============================] - 0s 155ms/step - loss: 1.2521 - accuracy: 0.3557 - val_loss: 1.2524 - val_accuracy: 0.3539\n",
            "Epoch 39/50\n",
            "3/3 [==============================] - 0s 55ms/step - loss: 1.2474 - accuracy: 0.3557 - val_loss: 1.2480 - val_accuracy: 0.3539\n",
            "Epoch 40/50\n",
            "3/3 [==============================] - 0s 65ms/step - loss: 1.2429 - accuracy: 0.3557 - val_loss: 1.2439 - val_accuracy: 0.3539\n",
            "Epoch 41/50\n",
            "3/3 [==============================] - 0s 144ms/step - loss: 1.2386 - accuracy: 0.3557 - val_loss: 1.2400 - val_accuracy: 0.3539\n",
            "Epoch 42/50\n",
            "3/3 [==============================] - 0s 144ms/step - loss: 1.2346 - accuracy: 0.3557 - val_loss: 1.2363 - val_accuracy: 0.3539\n",
            "Epoch 43/50\n",
            "3/3 [==============================] - 0s 136ms/step - loss: 1.2307 - accuracy: 0.3557 - val_loss: 1.2328 - val_accuracy: 0.3539\n",
            "Epoch 44/50\n",
            "3/3 [==============================] - 1s 209ms/step - loss: 1.2271 - accuracy: 0.3557 - val_loss: 1.2294 - val_accuracy: 0.3539\n",
            "Epoch 45/50\n",
            "3/3 [==============================] - 1s 214ms/step - loss: 1.2236 - accuracy: 0.3557 - val_loss: 1.2263 - val_accuracy: 0.3539\n",
            "Epoch 46/50\n",
            "3/3 [==============================] - 0s 130ms/step - loss: 1.2204 - accuracy: 0.3557 - val_loss: 1.2232 - val_accuracy: 0.3539\n",
            "Epoch 47/50\n",
            "3/3 [==============================] - 1s 216ms/step - loss: 1.2172 - accuracy: 0.3557 - val_loss: 1.2204 - val_accuracy: 0.3539\n",
            "Epoch 48/50\n",
            "3/3 [==============================] - 0s 139ms/step - loss: 1.2142 - accuracy: 0.3557 - val_loss: 1.2177 - val_accuracy: 0.3539\n",
            "Epoch 49/50\n",
            "3/3 [==============================] - 0s 130ms/step - loss: 1.2114 - accuracy: 0.3557 - val_loss: 1.2150 - val_accuracy: 0.3539\n",
            "Epoch 50/50\n",
            "3/3 [==============================] - 0s 135ms/step - loss: 1.2086 - accuracy: 0.3557 - val_loss: 1.2126 - val_accuracy: 0.3539\n",
            "40/40 [==============================] - 0s 2ms/step\n"
          ]
        }
      ]
    },
    {
      "cell_type": "code",
      "source": [
        "# iterate through rows\n",
        "for i in range(0,len(predict_a)):\n",
        "# iterate through columns\n",
        "    for j in range(0,len(predict_a[0])):\n",
        "        predict_a[i][j] = predict_a[i][j] + predict_b[i][j] + predict_c[i][j]"
      ],
      "metadata": {
        "id": "KB-hOkQLUE6k"
      },
      "execution_count": null,
      "outputs": []
    },
    {
      "cell_type": "code",
      "source": [
        "ensemble_prd=[]\n",
        "for j in range(0,len(predict_a)):\n",
        "  for i in range(0,len(predict_a[j])):\n",
        "    if predict_a[j][i] == max(predict_a[j]):\n",
        "      ensemble_prd.append(i)\n",
        "\n",
        "#printing the results\n",
        "print(classification_report(y_testT3, ensemble_prd, target_names=['treatment','chronic','cancer','allergy']))\n",
        "print('Matthews Corelation Score (MCC) : ',matthews_corrcoef(y_testT3, ensemble_prd))"
      ],
      "metadata": {
        "colab": {
          "base_uri": "https://localhost:8080/"
        },
        "id": "dKo9wVNoUHMv",
        "outputId": "ce5dbdb2-b938-4d19-eaf6-a8f55aa29dab"
      },
      "execution_count": null,
      "outputs": [
        {
          "output_type": "stream",
          "name": "stdout",
          "text": [
            "              precision    recall  f1-score   support\n",
            "\n",
            "   treatment       0.76      0.87      0.81       439\n",
            "     chronic       0.88      0.90      0.89       576\n",
            "      cancer       0.85      0.70      0.77       199\n",
            "     allergy       1.00      0.05      0.09        42\n",
            "\n",
            "    accuracy                           0.83      1256\n",
            "   macro avg       0.87      0.63      0.64      1256\n",
            "weighted avg       0.84      0.83      0.81      1256\n",
            "\n",
            "Matthews Corelation Score (MCC) :  0.7263883886372967\n"
          ]
        }
      ]
    },
    {
      "cell_type": "markdown",
      "metadata": {
        "id": "n8hxNurJpG9O"
      },
      "source": [
        "###Continual Learning"
      ]
    },
    {
      "cell_type": "code",
      "source": [
        "def choose_data_model(data, model):\n",
        "  tokenizer_w = WhitespaceTokenizer()\n",
        "  tokenizerT1 = Tokenizer(oov_token='oov')\n",
        "\n",
        "  if data=='T1':\n",
        "    tokenizerT1.fit_on_texts(T1['text'])\n",
        "  elif data=='T2':\n",
        "    tokenizerT1.fit_on_texts(T2['text'])\n",
        "  elif data=='T3':\n",
        "    tokenizerT1.fit_on_texts(T3['text'])\n",
        "\n",
        "  word_indexT1 = tokenizerT1.word_index\n",
        "  vocabulary_sizeT1 =len(word_indexT1)+1\n",
        "\n",
        "  if model=='LSTM':\n",
        "    model_opted = create_model_lstm(vocabulary_sizeT1)\n",
        "  elif model=='CNN':\n",
        "    model_opted = create_model_cnn(vocabulary_sizeT1)\n",
        "  elif model=='PNN':\n",
        "    model_opted = create_model_pnn(vocabulary_sizeT1)\n",
        "\n",
        "  return tokenizerT1, model_opted\n"
      ],
      "metadata": {
        "id": "Jg6SIfAk0aNV"
      },
      "execution_count": null,
      "outputs": []
    },
    {
      "cell_type": "code",
      "source": [
        "model='LSTM' #choose either CNN or PNN\n",
        "data='T1' #choose either T2 or T3\n",
        "tokenizerT1, model_lstm = choose_data_model(data, model)"
      ],
      "metadata": {
        "id": "nvEgNMyV2l-i"
      },
      "execution_count": null,
      "outputs": []
    },
    {
      "cell_type": "code",
      "source": [
        "train_sequencesT1 = tokenizerT1.texts_to_sequences(X_trainT1)\n",
        "test_sequencesT1 = tokenizerT1.texts_to_sequences(X_testT1)\n",
        "vector_size=50\n",
        "#vector_size=200 # for embedding\n",
        "train_dataT1 = pad_sequences(train_sequencesT1, maxlen=vector_size, padding='post',truncating='pre')\n",
        "test_dataT1 = pad_sequences(test_sequencesT1, maxlen=vector_size, padding='post')\n",
        "\n",
        "#In continual learning, there will be only one tokenizer\n",
        "train_sequencesT2 = tokenizerT1.texts_to_sequences(X_trainT2)\n",
        "test_sequencesT2 = tokenizerT1.texts_to_sequences(X_testT2)\n",
        "vector_size=50\n",
        "#vector_size=200 # for embedding\n",
        "train_dataT2 = pad_sequences(train_sequencesT2, maxlen=vector_size, padding='post',truncating='pre')\n",
        "test_dataT2 = pad_sequences(test_sequencesT2, maxlen=vector_size, padding='post')\n",
        "\n",
        "train_sequencesT3 = tokenizerT1.texts_to_sequences(X_trainT3)\n",
        "test_sequencesT3 = tokenizerT1.texts_to_sequences(X_testT3)\n",
        "vector_size=50\n",
        "#vector_size=200 # for embedding\n",
        "train_dataT3 = pad_sequences(train_sequencesT3, maxlen=vector_size, padding='post',truncating='pre')\n",
        "test_dataT3 = pad_sequences(test_sequencesT3, maxlen=vector_size, padding='post')"
      ],
      "metadata": {
        "id": "g0rhbA4hbQIH"
      },
      "execution_count": null,
      "outputs": []
    },
    {
      "cell_type": "markdown",
      "source": [
        "#### Training"
      ],
      "metadata": {
        "id": "fdbK1E0LeIXY"
      }
    },
    {
      "cell_type": "markdown",
      "source": [
        "We can have different training and testing sets based on our requirements."
      ],
      "metadata": {
        "id": "9S_zBqHoefsh"
      }
    },
    {
      "cell_type": "code",
      "source": [
        "model_lstm.compile(loss='categorical_crossentropy', optimizer='adam', metrics=['accuracy'])\n",
        "early_stopping = EarlyStopping(monitor='val_loss', min_delta=0.0001, patience=10, verbose=1, restore_best_weights=True)\n",
        "callbacks_list = [early_stopping]\n",
        "\n",
        "#Select desired training sequence\n",
        "model_lstm.fit(train_dataT1, tf.keras.utils.to_categorical(y_trainT1, num_classes=4, dtype='float32'), validation_split=0.1, epochs = 50, callbacks=callbacks_list, batch_size=2048)\n",
        "\n",
        "#Further train the same model on G2\n",
        "model_lstm.fit(train_dataT2, tf.keras.utils.to_categorical(y_trainT2, num_classes=4, dtype='float32'), validation_split=0.1, epochs = 50, callbacks=callbacks_list, batch_size=2048)\n",
        "\n",
        "##Further train the same model on G3\n",
        "model_lstm.fit(train_dataT3, tf.keras.utils.to_categorical(y_trainT3, num_classes=4, dtype='float32'), validation_split=0.1, epochs = 50, callbacks=callbacks_list, batch_size=2048)"
      ],
      "metadata": {
        "colab": {
          "base_uri": "https://localhost:8080/"
        },
        "id": "9Wh_0XhnbrA8",
        "outputId": "fa9322a4-0993-4b02-a057-1c3f8a234172"
      },
      "execution_count": null,
      "outputs": [
        {
          "output_type": "stream",
          "name": "stdout",
          "text": [
            "Epoch 1/50\n",
            "3/3 [==============================] - 5s 507ms/step - loss: 1.3507 - accuracy: 0.3163 - val_loss: 1.2788 - val_accuracy: 0.3837\n",
            "Epoch 2/50\n",
            "3/3 [==============================] - 1s 209ms/step - loss: 1.2312 - accuracy: 0.4094 - val_loss: 1.1849 - val_accuracy: 0.5331\n",
            "Epoch 3/50\n",
            "3/3 [==============================] - 1s 190ms/step - loss: 1.1351 - accuracy: 0.5777 - val_loss: 1.1765 - val_accuracy: 0.4448\n",
            "Epoch 4/50\n",
            "3/3 [==============================] - 1s 200ms/step - loss: 1.1147 - accuracy: 0.4854 - val_loss: 1.1335 - val_accuracy: 0.4788\n",
            "Epoch 5/50\n",
            "3/3 [==============================] - 1s 202ms/step - loss: 1.0639 - accuracy: 0.5734 - val_loss: 1.0778 - val_accuracy: 0.5739\n",
            "Epoch 6/50\n",
            "3/3 [==============================] - 0s 204ms/step - loss: 1.0245 - accuracy: 0.6240 - val_loss: 1.0453 - val_accuracy: 0.5925\n",
            "Epoch 7/50\n",
            "3/3 [==============================] - 0s 92ms/step - loss: 0.9840 - accuracy: 0.6395 - val_loss: 0.9919 - val_accuracy: 0.6027\n",
            "Epoch 8/50\n",
            "3/3 [==============================] - 0s 88ms/step - loss: 0.9159 - accuracy: 0.6529 - val_loss: 0.9367 - val_accuracy: 0.6197\n",
            "Epoch 9/50\n",
            "3/3 [==============================] - 0s 135ms/step - loss: 0.8452 - accuracy: 0.6686 - val_loss: 0.8721 - val_accuracy: 0.6452\n",
            "Epoch 10/50\n",
            "3/3 [==============================] - 0s 141ms/step - loss: 0.7614 - accuracy: 0.6995 - val_loss: 0.7875 - val_accuracy: 0.6859\n",
            "Epoch 11/50\n",
            "3/3 [==============================] - 0s 133ms/step - loss: 0.6620 - accuracy: 0.7411 - val_loss: 0.7070 - val_accuracy: 0.7267\n",
            "Epoch 12/50\n",
            "3/3 [==============================] - 0s 130ms/step - loss: 0.5618 - accuracy: 0.8008 - val_loss: 0.6495 - val_accuracy: 0.7538\n",
            "Epoch 13/50\n",
            "3/3 [==============================] - 0s 86ms/step - loss: 0.4711 - accuracy: 0.8546 - val_loss: 0.6200 - val_accuracy: 0.7691\n",
            "Epoch 14/50\n",
            "3/3 [==============================] - 0s 134ms/step - loss: 0.3923 - accuracy: 0.8812 - val_loss: 0.6032 - val_accuracy: 0.7895\n",
            "Epoch 15/50\n",
            "3/3 [==============================] - 0s 93ms/step - loss: 0.3254 - accuracy: 0.9027 - val_loss: 0.5663 - val_accuracy: 0.8115\n",
            "Epoch 16/50\n",
            "3/3 [==============================] - 0s 128ms/step - loss: 0.2638 - accuracy: 0.9212 - val_loss: 0.5370 - val_accuracy: 0.8353\n",
            "Epoch 17/50\n",
            "3/3 [==============================] - 0s 135ms/step - loss: 0.2121 - accuracy: 0.9318 - val_loss: 0.4934 - val_accuracy: 0.8421\n",
            "Epoch 18/50\n",
            "3/3 [==============================] - 0s 89ms/step - loss: 0.1682 - accuracy: 0.9458 - val_loss: 0.4903 - val_accuracy: 0.8523\n",
            "Epoch 19/50\n",
            "3/3 [==============================] - 0s 129ms/step - loss: 0.1388 - accuracy: 0.9592 - val_loss: 0.4627 - val_accuracy: 0.8778\n",
            "Epoch 20/50\n",
            "3/3 [==============================] - 0s 84ms/step - loss: 0.1125 - accuracy: 0.9692 - val_loss: 0.4613 - val_accuracy: 0.8778\n",
            "Epoch 21/50\n",
            "3/3 [==============================] - 0s 131ms/step - loss: 0.0899 - accuracy: 0.9790 - val_loss: 0.4742 - val_accuracy: 0.8710\n",
            "Epoch 22/50\n",
            "3/3 [==============================] - 0s 79ms/step - loss: 0.0729 - accuracy: 0.9834 - val_loss: 0.4736 - val_accuracy: 0.8896\n",
            "Epoch 23/50\n",
            "3/3 [==============================] - 0s 123ms/step - loss: 0.0590 - accuracy: 0.9864 - val_loss: 0.4819 - val_accuracy: 0.8795\n",
            "Epoch 24/50\n",
            "3/3 [==============================] - 0s 83ms/step - loss: 0.0467 - accuracy: 0.9911 - val_loss: 0.4868 - val_accuracy: 0.8879\n",
            "Epoch 25/50\n",
            "3/3 [==============================] - 0s 117ms/step - loss: 0.0378 - accuracy: 0.9934 - val_loss: 0.4957 - val_accuracy: 0.8829\n",
            "Epoch 26/50\n",
            "3/3 [==============================] - 0s 126ms/step - loss: 0.0301 - accuracy: 0.9947 - val_loss: 0.5058 - val_accuracy: 0.8778\n",
            "Epoch 27/50\n",
            "3/3 [==============================] - 0s 136ms/step - loss: 0.0271 - accuracy: 0.9949 - val_loss: 0.5034 - val_accuracy: 0.8812\n",
            "Epoch 28/50\n",
            "3/3 [==============================] - 0s 122ms/step - loss: 0.0213 - accuracy: 0.9958 - val_loss: 0.5242 - val_accuracy: 0.8778\n",
            "Epoch 29/50\n",
            "3/3 [==============================] - 0s 122ms/step - loss: 0.0179 - accuracy: 0.9966 - val_loss: 0.5578 - val_accuracy: 0.8676\n",
            "Epoch 30/50\n",
            "3/3 [==============================] - ETA: 0s - loss: 0.0147 - accuracy: 0.9972Restoring model weights from the end of the best epoch: 20.\n",
            "3/3 [==============================] - 1s 397ms/step - loss: 0.0147 - accuracy: 0.9972 - val_loss: 0.5573 - val_accuracy: 0.8727\n",
            "Epoch 30: early stopping\n",
            "Epoch 1/50\n",
            "3/3 [==============================] - 0s 150ms/step - loss: 0.6757 - accuracy: 0.8291 - val_loss: 0.5197 - val_accuracy: 0.8317\n",
            "Epoch 2/50\n",
            "3/3 [==============================] - 0s 131ms/step - loss: 0.4831 - accuracy: 0.8455 - val_loss: 0.4277 - val_accuracy: 0.8356\n",
            "Epoch 3/50\n",
            "3/3 [==============================] - 0s 158ms/step - loss: 0.3825 - accuracy: 0.8715 - val_loss: 0.4053 - val_accuracy: 0.8453\n",
            "Epoch 4/50\n",
            "3/3 [==============================] - 1s 198ms/step - loss: 0.3364 - accuracy: 0.8920 - val_loss: 0.3778 - val_accuracy: 0.8627\n",
            "Epoch 5/50\n",
            "3/3 [==============================] - 1s 210ms/step - loss: 0.2960 - accuracy: 0.9070 - val_loss: 0.3610 - val_accuracy: 0.8646\n",
            "Epoch 6/50\n",
            "3/3 [==============================] - 1s 197ms/step - loss: 0.2534 - accuracy: 0.9227 - val_loss: 0.3517 - val_accuracy: 0.8743\n",
            "Epoch 7/50\n",
            "3/3 [==============================] - 1s 201ms/step - loss: 0.2143 - accuracy: 0.9326 - val_loss: 0.3336 - val_accuracy: 0.8801\n",
            "Epoch 8/50\n",
            "3/3 [==============================] - 0s 121ms/step - loss: 0.1799 - accuracy: 0.9434 - val_loss: 0.3369 - val_accuracy: 0.8762\n",
            "Epoch 9/50\n",
            "3/3 [==============================] - 0s 128ms/step - loss: 0.1476 - accuracy: 0.9529 - val_loss: 0.3448 - val_accuracy: 0.8839\n",
            "Epoch 10/50\n",
            "3/3 [==============================] - 1s 179ms/step - loss: 0.1277 - accuracy: 0.9606 - val_loss: 0.3462 - val_accuracy: 0.8704\n",
            "Epoch 11/50\n",
            "3/3 [==============================] - 0s 145ms/step - loss: 0.1079 - accuracy: 0.9684 - val_loss: 0.3818 - val_accuracy: 0.8781\n",
            "Epoch 12/50\n",
            "3/3 [==============================] - 0s 123ms/step - loss: 0.0954 - accuracy: 0.9714 - val_loss: 0.3675 - val_accuracy: 0.8723\n",
            "Epoch 13/50\n",
            "3/3 [==============================] - 0s 137ms/step - loss: 0.0806 - accuracy: 0.9759 - val_loss: 0.3617 - val_accuracy: 0.8839\n",
            "Epoch 14/50\n",
            "3/3 [==============================] - 0s 129ms/step - loss: 0.0703 - accuracy: 0.9798 - val_loss: 0.4022 - val_accuracy: 0.8704\n",
            "Epoch 15/50\n",
            "3/3 [==============================] - 0s 124ms/step - loss: 0.0587 - accuracy: 0.9847 - val_loss: 0.4334 - val_accuracy: 0.8723\n",
            "Epoch 16/50\n",
            "3/3 [==============================] - 0s 133ms/step - loss: 0.0509 - accuracy: 0.9875 - val_loss: 0.4164 - val_accuracy: 0.8801\n",
            "Epoch 17/50\n",
            "3/3 [==============================] - ETA: 0s - loss: 0.0471 - accuracy: 0.9879Restoring model weights from the end of the best epoch: 7.\n",
            "3/3 [==============================] - 1s 244ms/step - loss: 0.0471 - accuracy: 0.9879 - val_loss: 0.4549 - val_accuracy: 0.8627\n",
            "Epoch 17: early stopping\n",
            "Epoch 1/50\n",
            "3/3 [==============================] - 1s 370ms/step - loss: 0.3808 - accuracy: 0.8643 - val_loss: 0.3574 - val_accuracy: 0.8728\n",
            "Epoch 2/50\n",
            "3/3 [==============================] - 1s 218ms/step - loss: 0.3438 - accuracy: 0.8747 - val_loss: 0.3554 - val_accuracy: 0.8887\n",
            "Epoch 3/50\n",
            "3/3 [==============================] - 0s 231ms/step - loss: 0.3049 - accuracy: 0.8935 - val_loss: 0.3381 - val_accuracy: 0.8827\n",
            "Epoch 4/50\n",
            "3/3 [==============================] - 0s 136ms/step - loss: 0.2569 - accuracy: 0.9115 - val_loss: 0.3241 - val_accuracy: 0.8787\n",
            "Epoch 5/50\n",
            "3/3 [==============================] - 0s 150ms/step - loss: 0.2187 - accuracy: 0.9250 - val_loss: 0.3237 - val_accuracy: 0.8887\n",
            "Epoch 6/50\n",
            "3/3 [==============================] - 1s 154ms/step - loss: 0.1860 - accuracy: 0.9387 - val_loss: 0.3289 - val_accuracy: 0.8887\n",
            "Epoch 7/50\n",
            "3/3 [==============================] - 1s 215ms/step - loss: 0.1578 - accuracy: 0.9491 - val_loss: 0.3345 - val_accuracy: 0.8847\n",
            "Epoch 8/50\n",
            "3/3 [==============================] - 0s 79ms/step - loss: 0.1329 - accuracy: 0.9588 - val_loss: 0.3422 - val_accuracy: 0.8807\n",
            "Epoch 9/50\n",
            "3/3 [==============================] - 0s 122ms/step - loss: 0.1115 - accuracy: 0.9677 - val_loss: 0.3588 - val_accuracy: 0.8787\n",
            "Epoch 10/50\n",
            "3/3 [==============================] - 0s 80ms/step - loss: 0.0960 - accuracy: 0.9706 - val_loss: 0.3740 - val_accuracy: 0.8787\n",
            "Epoch 11/50\n",
            "3/3 [==============================] - 0s 123ms/step - loss: 0.0815 - accuracy: 0.9739 - val_loss: 0.3798 - val_accuracy: 0.8887\n",
            "Epoch 12/50\n",
            "3/3 [==============================] - 0s 129ms/step - loss: 0.0688 - accuracy: 0.9803 - val_loss: 0.4055 - val_accuracy: 0.8827\n",
            "Epoch 13/50\n",
            "3/3 [==============================] - 0s 34ms/step - loss: 0.0605 - accuracy: 0.9819 - val_loss: 0.4275 - val_accuracy: 0.8807\n",
            "Epoch 14/50\n",
            "3/3 [==============================] - 0s 125ms/step - loss: 0.0541 - accuracy: 0.9834 - val_loss: 0.4660 - val_accuracy: 0.8708\n",
            "Epoch 15/50\n",
            "3/3 [==============================] - ETA: 0s - loss: 0.0504 - accuracy: 0.9876Restoring model weights from the end of the best epoch: 5.\n",
            "3/3 [==============================] - 0s 162ms/step - loss: 0.0504 - accuracy: 0.9876 - val_loss: 0.4568 - val_accuracy: 0.8867\n",
            "Epoch 15: early stopping\n"
          ]
        },
        {
          "output_type": "execute_result",
          "data": {
            "text/plain": [
              "<keras.src.callbacks.History at 0x7d714b192b00>"
            ]
          },
          "metadata": {},
          "execution_count": 38
        }
      ]
    },
    {
      "cell_type": "code",
      "source": [
        "#Performance on T1\n",
        "#Evaluation\n",
        "predict = model_lstm.predict(test_dataT1)\n",
        "accr = model_lstm.evaluate(test_dataT1, tf.keras.utils.to_categorical(y_testT1, num_classes=4, dtype='float32'))\n",
        "print('Test set\\n  Loss: {:0.3f}\\n  Accuracy: {:0.3f}'.format(accr[0],accr[1]))\n",
        "\n",
        "y_predT1=[]\n",
        "for j in range(0,len(predict)):\n",
        "  for i in range(0,len(predict[j])):\n",
        "    if predict[j][i] == max(predict[j]):\n",
        "      y_predT1.append(i)\n",
        "\n",
        "#printing the results\n",
        "print(classification_report(y_testT1, y_predT1, target_names=['treatment','chronic','cancer','allergy']))\n",
        "print('Matthews Corelation Score (MCC) : ',matthews_corrcoef(y_testT1, y_predT1))"
      ],
      "metadata": {
        "colab": {
          "base_uri": "https://localhost:8080/"
        },
        "id": "TQavKV3ieDjQ",
        "outputId": "604406d3-e68c-4cc4-a86f-65c68cb10758"
      },
      "execution_count": null,
      "outputs": [
        {
          "output_type": "stream",
          "name": "stdout",
          "text": [
            "46/46 [==============================] - 1s 4ms/step\n",
            "46/46 [==============================] - 0s 5ms/step - loss: 0.3353 - accuracy: 0.8940\n",
            "Test set\n",
            "  Loss: 0.335\n",
            "  Accuracy: 0.894\n",
            "              precision    recall  f1-score   support\n",
            "\n",
            "   treatment       0.89      0.88      0.88       538\n",
            "     chronic       0.90      0.93      0.91       640\n",
            "      cancer       0.92      0.86      0.89       256\n",
            "     allergy       0.76      0.74      0.75        38\n",
            "\n",
            "    accuracy                           0.89      1472\n",
            "   macro avg       0.87      0.85      0.86      1472\n",
            "weighted avg       0.89      0.89      0.89      1472\n",
            "\n",
            "Matthews Corelation Score (MCC) :  0.8354096847090734\n"
          ]
        }
      ]
    },
    {
      "cell_type": "code",
      "source": [
        "#Performance on T1,T2\n",
        "test_data = np.concatenate((test_dataT1, test_dataT2),axis=0)\n",
        "y_test = np.concatenate((y_testT1, y_testT2),axis=0)\n",
        "predict = model_lstm.predict(test_data)\n",
        "accr = model_lstm.evaluate(test_data, tf.keras.utils.to_categorical(y_test, num_classes=4, dtype='float32'))\n",
        "print('Test set\\n  Loss: {:0.3f}\\n  Accuracy: {:0.3f}'.format(accr[0],accr[1]))\n",
        "\n",
        "y_predT1=[]\n",
        "for j in range(0,len(predict)):\n",
        "  for i in range(0,len(predict[j])):\n",
        "    if predict[j][i] == max(predict[j]):\n",
        "      y_predT1.append(i)\n",
        "\n",
        "#printing the results\n",
        "print(classification_report(y_test, y_predT1, target_names=['treatment','chronic','cancer','allergy']))\n",
        "print('Matthews Corelation Score (MCC) : ',matthews_corrcoef(y_test, y_predT1))"
      ],
      "metadata": {
        "colab": {
          "base_uri": "https://localhost:8080/"
        },
        "id": "T14TnfdAfT3Q",
        "outputId": "aa4f3550-0850-4008-d151-2cedb5d673b0"
      },
      "execution_count": null,
      "outputs": [
        {
          "output_type": "stream",
          "name": "stdout",
          "text": [
            "87/87 [==============================] - 1s 4ms/step\n",
            "87/87 [==============================] - 0s 5ms/step - loss: 0.3322 - accuracy: 0.8914\n",
            "Test set\n",
            "  Loss: 0.332\n",
            "  Accuracy: 0.891\n",
            "              precision    recall  f1-score   support\n",
            "\n",
            "   treatment       0.87      0.89      0.88       962\n",
            "     chronic       0.90      0.92      0.91      1242\n",
            "      cancer       0.91      0.84      0.88       485\n",
            "     allergy       0.81      0.84      0.82        74\n",
            "\n",
            "    accuracy                           0.89      2763\n",
            "   macro avg       0.87      0.87      0.87      2763\n",
            "weighted avg       0.89      0.89      0.89      2763\n",
            "\n",
            "Matthews Corelation Score (MCC) :  0.8311719276630006\n"
          ]
        }
      ]
    },
    {
      "cell_type": "code",
      "source": [
        "#Performance on T1+T2+T3\n",
        "test_data = np.concatenate((test_dataT1, test_dataT2, test_dataT3),axis=0)\n",
        "y_test = np.concatenate((y_testT1, y_testT2,y_testT3),axis=0)\n",
        "predict = model_lstm.predict(test_data)\n",
        "accr = model_lstm.evaluate(test_data, tf.keras.utils.to_categorical(y_test, num_classes=4, dtype='float32'))\n",
        "print('Test set\\n  Loss: {:0.3f}\\n  Accuracy: {:0.3f}'.format(accr[0],accr[1]))\n",
        "\n",
        "y_predT1=[]\n",
        "for j in range(0,len(predict)):\n",
        "  for i in range(0,len(predict[j])):\n",
        "    if predict[j][i] == max(predict[j]):\n",
        "      y_predT1.append(i)\n",
        "\n",
        "#printing the results\n",
        "print(classification_report(y_test, y_predT1, target_names=['treatment','chronic','cancer','allergy']))\n",
        "print('Matthews Corelation Score (MCC) : ',matthews_corrcoef(y_test, y_predT1))"
      ],
      "metadata": {
        "colab": {
          "base_uri": "https://localhost:8080/"
        },
        "id": "BEZEV8cBfY56",
        "outputId": "9fc335b4-95aa-4601-c090-1804819d9e37"
      },
      "execution_count": null,
      "outputs": [
        {
          "output_type": "stream",
          "name": "stdout",
          "text": [
            "126/126 [==============================] - 1s 4ms/step\n",
            "126/126 [==============================] - 1s 5ms/step - loss: 0.3254 - accuracy: 0.8913\n",
            "Test set\n",
            "  Loss: 0.325\n",
            "  Accuracy: 0.891\n",
            "              precision    recall  f1-score   support\n",
            "\n",
            "   treatment       0.88      0.88      0.88      1401\n",
            "     chronic       0.90      0.92      0.91      1818\n",
            "      cancer       0.91      0.85      0.88       684\n",
            "     allergy       0.85      0.84      0.84       116\n",
            "\n",
            "    accuracy                           0.89      4019\n",
            "   macro avg       0.88      0.87      0.88      4019\n",
            "weighted avg       0.89      0.89      0.89      4019\n",
            "\n",
            "Matthews Corelation Score (MCC) :  0.8304698585414735\n"
          ]
        }
      ]
    },
    {
      "cell_type": "markdown",
      "source": [
        "## Extra"
      ],
      "metadata": {
        "id": "S9PlX2EVXSSQ"
      }
    },
    {
      "cell_type": "code",
      "source": [
        "!pip install keybert"
      ],
      "metadata": {
        "id": "7SIvvzmga_sh"
      },
      "execution_count": null,
      "outputs": []
    },
    {
      "cell_type": "code",
      "source": [
        "from keybert import KeyBERT"
      ],
      "metadata": {
        "id": "1gFsZVJCXUdJ"
      },
      "execution_count": null,
      "outputs": []
    },
    {
      "cell_type": "code",
      "source": [
        "file = open(\"sample.txt\")\n",
        "corpus = file.read()"
      ],
      "metadata": {
        "id": "fBxjUZWRZCVh"
      },
      "execution_count": null,
      "outputs": []
    },
    {
      "cell_type": "code",
      "source": [
        "corpus"
      ],
      "metadata": {
        "id": "KtTUmWsLXRxg"
      },
      "execution_count": null,
      "outputs": []
    },
    {
      "cell_type": "code",
      "source": [
        "kw_model = KeyBERT(\"all-MiniLM-L6-v2\")\n",
        "keys = kw_model.extract_keywords(corpus, keyphrase_ngram_range=(1, 2), stop_words='english', top_n=10, use_mmr=True)"
      ],
      "metadata": {
        "id": "oHHjn4toXb4i"
      },
      "execution_count": null,
      "outputs": []
    },
    {
      "cell_type": "code",
      "source": [
        "keys"
      ],
      "metadata": {
        "colab": {
          "base_uri": "https://localhost:8080/"
        },
        "id": "6OD3RqSPXjF6",
        "outputId": "5dec851c-eec2-44e7-c001-8071742a2037"
      },
      "execution_count": null,
      "outputs": [
        {
          "output_type": "execute_result",
          "data": {
            "text/plain": [
              "[('diabetes distress', 0.6113),\n",
              " ('suggested consultations', 0.3965),\n",
              " ('care intervention', 0.3898),\n",
              " ('patients divided', 0.3277),\n",
              " ('complication t2dm', 0.2642),\n",
              " ('information sharing', 0.2151),\n",
              " ('biochemistry departments', 0.1961),\n",
              " ('gp unaware', 0.1775),\n",
              " ('shortcomings organizational', 0.1518),\n",
              " ('sdco requirements', 0.1167)]"
            ]
          },
          "metadata": {},
          "execution_count": 20
        }
      ]
    },
    {
      "cell_type": "code",
      "source": [
        "!pip install transformers\n",
        "from transformers import pipeline"
      ],
      "metadata": {
        "id": "S_sxDXnMSXBt"
      },
      "execution_count": null,
      "outputs": []
    },
    {
      "cell_type": "code",
      "source": [
        "import warnings\n",
        "warnings.filterwarnings(\"ignore\")"
      ],
      "metadata": {
        "id": "b_atBpt8VwkB"
      },
      "execution_count": null,
      "outputs": []
    },
    {
      "cell_type": "code",
      "source": [
        "summarizer = pipeline(\"summarization\", model=\"t5-base\", tokenizer=\"t5-base\", framework=\"tf\")"
      ],
      "metadata": {
        "colab": {
          "base_uri": "https://localhost:8080/"
        },
        "id": "DWW5DFUeS0ch",
        "outputId": "e8840db5-cbea-4649-d033-c8163eda9840"
      },
      "execution_count": null,
      "outputs": [
        {
          "output_type": "stream",
          "name": "stderr",
          "text": [
            "All PyTorch model weights were used when initializing TFT5ForConditionalGeneration.\n",
            "\n",
            "All the weights of TFT5ForConditionalGeneration were initialized from the PyTorch model.\n",
            "If your task is similar to the task the model of the checkpoint was trained on, you can already use TFT5ForConditionalGeneration for predictions without further training.\n"
          ]
        }
      ]
    },
    {
      "cell_type": "code",
      "source": [
        "summarizer(corpus, min_length=5, max_length=20)"
      ],
      "metadata": {
        "colab": {
          "base_uri": "https://localhost:8080/"
        },
        "id": "k6Esba1xUlS4",
        "outputId": "3daa63ca-5066-487f-8d08-70def15e99ac"
      },
      "execution_count": null,
      "outputs": [
        {
          "output_type": "execute_result",
          "data": {
            "text/plain": [
              "[{'summary_text': 'diabetes distress is the most prevalent complication in T2DM patients, with 36% reporting'}]"
            ]
          },
          "metadata": {},
          "execution_count": 12
        }
      ]
    }
  ],
  "metadata": {
    "colab": {
      "collapsed_sections": [
        "rmm9iDYVzXMI",
        "CTYpwFyMtSex",
        "aEy5jlg8bBSE",
        "_RLxox28bQMU",
        "bbbqouHEasWB",
        "2GZyqaz7auZe",
        "2Ssxlf5Tdy8i",
        "OI2e6aq2CwPD",
        "w_nKyMJ5fYwb",
        "_7Ab28RDfuCj",
        "3NR2-gUOf6Gh",
        "6d-gwXpKB48B",
        "jMSmkZkAgfzF",
        "x410fUwnglIC",
        "3fLOJuC5gxRR",
        "_fjiI-vOCTxN",
        "W31wXZGZlhm4",
        "KAQFrtC_lkv-",
        "Z4oqz-9DWHGM",
        "O8_qQBZ5YlXx",
        "XTl7bbj8YUhR",
        "rWCbrNUwYbfU",
        "fXZBXFGnoQby",
        "PRMIoGN5ZFpl",
        "_-Ew1WHRZLZ0",
        "jvRI8xc4od1Y",
        "cxfa3pc4Zg1N",
        "c6ZS2bERZkw3",
        "6Ti4pe-Goi1g",
        "n7YHJGTuZ411",
        "PIY3Q_ORZ86y",
        "g5WjyE96pEZP",
        "QhrCAccsFRIM",
        "TkKv-CIyFTSR",
        "BRHforL-FVYz"
      ],
      "provenance": []
    },
    "kernelspec": {
      "display_name": "Python 3",
      "name": "python3"
    },
    "language_info": {
      "name": "python"
    }
  },
  "nbformat": 4,
  "nbformat_minor": 0
}